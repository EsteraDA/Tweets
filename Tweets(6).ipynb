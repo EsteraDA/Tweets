{
 "cells": [
  {
   "cell_type": "markdown",
   "id": "e8ed414a",
   "metadata": {},
   "source": [
    "# PREPARING DATA FOR CASSADRA"
   ]
  },
  {
   "cell_type": "code",
   "execution_count": 12,
   "id": "a58e4fda",
   "metadata": {},
   "outputs": [],
   "source": [
    "import pandas as pd\n"
   ]
  },
  {
   "cell_type": "code",
   "execution_count": 20,
   "id": "0f38c8e0",
   "metadata": {},
   "outputs": [],
   "source": [
    "csv_file_path = \"/home/hduser/Downloads/ProjectTweets.csv\"\n",
    "column_names =['Id','Tweet_id','Date','No_Querry','User','Tweet']\n",
    "\n",
    "\n",
    "data = pd.read_csv(csv_file_path, names=column_names)\n",
    "data.columns = column_names"
   ]
  },
  {
   "cell_type": "code",
   "execution_count": 21,
   "id": "7ea50213",
   "metadata": {},
   "outputs": [
    {
     "data": {
      "text/html": [
       "<div>\n",
       "<style scoped>\n",
       "    .dataframe tbody tr th:only-of-type {\n",
       "        vertical-align: middle;\n",
       "    }\n",
       "\n",
       "    .dataframe tbody tr th {\n",
       "        vertical-align: top;\n",
       "    }\n",
       "\n",
       "    .dataframe thead th {\n",
       "        text-align: right;\n",
       "    }\n",
       "</style>\n",
       "<table border=\"1\" class=\"dataframe\">\n",
       "  <thead>\n",
       "    <tr style=\"text-align: right;\">\n",
       "      <th></th>\n",
       "      <th>Id</th>\n",
       "      <th>Tweet_id</th>\n",
       "      <th>Date</th>\n",
       "      <th>No_Querry</th>\n",
       "      <th>User</th>\n",
       "      <th>Tweet</th>\n",
       "    </tr>\n",
       "  </thead>\n",
       "  <tbody>\n",
       "    <tr>\n",
       "      <th>0</th>\n",
       "      <td>0</td>\n",
       "      <td>1467810369</td>\n",
       "      <td>Mon Apr 06 22:19:45 PDT 2009</td>\n",
       "      <td>NO_QUERY</td>\n",
       "      <td>_TheSpecialOne_</td>\n",
       "      <td>@switchfoot http://twitpic.com/2y1zl - Awww, t...</td>\n",
       "    </tr>\n",
       "    <tr>\n",
       "      <th>1</th>\n",
       "      <td>1</td>\n",
       "      <td>1467810672</td>\n",
       "      <td>Mon Apr 06 22:19:49 PDT 2009</td>\n",
       "      <td>NO_QUERY</td>\n",
       "      <td>scotthamilton</td>\n",
       "      <td>is upset that he can't update his Facebook by ...</td>\n",
       "    </tr>\n",
       "    <tr>\n",
       "      <th>2</th>\n",
       "      <td>2</td>\n",
       "      <td>1467810917</td>\n",
       "      <td>Mon Apr 06 22:19:53 PDT 2009</td>\n",
       "      <td>NO_QUERY</td>\n",
       "      <td>mattycus</td>\n",
       "      <td>@Kenichan I dived many times for the ball. Man...</td>\n",
       "    </tr>\n",
       "    <tr>\n",
       "      <th>3</th>\n",
       "      <td>3</td>\n",
       "      <td>1467811184</td>\n",
       "      <td>Mon Apr 06 22:19:57 PDT 2009</td>\n",
       "      <td>NO_QUERY</td>\n",
       "      <td>ElleCTF</td>\n",
       "      <td>my whole body feels itchy and like its on fire</td>\n",
       "    </tr>\n",
       "    <tr>\n",
       "      <th>4</th>\n",
       "      <td>4</td>\n",
       "      <td>1467811193</td>\n",
       "      <td>Mon Apr 06 22:19:57 PDT 2009</td>\n",
       "      <td>NO_QUERY</td>\n",
       "      <td>Karoli</td>\n",
       "      <td>@nationwideclass no, it's not behaving at all....</td>\n",
       "    </tr>\n",
       "  </tbody>\n",
       "</table>\n",
       "</div>"
      ],
      "text/plain": [
       "   Id    Tweet_id                          Date No_Querry             User  \\\n",
       "0   0  1467810369  Mon Apr 06 22:19:45 PDT 2009  NO_QUERY  _TheSpecialOne_   \n",
       "1   1  1467810672  Mon Apr 06 22:19:49 PDT 2009  NO_QUERY    scotthamilton   \n",
       "2   2  1467810917  Mon Apr 06 22:19:53 PDT 2009  NO_QUERY         mattycus   \n",
       "3   3  1467811184  Mon Apr 06 22:19:57 PDT 2009  NO_QUERY          ElleCTF   \n",
       "4   4  1467811193  Mon Apr 06 22:19:57 PDT 2009  NO_QUERY           Karoli   \n",
       "\n",
       "                                               Tweet  \n",
       "0  @switchfoot http://twitpic.com/2y1zl - Awww, t...  \n",
       "1  is upset that he can't update his Facebook by ...  \n",
       "2  @Kenichan I dived many times for the ball. Man...  \n",
       "3    my whole body feels itchy and like its on fire   \n",
       "4  @nationwideclass no, it's not behaving at all....  "
      ]
     },
     "execution_count": 21,
     "metadata": {},
     "output_type": "execute_result"
    }
   ],
   "source": [
    "data.head()"
   ]
  },
  {
   "cell_type": "code",
   "execution_count": 22,
   "id": "3524cf3b",
   "metadata": {},
   "outputs": [
    {
     "name": "stdout",
     "output_type": "stream",
     "text": [
      "Total number of commas in tweets: 486760\n"
     ]
    }
   ],
   "source": [
    "comma_count = data['Tweet'].str.count(',').sum()\n",
    "print(f'Total number of commas in tweets: {comma_count}')"
   ]
  },
  {
   "cell_type": "code",
   "execution_count": 23,
   "id": "c84e6f7a",
   "metadata": {},
   "outputs": [
    {
     "name": "stdout",
     "output_type": "stream",
     "text": [
      "Total number of commas in tweets: 0\n"
     ]
    }
   ],
   "source": [
    "data['Tweet'] = data['Tweet'].str.replace(',', '')\n",
    "comma_count = data['Tweet'].str.count(',').sum()\n",
    "print(f'Total number of commas in tweets: {comma_count}')"
   ]
  },
  {
   "cell_type": "code",
   "execution_count": 27,
   "id": "3483b580",
   "metadata": {},
   "outputs": [
    {
     "name": "stdout",
     "output_type": "stream",
     "text": [
      "Defaulting to user installation because normal site-packages is not writeable\n",
      "Requirement already satisfied: python-dateutil in /usr/lib/python3/dist-packages (2.8.1)\n",
      "Note: you may need to restart the kernel to use updated packages.\n"
     ]
    }
   ],
   "source": [
    "#pip install python-dateutil"
   ]
  },
  {
   "cell_type": "code",
   "execution_count": 28,
   "id": "b29a35b3",
   "metadata": {},
   "outputs": [
    {
     "name": "stderr",
     "output_type": "stream",
     "text": [
      "/usr/lib/python3/dist-packages/dateutil/parser/_parser.py:1213: UnknownTimezoneWarning: tzname PDT identified but not understood.  Pass `tzinfos` argument in order to correctly return a timezone-aware datetime.  In a future version, this will raise an exception.\n",
      "  warnings.warn(\"tzname {tzname} identified but not understood.  \"\n"
     ]
    }
   ],
   "source": [
    "from dateutil import parser\n",
    "\n",
    "data['Date'] = data['Date'].apply(lambda x: parser.parse(x))"
   ]
  },
  {
   "cell_type": "code",
   "execution_count": 29,
   "id": "180915e1",
   "metadata": {},
   "outputs": [
    {
     "data": {
      "text/html": [
       "<div>\n",
       "<style scoped>\n",
       "    .dataframe tbody tr th:only-of-type {\n",
       "        vertical-align: middle;\n",
       "    }\n",
       "\n",
       "    .dataframe tbody tr th {\n",
       "        vertical-align: top;\n",
       "    }\n",
       "\n",
       "    .dataframe thead th {\n",
       "        text-align: right;\n",
       "    }\n",
       "</style>\n",
       "<table border=\"1\" class=\"dataframe\">\n",
       "  <thead>\n",
       "    <tr style=\"text-align: right;\">\n",
       "      <th></th>\n",
       "      <th>Id</th>\n",
       "      <th>Tweet_id</th>\n",
       "      <th>Date</th>\n",
       "      <th>No_Querry</th>\n",
       "      <th>User</th>\n",
       "      <th>Tweet</th>\n",
       "    </tr>\n",
       "  </thead>\n",
       "  <tbody>\n",
       "    <tr>\n",
       "      <th>0</th>\n",
       "      <td>0</td>\n",
       "      <td>1467810369</td>\n",
       "      <td>2009-04-06 22:19:45</td>\n",
       "      <td>NO_QUERY</td>\n",
       "      <td>_TheSpecialOne_</td>\n",
       "      <td>@switchfoot http://twitpic.com/2y1zl - Awww th...</td>\n",
       "    </tr>\n",
       "    <tr>\n",
       "      <th>1</th>\n",
       "      <td>1</td>\n",
       "      <td>1467810672</td>\n",
       "      <td>2009-04-06 22:19:49</td>\n",
       "      <td>NO_QUERY</td>\n",
       "      <td>scotthamilton</td>\n",
       "      <td>is upset that he can't update his Facebook by ...</td>\n",
       "    </tr>\n",
       "    <tr>\n",
       "      <th>2</th>\n",
       "      <td>2</td>\n",
       "      <td>1467810917</td>\n",
       "      <td>2009-04-06 22:19:53</td>\n",
       "      <td>NO_QUERY</td>\n",
       "      <td>mattycus</td>\n",
       "      <td>@Kenichan I dived many times for the ball. Man...</td>\n",
       "    </tr>\n",
       "    <tr>\n",
       "      <th>3</th>\n",
       "      <td>3</td>\n",
       "      <td>1467811184</td>\n",
       "      <td>2009-04-06 22:19:57</td>\n",
       "      <td>NO_QUERY</td>\n",
       "      <td>ElleCTF</td>\n",
       "      <td>my whole body feels itchy and like its on fire</td>\n",
       "    </tr>\n",
       "    <tr>\n",
       "      <th>4</th>\n",
       "      <td>4</td>\n",
       "      <td>1467811193</td>\n",
       "      <td>2009-04-06 22:19:57</td>\n",
       "      <td>NO_QUERY</td>\n",
       "      <td>Karoli</td>\n",
       "      <td>@nationwideclass no it's not behaving at all. ...</td>\n",
       "    </tr>\n",
       "  </tbody>\n",
       "</table>\n",
       "</div>"
      ],
      "text/plain": [
       "   Id    Tweet_id                Date No_Querry             User  \\\n",
       "0   0  1467810369 2009-04-06 22:19:45  NO_QUERY  _TheSpecialOne_   \n",
       "1   1  1467810672 2009-04-06 22:19:49  NO_QUERY    scotthamilton   \n",
       "2   2  1467810917 2009-04-06 22:19:53  NO_QUERY         mattycus   \n",
       "3   3  1467811184 2009-04-06 22:19:57  NO_QUERY          ElleCTF   \n",
       "4   4  1467811193 2009-04-06 22:19:57  NO_QUERY           Karoli   \n",
       "\n",
       "                                               Tweet  \n",
       "0  @switchfoot http://twitpic.com/2y1zl - Awww th...  \n",
       "1  is upset that he can't update his Facebook by ...  \n",
       "2  @Kenichan I dived many times for the ball. Man...  \n",
       "3    my whole body feels itchy and like its on fire   \n",
       "4  @nationwideclass no it's not behaving at all. ...  "
      ]
     },
     "execution_count": 29,
     "metadata": {},
     "output_type": "execute_result"
    }
   ],
   "source": [
    "data.head()"
   ]
  },
  {
   "cell_type": "code",
   "execution_count": 31,
   "id": "fab778db",
   "metadata": {},
   "outputs": [
    {
     "data": {
      "text/plain": [
       "1600000"
      ]
     },
     "execution_count": 31,
     "metadata": {},
     "output_type": "execute_result"
    }
   ],
   "source": [
    "# counting rows -checking if entire data was loaded\n",
    "data['No_Querry'].count()"
   ]
  },
  {
   "cell_type": "code",
   "execution_count": 32,
   "id": "0e7858e5",
   "metadata": {
    "scrolled": true
   },
   "outputs": [
    {
     "data": {
      "text/html": [
       "<div>\n",
       "<style scoped>\n",
       "    .dataframe tbody tr th:only-of-type {\n",
       "        vertical-align: middle;\n",
       "    }\n",
       "\n",
       "    .dataframe tbody tr th {\n",
       "        vertical-align: top;\n",
       "    }\n",
       "\n",
       "    .dataframe thead th {\n",
       "        text-align: right;\n",
       "    }\n",
       "</style>\n",
       "<table border=\"1\" class=\"dataframe\">\n",
       "  <thead>\n",
       "    <tr style=\"text-align: right;\">\n",
       "      <th></th>\n",
       "      <th>Id</th>\n",
       "      <th>Tweet_id</th>\n",
       "      <th>Date</th>\n",
       "      <th>User</th>\n",
       "      <th>Tweet</th>\n",
       "    </tr>\n",
       "  </thead>\n",
       "  <tbody>\n",
       "    <tr>\n",
       "      <th>0</th>\n",
       "      <td>0</td>\n",
       "      <td>1467810369</td>\n",
       "      <td>2009-04-06 22:19:45</td>\n",
       "      <td>_TheSpecialOne_</td>\n",
       "      <td>@switchfoot http://twitpic.com/2y1zl - Awww th...</td>\n",
       "    </tr>\n",
       "    <tr>\n",
       "      <th>1</th>\n",
       "      <td>1</td>\n",
       "      <td>1467810672</td>\n",
       "      <td>2009-04-06 22:19:49</td>\n",
       "      <td>scotthamilton</td>\n",
       "      <td>is upset that he can't update his Facebook by ...</td>\n",
       "    </tr>\n",
       "    <tr>\n",
       "      <th>2</th>\n",
       "      <td>2</td>\n",
       "      <td>1467810917</td>\n",
       "      <td>2009-04-06 22:19:53</td>\n",
       "      <td>mattycus</td>\n",
       "      <td>@Kenichan I dived many times for the ball. Man...</td>\n",
       "    </tr>\n",
       "    <tr>\n",
       "      <th>3</th>\n",
       "      <td>3</td>\n",
       "      <td>1467811184</td>\n",
       "      <td>2009-04-06 22:19:57</td>\n",
       "      <td>ElleCTF</td>\n",
       "      <td>my whole body feels itchy and like its on fire</td>\n",
       "    </tr>\n",
       "    <tr>\n",
       "      <th>4</th>\n",
       "      <td>4</td>\n",
       "      <td>1467811193</td>\n",
       "      <td>2009-04-06 22:19:57</td>\n",
       "      <td>Karoli</td>\n",
       "      <td>@nationwideclass no it's not behaving at all. ...</td>\n",
       "    </tr>\n",
       "  </tbody>\n",
       "</table>\n",
       "</div>"
      ],
      "text/plain": [
       "   Id    Tweet_id                Date             User  \\\n",
       "0   0  1467810369 2009-04-06 22:19:45  _TheSpecialOne_   \n",
       "1   1  1467810672 2009-04-06 22:19:49    scotthamilton   \n",
       "2   2  1467810917 2009-04-06 22:19:53         mattycus   \n",
       "3   3  1467811184 2009-04-06 22:19:57          ElleCTF   \n",
       "4   4  1467811193 2009-04-06 22:19:57           Karoli   \n",
       "\n",
       "                                               Tweet  \n",
       "0  @switchfoot http://twitpic.com/2y1zl - Awww th...  \n",
       "1  is upset that he can't update his Facebook by ...  \n",
       "2  @Kenichan I dived many times for the ball. Man...  \n",
       "3    my whole body feels itchy and like its on fire   \n",
       "4  @nationwideclass no it's not behaving at all. ...  "
      ]
     },
     "execution_count": 32,
     "metadata": {},
     "output_type": "execute_result"
    }
   ],
   "source": [
    "# dropping unnecessary coulmn\n",
    "data.drop(columns=['No_Querry'], inplace=True)\n",
    "data.head()"
   ]
  },
  {
   "cell_type": "code",
   "execution_count": 33,
   "id": "c4fe26f9",
   "metadata": {},
   "outputs": [],
   "source": [
    "downloads_path = os.path.expanduser('/home/hduser/Downloads')"
   ]
  },
  {
   "cell_type": "code",
   "execution_count": 34,
   "id": "5f004067",
   "metadata": {},
   "outputs": [
    {
     "name": "stdout",
     "output_type": "stream",
     "text": [
      "Data saved to /home/hduser/Downloads/data.csv\n"
     ]
    }
   ],
   "source": [
    "# saving corrected data to csv file\n",
    "\n",
    "#csv_file_path = os.path.join(downloads_path, 'data.csv')\n",
    "#data.to_csv(csv_file_path, index=False)\n",
    "\n",
    "#print(f'Data saved to {csv_file_path}')"
   ]
  },
  {
   "cell_type": "markdown",
   "id": "b52a086e",
   "metadata": {},
   "source": [
    "# Loading data from cassandra"
   ]
  },
  {
   "cell_type": "code",
   "execution_count": 140,
   "id": "c637c6ef",
   "metadata": {},
   "outputs": [],
   "source": [
    "from pyspark.sql import SparkSession"
   ]
  },
  {
   "cell_type": "code",
   "execution_count": 141,
   "id": "ca5c3648",
   "metadata": {},
   "outputs": [],
   "source": [
    "# creating a Spark session to read data from Cassandra with specified configurations\n",
    "\n",
    "spark = SparkSession.builder \\\n",
    "    .appName('CassandraToSpark') \\\n",
    "    .config('spark.cassandra.connection.host', 'localhost') \\\n",
    "    .config('spark.jars.packages', 'com.datastax.spark:spark-cassandra-connector_2.11:3.1.0') \\\n",
    "    .getOrCreate()\n",
    "\n",
    "\n",
    "\n",
    "\n",
    "cassandra_host = spark.conf.get('spark.cassandra.connection.host')\n",
    "print(\"Cassandra Host:\", cassandra_host)\n",
    "\n",
    "\n",
    "spark = SparkSession.builder \\\n",
    "    .appName(\"CassandraSparkIntegration\") \\\n",
    "    .getOrCreate()\n",
    "\n",
    "cassandra_cluster = Cluster(['127.0.0.1'], port=9042)\n",
    "session = cassandra_cluster.connect()\n",
    "\n",
    "keyspace = 'tweeter_data'  \n",
    "session.set_keyspace(keyspace)\n",
    "\n",
    "cql_query = \"SELECT * FROM tweets LIMIT 5\"\n",
    "rows = session.execute(cql_query)"
   ]
  },
  {
   "cell_type": "code",
   "execution_count": 142,
   "id": "50f81399",
   "metadata": {},
   "outputs": [
    {
     "name": "stdout",
     "output_type": "stream",
     "text": [
      "Cassandra Host: localhost\n"
     ]
    }
   ],
   "source": [
    "# printing the Cassandra host address obtained from Spark configurations\n",
    "\n",
    "cassandra_host = spark.conf.get('spark.cassandra.connection.host')\n",
    "print(\"Cassandra Host:\", cassandra_host)"
   ]
  },
  {
   "cell_type": "code",
   "execution_count": 157,
   "id": "11875676",
   "metadata": {},
   "outputs": [],
   "source": [
    "from pyspark.sql import SparkSession\n",
    "from cassandra.cluster import Cluster"
   ]
  },
  {
   "cell_type": "code",
   "execution_count": 144,
   "id": "328c3d28",
   "metadata": {},
   "outputs": [],
   "source": [
    "spark = SparkSession.builder \\\n",
    "    .appName(\"CassandraSparkIntegration\") \\\n",
    "    .getOrCreate()"
   ]
  },
  {
   "cell_type": "code",
   "execution_count": 145,
   "id": "a6e870c8",
   "metadata": {},
   "outputs": [],
   "source": [
    "cassandra_cluster = Cluster(['127.0.0.1'], port=9042)\n",
    "session = cassandra_cluster.connect()"
   ]
  },
  {
   "cell_type": "code",
   "execution_count": 146,
   "id": "ce5b0a0e",
   "metadata": {},
   "outputs": [],
   "source": [
    "# setting the keyspace to 'tweeter_data' in the Cassandra session.\n",
    "\n",
    "keyspace = 'tweeter_data'  \n",
    "session.set_keyspace(keyspace)"
   ]
  },
  {
   "cell_type": "code",
   "execution_count": 10,
   "id": "9a702798",
   "metadata": {},
   "outputs": [],
   "source": [
    "cql_query = \"SELECT * FROM tweets LIMIT 5\"\n",
    "rows = session.execute(cql_query)"
   ]
  },
  {
   "cell_type": "code",
   "execution_count": 13,
   "id": "15cc487e",
   "metadata": {},
   "outputs": [
    {
     "name": "stderr",
     "output_type": "stream",
     "text": [
      "                                                                                \r"
     ]
    },
    {
     "data": {
      "text/plain": [
       "Row(id=302602, date=datetime.datetime(2009, 6, 1, 19, 37, 16), tweet='Had problems with my eyes all day. This sux! ', tweet_id=1999088121, user='Bobina11')"
      ]
     },
     "execution_count": 13,
     "metadata": {},
     "output_type": "execute_result"
    }
   ],
   "source": [
    "df = spark.createDataFrame(rows)\n",
    "df.head()"
   ]
  },
  {
   "cell_type": "code",
   "execution_count": 14,
   "id": "876c25b8",
   "metadata": {},
   "outputs": [
    {
     "name": "stdout",
     "output_type": "stream",
     "text": [
      "+-------+-------------------+--------------------+----------+---------------+\n",
      "|     ID|               Date|               Tweet|  Tweet_ID|           User|\n",
      "+-------+-------------------+--------------------+----------+---------------+\n",
      "| 302602|2009-06-01 19:37:16|Had problems with...|1999088121|       Bobina11|\n",
      "| 531141|2009-06-16 12:10:07|don't fall unless...|2196209437|rosie_carter427|\n",
      "|1416569|2009-06-06 13:00:30|Nice afternoon fo...|2057439493|     zuluranger|\n",
      "| 693077|2009-06-20 06:42:25|miss you batang K...|2252644159| chocomallows19|\n",
      "|   4317|2009-04-07 03:45:16|Oh no  more babys...|1468791098|       tynie626|\n",
      "+-------+-------------------+--------------------+----------+---------------+\n",
      "\n"
     ]
    }
   ],
   "source": [
    "from pyspark.sql.functions import col\n",
    "\n",
    "# Select and alias the fields\n",
    "new_df = df.select(\n",
    "    col(\"id\").alias(\"ID\"),\n",
    "    col(\"date\").alias(\"Date\"),\n",
    "    col(\"tweet\").alias(\"Tweet\"),\n",
    "    col(\"tweet_id\").alias(\"Tweet_ID\"),\n",
    "    col(\"user\").alias(\"User\")\n",
    ")\n",
    "\n",
    "# Show the new DataFrame\n",
    "new_df.show()"
   ]
  },
  {
   "cell_type": "code",
   "execution_count": 21,
   "id": "d9ea83cc",
   "metadata": {},
   "outputs": [
    {
     "name": "stdout",
     "output_type": "stream",
     "text": [
      "+-------+-----------------+--------------------+-------------------+----------+\n",
      "|summary|               ID|               Tweet|           Tweet_ID|      User|\n",
      "+-------+-----------------+--------------------+-------------------+----------+\n",
      "|  count|                5|                   5|                  5|         5|\n",
      "|   mean|         589541.2|                null|     1.9948344616E9|      null|\n",
      "| stddev|529841.1780847163|                null|3.113184963800409E8|      null|\n",
      "|    min|             4317|Had problems with...|         1468791098|  Bobina11|\n",
      "|    max|          1416569|miss you batang K...|         2252644159|zuluranger|\n",
      "+-------+-----------------+--------------------+-------------------+----------+\n",
      "\n",
      "Number of rows: 5\n"
     ]
    }
   ],
   "source": [
    "new_df.describe().show()\n",
    "print(\"Number of rows:\", new_df.count())"
   ]
  },
  {
   "cell_type": "markdown",
   "id": "6c0f5c63",
   "metadata": {},
   "source": [
    "#### Filtering Data"
   ]
  },
  {
   "cell_type": "code",
   "execution_count": 22,
   "id": "23a89d5c",
   "metadata": {},
   "outputs": [
    {
     "name": "stdout",
     "output_type": "stream",
     "text": [
      "+------+-------------------+--------------------+----------+--------+\n",
      "|    ID|               Date|               Tweet|  Tweet_ID|    User|\n",
      "+------+-------------------+--------------------+----------+--------+\n",
      "|302602|2009-06-01 19:37:16|Had problems with...|1999088121|Bobina11|\n",
      "+------+-------------------+--------------------+----------+--------+\n",
      "\n"
     ]
    }
   ],
   "source": [
    "filtered_df = new_df.filter(new_df.User == \"Bobina11\")\n",
    "filtered_df.show()"
   ]
  },
  {
   "cell_type": "markdown",
   "id": "98d47bfb",
   "metadata": {},
   "source": [
    "#### Aggregation"
   ]
  },
  {
   "cell_type": "code",
   "execution_count": 23,
   "id": "71a2d097",
   "metadata": {},
   "outputs": [
    {
     "name": "stderr",
     "output_type": "stream",
     "text": [
      "[Stage 22:======================================>                 (52 + 1) / 75]\r"
     ]
    },
    {
     "name": "stdout",
     "output_type": "stream",
     "text": [
      "+---------------+----------+\n",
      "|           User|TweetCount|\n",
      "+---------------+----------+\n",
      "|rosie_carter427|         1|\n",
      "|       Bobina11|         1|\n",
      "|       tynie626|         1|\n",
      "|     zuluranger|         1|\n",
      "| chocomallows19|         1|\n",
      "+---------------+----------+\n",
      "\n"
     ]
    },
    {
     "name": "stderr",
     "output_type": "stream",
     "text": [
      "                                                                                \r"
     ]
    }
   ],
   "source": [
    "from pyspark.sql import functions as F\n",
    "\n",
    "agg_df = new_df.groupBy(\"User\").agg(F.count(\"ID\").alias(\"TweetCount\"))\n",
    "agg_df.show()"
   ]
  },
  {
   "cell_type": "markdown",
   "id": "8b460099",
   "metadata": {},
   "source": [
    "### Loading full data set from Cassandra table"
   ]
  },
  {
   "cell_type": "code",
   "execution_count": 15,
   "id": "071209e5",
   "metadata": {},
   "outputs": [],
   "source": [
    "import time"
   ]
  },
  {
   "cell_type": "code",
   "execution_count": 17,
   "id": "8b7744b9",
   "metadata": {},
   "outputs": [
    {
     "name": "stdout",
     "output_type": "stream",
     "text": [
      "Data retrieval took 65.68 seconds\n"
     ]
    }
   ],
   "source": [
    "# Start the timer\n",
    "start_time = time.time()\n",
    "\n",
    "# Your code to pull data from Cassandra\n",
    "cql_query = \"SELECT * FROM tweets\"\n",
    "rows = session.execute(cql_query)\n",
    "df = spark.createDataFrame(rows)\n",
    "\n",
    "# Stop the timer\n",
    "end_time = time.time()\n",
    "\n",
    "# Calculate the elapsed time\n",
    "elapsed_time = end_time - start_time\n",
    "\n",
    "# Print the elapsed time\n",
    "print(f\"Data retrieval took {elapsed_time:.2f} seconds\")"
   ]
  },
  {
   "cell_type": "code",
   "execution_count": 18,
   "id": "ccfb3baf",
   "metadata": {},
   "outputs": [
    {
     "name": "stderr",
     "output_type": "stream",
     "text": [
      "2023-10-24 12:55:57,165 WARN scheduler.TaskSetManager: Stage 3 contains a task of very large size (175832 KiB). The maximum recommended task size is 1000 KiB.\n",
      "                                                                                \r"
     ]
    },
    {
     "data": {
      "text/plain": [
       "Row(id=302602, date=datetime.datetime(2009, 6, 1, 19, 37, 16), tweet='Had problems with my eyes all day. This sux! ', tweet_id=1999088121, user='Bobina11')"
      ]
     },
     "execution_count": 18,
     "metadata": {},
     "output_type": "execute_result"
    }
   ],
   "source": [
    "df.head()"
   ]
  },
  {
   "cell_type": "code",
   "execution_count": 19,
   "id": "acac18bf",
   "metadata": {},
   "outputs": [
    {
     "name": "stderr",
     "output_type": "stream",
     "text": [
      "2023-10-24 12:56:01,099 WARN scheduler.TaskSetManager: Stage 4 contains a task of very large size (175832 KiB). The maximum recommended task size is 1000 KiB.\n",
      "[Stage 4:>                                                          (0 + 1) / 1]\r"
     ]
    },
    {
     "name": "stdout",
     "output_type": "stream",
     "text": [
      "+-------+-------------------+--------------------+----------+---------------+\n",
      "|     ID|               Date|               Tweet|  Tweet_ID|           User|\n",
      "+-------+-------------------+--------------------+----------+---------------+\n",
      "| 302602|2009-06-01 19:37:16|Had problems with...|1999088121|       Bobina11|\n",
      "| 531141|2009-06-16 12:10:07|don't fall unless...|2196209437|rosie_carter427|\n",
      "|1416569|2009-06-06 13:00:30|Nice afternoon fo...|2057439493|     zuluranger|\n",
      "| 693077|2009-06-20 06:42:25|miss you batang K...|2252644159| chocomallows19|\n",
      "|   4317|2009-04-07 03:45:16|Oh no  more babys...|1468791098|       tynie626|\n",
      "| 927961|2009-05-10 19:06:23|@sayitwithecards ...|1759389622|        Muse4u2|\n",
      "| 313395|2009-06-02 01:55:11|i'm pooping mysel...|2001742430|   _amberlovely|\n",
      "|1133667|2009-05-30 16:50:08|@Ladiejay I lik t...|1976213404|        iamword|\n",
      "|1347669|2009-06-05 09:37:16|jewwcrew reunion!...|2044631753|        SPBobo2|\n",
      "|1191314|2009-05-31 13:59:13|    At baccalareate |1983864195| ohimagummybear|\n",
      "|1490122|2009-06-07 14:45:24|me&amp;john Live ...|2068819531|    woodscience|\n",
      "| 368168|2009-06-05 16:50:21|This rain sucks! ...|2049414234|      geneva120|\n",
      "| 671830|2009-06-19 18:24:51|@IvyPrincess08 so...|2246982243|      robyns215|\n",
      "|  62693|2009-05-03 08:04:43|my man is fucking...|1687210251|         Selliz|\n",
      "|1000882|2009-05-21 23:56:05|Almost time for &...|1880046569|       anitrain|\n",
      "| 488360|2009-06-15 13:19:20|doesn't like how ...|2182551233|       sunlovey|\n",
      "| 970912|2009-05-17 12:03:05|@richardjfoster I...|1828082452|          bexxi|\n",
      "| 528047|2009-06-16 10:22:26|@FabianMH I would...|2194872533|        jlgosse|\n",
      "|1344155|2009-06-04 22:57:07|@savannaislame yo...|2039843178|    longestpoem|\n",
      "| 504968|2009-06-15 21:35:42|I like Atlanta bu...|2188270708|  Addicted2Tmac|\n",
      "+-------+-------------------+--------------------+----------+---------------+\n",
      "only showing top 20 rows\n",
      "\n"
     ]
    },
    {
     "name": "stderr",
     "output_type": "stream",
     "text": [
      "                                                                                \r"
     ]
    }
   ],
   "source": [
    "# Select and alias the fields\n",
    "full_df = df.select(\n",
    "    col(\"id\").alias(\"ID\"),\n",
    "    col(\"date\").alias(\"Date\"),\n",
    "    col(\"tweet\").alias(\"Tweet\"),\n",
    "    col(\"tweet_id\").alias(\"Tweet_ID\"),\n",
    "    col(\"user\").alias(\"User\")\n",
    ")\n",
    "\n",
    "# Show the new DataFrame\n",
    "full_df.show()"
   ]
  },
  {
   "cell_type": "markdown",
   "id": "4dba8249",
   "metadata": {},
   "source": [
    "# Data Preprocessing & EDA"
   ]
  },
  {
   "cell_type": "code",
   "execution_count": 45,
   "id": "a0938533",
   "metadata": {},
   "outputs": [
    {
     "name": "stderr",
     "output_type": "stream",
     "text": [
      "2023-10-23 21:32:21,991 WARN scheduler.TaskSetManager: Stage 74 contains a task of very large size (175832 KiB). The maximum recommended task size is 1000 KiB.\n",
      "[Stage 74:>                                                         (0 + 1) / 1]\r"
     ]
    },
    {
     "name": "stdout",
     "output_type": "stream",
     "text": [
      "Number of rows in full_df: 1600000\n"
     ]
    },
    {
     "name": "stderr",
     "output_type": "stream",
     "text": [
      "                                                                                \r"
     ]
    }
   ],
   "source": [
    "row_count = full_df.count()\n",
    "print(\"Number of rows in full_df:\", row_count)"
   ]
  },
  {
   "cell_type": "code",
   "execution_count": 30,
   "id": "39874dbf",
   "metadata": {},
   "outputs": [
    {
     "name": "stdout",
     "output_type": "stream",
     "text": [
      "Column 'ID' has data type 'bigint'\n",
      "Column 'Date' has data type 'timestamp'\n",
      "Column 'Tweet' has data type 'string'\n",
      "Column 'Tweet_ID' has data type 'bigint'\n",
      "Column 'User' has data type 'string'\n"
     ]
    }
   ],
   "source": [
    "column_data_types = full_df.dtypes\n",
    "for column, data_type in column_data_types:\n",
    "    print(f\"Column '{column}' has data type '{data_type}'\")"
   ]
  },
  {
   "cell_type": "code",
   "execution_count": 130,
   "id": "15074fd6",
   "metadata": {
    "scrolled": true
   },
   "outputs": [
    {
     "name": "stderr",
     "output_type": "stream",
     "text": [
      "2023-10-25 16:51:09,612 WARN scheduler.TaskSetManager: Stage 131 contains a task of very large size (175832 KiB). The maximum recommended task size is 1000 KiB.\n",
      "2023-10-25 16:51:19,350 WARN scheduler.TaskSetManager: Stage 132 contains a task of very large size (175832 KiB). The maximum recommended task size is 1000 KiB.\n",
      "[Stage 133:>                                                        (0 + 1) / 1]\r"
     ]
    },
    {
     "name": "stdout",
     "output_type": "stream",
     "text": [
      "+------+----------+--------------------+----------+--------------+--------+--------------------+--------------------+--------------+\n",
      "|    ID|      Date|               Tweet|  Tweet_ID|          User|    Time|      TokenizedTweet|     SentimentScores|SentimentScore|\n",
      "+------+----------+--------------------+----------+--------------+--------+--------------------+--------------------+--------------+\n",
      "|   769|2009-04-06|@faithgg45  this ...|1468000996|     sambg7777|00:00:00|[@, faithgg45, co...|{'neg': 0.0, 'neu...|        0.2235|\n",
      "|801251|2009-04-06|working papers - ...|1468040032|   fieldsbooks|00:00:00|[working, papers,...|{'neg': 0.0, 'neu...|        0.3182|\n",
      "|801621|2009-04-06| @teknetia thanks!! |1468103125|       _gnosis|00:00:00|[@, teknetia, tha...|{'neg': 0.0, 'neu...|        0.5399|\n",
      "|800409|2009-04-06|on my psp browser...|1467898845|        REV3AL|00:00:00|[psp, browser, fi...|{'neg': 0.0, 'neu...|           0.0|\n",
      "|801810|2009-04-06|@larryczerwonka c...|1468132429|      nabejero|00:00:00|[@, larryczerwonk...|{'neg': 0.0, 'neu...|        0.6249|\n",
      "|800536|2009-04-06|@kcarruthers *fli...|1467918315|     SilkCharm|00:00:00|[@, kcarruthers, ...|{'neg': 0.0, 'neu...|           0.0|\n",
      "|  1199|2009-04-06|ugh. still workin...|1468106339|        Syph0n|00:00:00|[ugh, ., still, w...|{'neg': 0.259, 'n...|       -0.4215|\n",
      "|    23|2009-04-06|this week is not ...|1467814180|    viJILLante|00:00:00|[week, going, hoped]|{'neg': 0.0, 'neu...|        0.3818|\n",
      "|   114|2009-04-06|@salancaster  hop...|1467838630|   ashleyirvin|00:00:00|[@, salancaster, ...|{'neg': 0.0, 'neu...|        0.6249|\n",
      "|800831|2009-04-06|lets drop ..ich h...|1467971793|    zottarella|00:00:00|[lets, drop, .., ...|{'neg': 0.084, 'n...|        0.4019|\n",
      "|   660|2009-04-06|well the pc in my...|1467980679|         Nasef|00:00:00|[well, pc, living...|{'neg': 0.309, 'n...|       -0.7845|\n",
      "|   893|2009-04-06|i miss my ex soo ...|1468033365|        lcmroz|00:00:00|[miss, ex, soo, m...|{'neg': 0.286, 'n...|       -0.1531|\n",
      "|800730|2009-04-06|@heidimontag grea...|1467953247|      kayocean|00:00:00|[@, heidimontag, ...|{'neg': 0.0, 'neu...|        0.6588|\n",
      "|801669|2009-04-06|waiting for the p...|1468116586|   twilight_x3|00:00:00|[waiting, pizza, ...|{'neg': 0.0, 'neu...|           0.0|\n",
      "|  1193|2009-04-06|it just makes me ...|1468102926| ShannaMoakler|00:00:00|[makes, happy, !,...|{'neg': 0.0, 'neu...|        0.7896|\n",
      "|    53|2009-04-06|put vacation phot...|1467821338|   justnetgirl|00:00:00|[put, vacation, p...|{'neg': 0.106, 'n...|       -0.2263|\n",
      "|   987|2009-04-06|reading buyology ...|1468053198|         grinc|00:00:00|[reading, buyolog...|{'neg': 0.0, 'neu...|        0.3716|\n",
      "|   878|2009-04-06|@yaykimo it's sad...|1468031805| OhMyChristine|00:00:00|[@, yaykimo, 's, ...|{'neg': 0.22, 'ne...|       -0.5255|\n",
      "|800006|2009-04-06|@r_keith_hill tha...|1467822447|     vmdavinci|00:00:00|[@, r_keith_hill,...|{'neg': 0.0, 'neu...|           0.0|\n",
      "|   110|2009-04-06|laying in bed wit...|1467838189|missannabanana|00:00:00|[laying, bed, voi...|{'neg': 0.306, 'n...|        -0.296|\n",
      "+------+----------+--------------------+----------+--------------+--------+--------------------+--------------------+--------------+\n",
      "only showing top 20 rows\n",
      "\n"
     ]
    },
    {
     "name": "stderr",
     "output_type": "stream",
     "text": [
      "                                                                                \r"
     ]
    }
   ],
   "source": [
    "from pyspark.sql.functions import date_format\n",
    "\n",
    "# Extract the time component from the 'Date' column\n",
    "full_df = full_df.withColumn(\"Time\", date_format(\"Date\", \"HH:mm:ss\"))\n",
    "\n",
    "# Show the updated DataFrame\n",
    "full_df.show()"
   ]
  },
  {
   "cell_type": "code",
   "execution_count": 131,
   "id": "93738c5a",
   "metadata": {
    "scrolled": true
   },
   "outputs": [
    {
     "name": "stderr",
     "output_type": "stream",
     "text": [
      "2023-10-25 16:51:43,297 WARN scheduler.TaskSetManager: Stage 134 contains a task of very large size (175832 KiB). The maximum recommended task size is 1000 KiB.\n",
      "2023-10-25 16:51:52,997 WARN scheduler.TaskSetManager: Stage 135 contains a task of very large size (175832 KiB). The maximum recommended task size is 1000 KiB.\n",
      "[Stage 136:>                                                        (0 + 1) / 1]\r"
     ]
    },
    {
     "name": "stdout",
     "output_type": "stream",
     "text": [
      "+------+----------+--------------------+----------+--------------+--------+--------------------+--------------------+--------------+\n",
      "|    ID|      Date|               Tweet|  Tweet_ID|          User|    Time|      TokenizedTweet|     SentimentScores|SentimentScore|\n",
      "+------+----------+--------------------+----------+--------------+--------+--------------------+--------------------+--------------+\n",
      "|   769|2009-04-06|@faithgg45  this ...|1468000996|     sambg7777|00:00:00|[@, faithgg45, co...|{'neg': 0.0, 'neu...|        0.2235|\n",
      "|801251|2009-04-06|working papers - ...|1468040032|   fieldsbooks|00:00:00|[working, papers,...|{'neg': 0.0, 'neu...|        0.3182|\n",
      "|801621|2009-04-06| @teknetia thanks!! |1468103125|       _gnosis|00:00:00|[@, teknetia, tha...|{'neg': 0.0, 'neu...|        0.5399|\n",
      "|800409|2009-04-06|on my psp browser...|1467898845|        REV3AL|00:00:00|[psp, browser, fi...|{'neg': 0.0, 'neu...|           0.0|\n",
      "|801810|2009-04-06|@larryczerwonka c...|1468132429|      nabejero|00:00:00|[@, larryczerwonk...|{'neg': 0.0, 'neu...|        0.6249|\n",
      "|800536|2009-04-06|@kcarruthers *fli...|1467918315|     SilkCharm|00:00:00|[@, kcarruthers, ...|{'neg': 0.0, 'neu...|           0.0|\n",
      "|  1199|2009-04-06|ugh. still workin...|1468106339|        Syph0n|00:00:00|[ugh, ., still, w...|{'neg': 0.259, 'n...|       -0.4215|\n",
      "|    23|2009-04-06|this week is not ...|1467814180|    viJILLante|00:00:00|[week, going, hoped]|{'neg': 0.0, 'neu...|        0.3818|\n",
      "|   114|2009-04-06|@salancaster  hop...|1467838630|   ashleyirvin|00:00:00|[@, salancaster, ...|{'neg': 0.0, 'neu...|        0.6249|\n",
      "|800831|2009-04-06|lets drop ..ich h...|1467971793|    zottarella|00:00:00|[lets, drop, .., ...|{'neg': 0.084, 'n...|        0.4019|\n",
      "|   660|2009-04-06|well the pc in my...|1467980679|         Nasef|00:00:00|[well, pc, living...|{'neg': 0.309, 'n...|       -0.7845|\n",
      "|   893|2009-04-06|i miss my ex soo ...|1468033365|        lcmroz|00:00:00|[miss, ex, soo, m...|{'neg': 0.286, 'n...|       -0.1531|\n",
      "|800730|2009-04-06|@heidimontag grea...|1467953247|      kayocean|00:00:00|[@, heidimontag, ...|{'neg': 0.0, 'neu...|        0.6588|\n",
      "|801669|2009-04-06|waiting for the p...|1468116586|   twilight_x3|00:00:00|[waiting, pizza, ...|{'neg': 0.0, 'neu...|           0.0|\n",
      "|  1193|2009-04-06|it just makes me ...|1468102926| ShannaMoakler|00:00:00|[makes, happy, !,...|{'neg': 0.0, 'neu...|        0.7896|\n",
      "|    53|2009-04-06|put vacation phot...|1467821338|   justnetgirl|00:00:00|[put, vacation, p...|{'neg': 0.106, 'n...|       -0.2263|\n",
      "|   987|2009-04-06|reading buyology ...|1468053198|         grinc|00:00:00|[reading, buyolog...|{'neg': 0.0, 'neu...|        0.3716|\n",
      "|   878|2009-04-06|@yaykimo it's sad...|1468031805| OhMyChristine|00:00:00|[@, yaykimo, 's, ...|{'neg': 0.22, 'ne...|       -0.5255|\n",
      "|800006|2009-04-06|@r_keith_hill tha...|1467822447|     vmdavinci|00:00:00|[@, r_keith_hill,...|{'neg': 0.0, 'neu...|           0.0|\n",
      "|   110|2009-04-06|laying in bed wit...|1467838189|missannabanana|00:00:00|[laying, bed, voi...|{'neg': 0.306, 'n...|        -0.296|\n",
      "+------+----------+--------------------+----------+--------------+--------+--------------------+--------------------+--------------+\n",
      "only showing top 20 rows\n",
      "\n"
     ]
    },
    {
     "name": "stderr",
     "output_type": "stream",
     "text": [
      "                                                                                \r"
     ]
    }
   ],
   "source": [
    "# Extract the date component from the 'Date' column\n",
    "full_df = full_df.withColumn(\"Date\", date_format(\"Date\", \"yyyy-MM-dd\"))\n",
    "\n",
    "# Show the updated DataFrame\n",
    "full_df.show()"
   ]
  },
  {
   "cell_type": "code",
   "execution_count": 132,
   "id": "25bcb6b9",
   "metadata": {
    "scrolled": true
   },
   "outputs": [
    {
     "name": "stderr",
     "output_type": "stream",
     "text": [
      "2023-10-25 16:52:37,468 WARN scheduler.TaskSetManager: Stage 137 contains a task of very large size (175832 KiB). The maximum recommended task size is 1000 KiB.\n",
      "[Stage 137:>                                                        (0 + 1) / 1]\r"
     ]
    },
    {
     "name": "stdout",
     "output_type": "stream",
     "text": [
      "+------+----------+--------------------+----------+--------------+--------+--------------------+--------------------+--------------+\n",
      "|    ID|      Date|               Tweet|  Tweet_ID|          User|    Time|      TokenizedTweet|     SentimentScores|SentimentScore|\n",
      "+------+----------+--------------------+----------+--------------+--------+--------------------+--------------------+--------------+\n",
      "|800409|2009-04-06|on my psp browser...|1467898845|        REV3AL|00:00:00|[psp, browser, fi...|{'neg': 0.0, 'neu...|           0.0|\n",
      "|   363|2009-04-06|@sara_kate im afr...|1467901437|      Arneenxx|00:00:00|[@, sara_kate, im...|{'neg': 0.0, 'neu...|           0.0|\n",
      "|801810|2009-04-06|@larryczerwonka c...|1468132429|      nabejero|00:00:00|[@, larryczerwonk...|{'neg': 0.0, 'neu...|        0.6249|\n",
      "|801251|2009-04-06|working papers - ...|1468040032|   fieldsbooks|00:00:00|[working, papers,...|{'neg': 0.0, 'neu...|        0.3182|\n",
      "|800536|2009-04-06|@kcarruthers *fli...|1467918315|     SilkCharm|00:00:00|[@, kcarruthers, ...|{'neg': 0.0, 'neu...|           0.0|\n",
      "|801669|2009-04-06|waiting for the p...|1468116586|   twilight_x3|00:00:00|[waiting, pizza, ...|{'neg': 0.0, 'neu...|           0.0|\n",
      "|  1193|2009-04-06|it just makes me ...|1468102926| ShannaMoakler|00:00:00|[makes, happy, !,...|{'neg': 0.0, 'neu...|        0.7896|\n",
      "|   769|2009-04-06|@faithgg45  this ...|1468000996|     sambg7777|00:00:00|[@, faithgg45, co...|{'neg': 0.0, 'neu...|        0.2235|\n",
      "|    53|2009-04-06|put vacation phot...|1467821338|   justnetgirl|00:00:00|[put, vacation, p...|{'neg': 0.106, 'n...|       -0.2263|\n",
      "|  1199|2009-04-06|ugh. still workin...|1468106339|        Syph0n|00:00:00|[ugh, ., still, w...|{'neg': 0.259, 'n...|       -0.4215|\n",
      "|   987|2009-04-06|reading buyology ...|1468053198|         grinc|00:00:00|[reading, buyolog...|{'neg': 0.0, 'neu...|        0.3716|\n",
      "|   114|2009-04-06|@salancaster  hop...|1467838630|   ashleyirvin|00:00:00|[@, salancaster, ...|{'neg': 0.0, 'neu...|        0.6249|\n",
      "|   878|2009-04-06|@yaykimo it's sad...|1468031805| OhMyChristine|00:00:00|[@, yaykimo, 's, ...|{'neg': 0.22, 'ne...|       -0.5255|\n",
      "|   660|2009-04-06|well the pc in my...|1467980679|         Nasef|00:00:00|[well, pc, living...|{'neg': 0.309, 'n...|       -0.7845|\n",
      "|800006|2009-04-06|@r_keith_hill tha...|1467822447|     vmdavinci|00:00:00|[@, r_keith_hill,...|{'neg': 0.0, 'neu...|           0.0|\n",
      "|800730|2009-04-06|@heidimontag grea...|1467953247|      kayocean|00:00:00|[@, heidimontag, ...|{'neg': 0.0, 'neu...|        0.6588|\n",
      "|   110|2009-04-06|laying in bed wit...|1467838189|missannabanana|00:00:00|[laying, bed, voi...|{'neg': 0.306, 'n...|        -0.296|\n",
      "|801621|2009-04-06| @teknetia thanks!! |1468103125|       _gnosis|00:00:00|[@, teknetia, tha...|{'neg': 0.0, 'neu...|        0.5399|\n",
      "|801798|2009-04-06|coffee! ...and in...|1468131824|Kreisquadratur|00:00:00|[coffee, !, ..., ...|{'neg': 0.0, 'neu...|           0.0|\n",
      "|800831|2009-04-06|lets drop ..ich h...|1467971793|    zottarella|00:00:00|[lets, drop, .., ...|{'neg': 0.084, 'n...|        0.4019|\n",
      "+------+----------+--------------------+----------+--------------+--------+--------------------+--------------------+--------------+\n",
      "only showing top 20 rows\n",
      "\n"
     ]
    },
    {
     "name": "stderr",
     "output_type": "stream",
     "text": [
      "                                                                                \r"
     ]
    }
   ],
   "source": [
    "# Sort the DataFrame by date in ascending order (oldest to newest)\n",
    "full_df = full_df.orderBy(\"Date\")\n",
    "\n",
    "# Show the sorted DataFrame\n",
    "full_df.show()"
   ]
  },
  {
   "cell_type": "markdown",
   "id": "7f82ae03",
   "metadata": {},
   "source": [
    "### Number of tweets per day"
   ]
  },
  {
   "cell_type": "code",
   "execution_count": 62,
   "id": "28a1d91e",
   "metadata": {},
   "outputs": [
    {
     "name": "stderr",
     "output_type": "stream",
     "text": [
      "2023-10-23 22:10:37,969 WARN scheduler.TaskSetManager: Stage 124 contains a task of very large size (175832 KiB). The maximum recommended task size is 1000 KiB.\n",
      "[Stage 125:==========================================>          (160 + 2) / 200]\r"
     ]
    },
    {
     "name": "stdout",
     "output_type": "stream",
     "text": [
      "+----------+-----------+\n",
      "|      Date|TweetsCount|\n",
      "+----------+-----------+\n",
      "|2009-04-06|       3360|\n",
      "|2009-04-07|      17311|\n",
      "|2009-04-17|       3084|\n",
      "|2009-04-18|      21754|\n",
      "|2009-04-19|      27469|\n",
      "|2009-04-20|      18460|\n",
      "|2009-04-21|       8587|\n",
      "|2009-05-01|       7716|\n",
      "|2009-05-02|      27434|\n",
      "|2009-05-03|      35333|\n",
      "|2009-05-04|      15481|\n",
      "|2009-05-09|      11739|\n",
      "|2009-05-10|      26029|\n",
      "|2009-05-11|       4186|\n",
      "|2009-05-13|       4066|\n",
      "|2009-05-14|      17460|\n",
      "|2009-05-16|       9146|\n",
      "|2009-05-17|      40154|\n",
      "|2009-05-18|      36469|\n",
      "|2009-05-21|       2132|\n",
      "+----------+-----------+\n",
      "only showing top 20 rows\n",
      "\n"
     ]
    },
    {
     "name": "stderr",
     "output_type": "stream",
     "text": [
      "                                                                                \r"
     ]
    }
   ],
   "source": [
    "from pyspark.sql.functions import count\n",
    "\n",
    "# Group by the 'Date' column and count the number of tweets for each day\n",
    "tweets_per_day = full_df.groupBy(\"Date\").agg(count(\"ID\").alias(\"TweetsCount\"))\n",
    "\n",
    "# Sort the result by date in ascending order (chronological order)\n",
    "tweets_per_day = tweets_per_day.orderBy(\"Date\")\n",
    "\n",
    "# Show the result\n",
    "#tweets_per_day.show()\n",
    "\n",
    "# Save it as a new DataFrame\n",
    "df_day = tweets_per_day\n",
    "\n",
    "# Show the result\n",
    "df_day.show()"
   ]
  },
  {
   "cell_type": "code",
   "execution_count": 37,
   "id": "f6f09c04",
   "metadata": {},
   "outputs": [
    {
     "name": "stderr",
     "output_type": "stream",
     "text": [
      "                                                                                \r"
     ]
    },
    {
     "data": {
      "image/png": "[encoded data removed]",
      "text/plain": [
       "<Figure size 864x432 with 1 Axes>"
      ]
     },
     "metadata": {},
     "output_type": "display_data"
    }
   ],
   "source": [
    "import matplotlib.pyplot as plt\n",
    "import pandas as pd\n",
    "\n",
    "# Convert the Spark DataFrame to a Pandas DataFrame\n",
    "tweets_per_day_pd = tweets_per_day.toPandas()\n",
    "\n",
    "# Set a professional style for the plot\n",
    "plt.style.use('seaborn')\n",
    "\n",
    "# Create a figure and axis\n",
    "fig, ax = plt.subplots(figsize=(12, 6))\n",
    "\n",
    "# Plot the data\n",
    "ax.plot(tweets_per_day_pd['Date'], tweets_per_day_pd['TweetsCount'], marker='o', linestyle='-', color='b', label='Tweets per Day')\n",
    "\n",
    "# Title and labels\n",
    "ax.set_title('Number of Tweets per Day', fontsize=16)\n",
    "ax.set_xlabel('Date', fontsize=12)\n",
    "ax.set_ylabel('Number of Tweets', fontsize=12)\n",
    "\n",
    "# Rotate x-axis labels for readability\n",
    "plt.xticks(rotation=45)\n",
    "\n",
    "# Grid lines\n",
    "ax.grid(True, linestyle='--', alpha=0.7)\n",
    "\n",
    "# Legend\n",
    "ax.legend(fontsize=12)\n",
    "\n",
    "# Add a background color to the plot\n",
    "ax.set_facecolor('whitesmoke')\n",
    "\n",
    "# Remove top and right spines\n",
    "ax.spines['top'].set_visible(False)\n",
    "ax.spines['right'].set_visible(False)\n",
    "\n",
    "# Show the plot\n",
    "plt.show()"
   ]
  },
  {
   "cell_type": "code",
   "execution_count": 93,
   "id": "0017d132",
   "metadata": {},
   "outputs": [
    {
     "name": "stderr",
     "output_type": "stream",
     "text": [
      "2023-10-23 23:09:52,259 WARN scheduler.TaskSetManager: Stage 174 contains a task of very large size (175832 KiB). The maximum recommended task size is 1000 KiB.\n",
      "                                                                                \r"
     ]
    },
    {
     "data": {
      "image/png": "[encoded data removed]",
      "text/plain": [
       "<Figure size 864x432 with 1 Axes>"
      ]
     },
     "metadata": {},
     "output_type": "display_data"
    }
   ],
   "source": [
    "import matplotlib.pyplot as plt\n",
    "import pandas as pd\n",
    "\n",
    "# Sort the DataFrame by date in ascending order\n",
    "tweets_per_day_sorted = tweets_per_day.orderBy(\"Date\")\n",
    "\n",
    "# Convert the Spark DataFrame to a Pandas DataFrame\n",
    "tweets_per_day_pd = tweets_per_day_sorted.toPandas()\n",
    "\n",
    "# Set a professional style for the plot\n",
    "plt.style.use('seaborn')\n",
    "\n",
    "# Create a figure and axis\n",
    "fig, ax = plt.subplots(figsize=(12, 6))\n",
    "\n",
    "# Plot the data\n",
    "ax.plot(tweets_per_day_pd['Date'], tweets_per_day_pd['TweetsCount'], marker='o', linestyle='-', color='b', label='Tweets per Day')\n",
    "\n",
    "# Title and labels\n",
    "ax.set_title('Number of Tweets per Day', fontsize=16)\n",
    "ax.set_xlabel('Date', fontsize=12)\n",
    "ax.set_ylabel('Number of Tweets', fontsize=12)\n",
    "\n",
    "# Rotate x-axis labels for readability\n",
    "plt.xticks(rotation=45)\n",
    "\n",
    "# Grid lines\n",
    "ax.grid(True, linestyle='--', alpha=0.7)\n",
    "\n",
    "# Legend\n",
    "ax.legend(fontsize=12)\n",
    "\n",
    "# Add a background color to the plot\n",
    "ax.set_facecolor('whitesmoke')\n",
    "\n",
    "# Remove top and right spines\n",
    "ax.spines['top'].set_visible(False)\n",
    "ax.spines['right'].set_visible(False)\n",
    "\n",
    "# Show the plot\n",
    "plt.show()"
   ]
  },
  {
   "cell_type": "code",
   "execution_count": 134,
   "id": "bf47b5ae",
   "metadata": {},
   "outputs": [
    {
     "ename": "NameError",
     "evalue": "name 'df_day' is not defined",
     "output_type": "error",
     "traceback": [
      "\u001b[0;31m---------------------------------------------------------------------------\u001b[0m",
      "\u001b[0;31mNameError\u001b[0m                                 Traceback (most recent call last)",
      "\u001b[0;32m/tmp/ipykernel_11487/2935743772.py\u001b[0m in \u001b[0;36m<module>\u001b[0;34m\u001b[0m\n\u001b[0;32m----> 1\u001b[0;31m \u001b[0mprint\u001b[0m\u001b[0;34m(\u001b[0m\u001b[0mtype\u001b[0m\u001b[0;34m(\u001b[0m\u001b[0mdf_day\u001b[0m\u001b[0;34m)\u001b[0m\u001b[0;34m)\u001b[0m\u001b[0;34m\u001b[0m\u001b[0;34m\u001b[0m\u001b[0m\n\u001b[0m",
      "\u001b[0;31mNameError\u001b[0m: name 'df_day' is not defined"
     ]
    }
   ],
   "source": [
    "print(type(df_day))"
   ]
  },
  {
   "cell_type": "code",
   "execution_count": 68,
   "id": "e022c22e",
   "metadata": {},
   "outputs": [
    {
     "name": "stderr",
     "output_type": "stream",
     "text": [
      "2023-10-23 22:14:25,263 WARN scheduler.TaskSetManager: Stage 130 contains a task of very large size (175832 KiB). The maximum recommended task size is 1000 KiB.\n",
      "                                                                                \r"
     ]
    },
    {
     "name": "stdout",
     "output_type": "stream",
     "text": [
      "First Row: Row(Date='2009-04-06')\n"
     ]
    },
    {
     "name": "stderr",
     "output_type": "stream",
     "text": [
      "2023-10-23 22:14:32,819 WARN scheduler.TaskSetManager: Stage 132 contains a task of very large size (175832 KiB). The maximum recommended task size is 1000 KiB.\n",
      "[Stage 133:==================================================>  (189 + 1) / 200]\r"
     ]
    },
    {
     "name": "stdout",
     "output_type": "stream",
     "text": [
      "Last Row: Row(Date='2009-06-25')\n"
     ]
    },
    {
     "name": "stderr",
     "output_type": "stream",
     "text": [
      "                                                                                \r"
     ]
    }
   ],
   "source": [
    "first_date= df_day.select('Date').first()\n",
    "print(\"First Row:\", first_date)\n",
    "\n",
    "# Show the last row\n",
    "last_date= df_day.select('Date').orderBy(df_day['Date'], ascending=False).first()\n",
    "print(\"Last Row:\", last_date)"
   ]
  },
  {
   "cell_type": "code",
   "execution_count": 135,
   "id": "2b8b0ed8",
   "metadata": {},
   "outputs": [
    {
     "name": "stdout",
     "output_type": "stream",
     "text": [
      "+----------+\n",
      "|      Date|\n",
      "+----------+\n",
      "|2009-04-06|\n",
      "|2009-04-07|\n",
      "|2009-04-08|\n",
      "|2009-04-09|\n",
      "|2009-04-10|\n",
      "|2009-04-11|\n",
      "|2009-04-12|\n",
      "|2009-04-13|\n",
      "|2009-04-14|\n",
      "|2009-04-15|\n",
      "|2009-04-16|\n",
      "|2009-04-17|\n",
      "|2009-04-18|\n",
      "|2009-04-19|\n",
      "|2009-04-20|\n",
      "|2009-04-21|\n",
      "|2009-04-22|\n",
      "|2009-04-23|\n",
      "|2009-04-24|\n",
      "|2009-04-25|\n",
      "+----------+\n",
      "only showing top 20 rows\n",
      "\n"
     ]
    }
   ],
   "source": [
    "from datetime import datetime, timedelta\n",
    "from pyspark.sql.types import StructType, StructField, DateType\n",
    "\n",
    "\n",
    "# Define the start and end dates as strings\n",
    "start_date_str = '2009-04-06'\n",
    "end_date_str = '2009-06-25'\n",
    "\n",
    "# Convert the start and end date strings to datetime objects\n",
    "start_date = datetime.strptime(start_date_str, '%Y-%m-%d')\n",
    "end_date = datetime.strptime(end_date_str, '%Y-%m-%d')\n",
    "\n",
    "# Create an empty list to store the date objects\n",
    "date_list = []\n",
    "\n",
    "# Generate a list of dates\n",
    "current_date = start_date\n",
    "while current_date <= end_date:\n",
    "    date_list.append((current_date,))\n",
    "    current_date += timedelta(days=1)\n",
    "\n",
    "# Define the schema for the Date DataFrame\n",
    "schema = StructType([StructField(\"Date\", DateType(), False)])\n",
    "\n",
    "# Create the Date DataFrame\n",
    "date_df = spark.createDataFrame(date_list, schema=schema)\n",
    "\n",
    "# Show the Date DataFrame\n",
    "date_df.show()\n"
   ]
  },
  {
   "cell_type": "code",
   "execution_count": 132,
   "id": "b4426e3c",
   "metadata": {},
   "outputs": [
    {
     "name": "stderr",
     "output_type": "stream",
     "text": [
      "2023-10-23 23:52:41,238 WARN scheduler.TaskSetManager: Stage 254 contains a task of very large size (175832 KiB). The maximum recommended task size is 1000 KiB.\n",
      "[Stage 256:==========================================>          (161 + 1) / 200]\r"
     ]
    },
    {
     "name": "stdout",
     "output_type": "stream",
     "text": [
      "+----------+-----------+\n",
      "|      Date|TweetsCount|\n",
      "+----------+-----------+\n",
      "|2009-04-06|       3360|\n",
      "|2009-04-07|      17311|\n",
      "|2009-04-08|       null|\n",
      "|2009-04-09|       null|\n",
      "|2009-04-10|       null|\n",
      "|2009-04-11|       null|\n",
      "|2009-04-12|       null|\n",
      "|2009-04-13|       null|\n",
      "|2009-04-14|       null|\n",
      "|2009-04-15|       null|\n",
      "|2009-04-16|       null|\n",
      "|2009-04-17|       3084|\n",
      "|2009-04-18|      21754|\n",
      "|2009-04-19|      27469|\n",
      "|2009-04-20|      18460|\n",
      "|2009-04-21|       8587|\n",
      "|2009-04-22|       null|\n",
      "|2009-04-23|       null|\n",
      "|2009-04-24|       null|\n",
      "|2009-04-25|       null|\n",
      "+----------+-----------+\n",
      "only showing top 20 rows\n",
      "\n"
     ]
    },
    {
     "name": "stderr",
     "output_type": "stream",
     "text": [
      "                                                                                \r"
     ]
    }
   ],
   "source": [
    "# Perform a left join between date_df and df_day\n",
    "result_df = date_df.join(df_day, \"Date\", \"left\")\n",
    "\n",
    "# Sort the result DataFrame by date\n",
    "result_df = result_df.orderBy(\"Date\")\n",
    "\n",
    "# Show the sorted result DataFrame\n",
    "result_df.show()"
   ]
  },
  {
   "cell_type": "code",
   "execution_count": 91,
   "id": "e056620b",
   "metadata": {},
   "outputs": [
    {
     "name": "stderr",
     "output_type": "stream",
     "text": [
      "                                                                                \r"
     ]
    },
    {
     "data": {
      "image/png": "[encoded data removed]",
      "text/plain": [
       "<Figure size 864x432 with 1 Axes>"
      ]
     },
     "metadata": {},
     "output_type": "display_data"
    }
   ],
   "source": [
    "result_df_pandas = result_df.toPandas()\n",
    "\n",
    "# Fill null values in 'TweetsCount' with 0\n",
    "result_df_pandas['TweetsCount'].fillna(0, inplace=True)\n",
    "\n",
    "# Plot the line chart with red color\n",
    "plt.figure(figsize=(12, 6))\n",
    "plt.plot(result_df_pandas['Date'], result_df_pandas['TweetsCount'], marker='o', linestyle='-', color='red')\n",
    "plt.xlabel('Date')\n",
    "plt.ylabel('Tweets Count')\n",
    "plt.title('Tweets Count Over Time')\n",
    "\n",
    "# Rotate x-axis labels by 90 degrees and display each x tick\n",
    "plt.xticks(rotation=90)\n",
    "plt.grid(True)\n",
    "\n",
    "# Display the chart\n",
    "plt.show()"
   ]
  },
  {
   "cell_type": "code",
   "execution_count": 98,
   "id": "2bfd1ff4",
   "metadata": {},
   "outputs": [
    {
     "name": "stderr",
     "output_type": "stream",
     "text": [
      "2023-10-23 23:18:53,590 WARN scheduler.TaskSetManager: Stage 189 contains a task of very large size (175832 KiB). The maximum recommended task size is 1000 KiB.\n",
      "2023-10-23 23:19:06,799 WARN scheduler.TaskSetManager: Stage 194 contains a task of very large size (175832 KiB). The maximum recommended task size is 1000 KiB.\n",
      "[Stage 197:=============================================>       (171 + 1) / 200]\r"
     ]
    },
    {
     "name": "stdout",
     "output_type": "stream",
     "text": [
      "Number of days with values: 48\n",
      "Number of days with null values: 33\n",
      "Ratio of days with values to days with null values: 1.4545454545454546\n"
     ]
    },
    {
     "name": "stderr",
     "output_type": "stream",
     "text": [
      "                                                                                \r"
     ]
    }
   ],
   "source": [
    "from pyspark.sql.functions import isnull\n",
    "\n",
    "# Count the number of days with values\n",
    "days_with_values = result_df.filter(~isnull(\"TweetsCount\")).count()\n",
    "\n",
    "# Count the number of days with null values\n",
    "days_with_nulls = result_df.filter(isnull(\"TweetsCount\")).count()\n",
    "\n",
    "# Calculate the ratio of days with values to days with null values\n",
    "ratio = days_with_values / days_with_nulls\n",
    "\n",
    "print(f\"Number of days with values: {days_with_values}\")\n",
    "print(f\"Number of days with null values: {days_with_nulls}\")\n",
    "print(f\"Ratio of days with values to days with null values: {ratio}\")"
   ]
  },
  {
   "cell_type": "code",
   "execution_count": 119,
   "id": "ef8baac4",
   "metadata": {},
   "outputs": [
    {
     "data": {
      "application/vnd.plotly.v1+json": {
       "config": {
        "plotlyServerURL": "https://plot.ly"
       },
       "data": [
        {
         "domain": {
          "x": [
           0,
           1
          ],
          "y": [
           0,
           1
          ]
         },
         "hovertemplate": "Category=%{label}<br>Count=%{value}<extra></extra>",
         "labels": [
          "Days with Tweets",
          "Days without"
         ],
         "legendgroup": "",
         "marker": {
          "colors": [
           "green",
           "lightgray"
          ]
         },
         "name": "",
         "pull": [
          0.1,
          0
         ],
         "showlegend": true,
         "textinfo": "percent+label",
         "type": "pie",
         "values": [
          48,
          33
         ]
        }
       ],
       "layout": {
        "legend": {
         "tracegroupgap": 0
        },
        "template": {
         "data": {
          "bar": [
           {
            "error_x": {
             "color": "#2a3f5f"
            },
            "error_y": {
             "color": "#2a3f5f"
            },
            "marker": {
             "line": {
              "color": "#E5ECF6",
              "width": 0.5
             },
             "pattern": {
              "fillmode": "overlay",
              "size": 10,
              "solidity": 0.2
             }
            },
            "type": "bar"
           }
          ],
          "barpolar": [
           {
            "marker": {
             "line": {
              "color": "#E5ECF6",
              "width": 0.5
             },
             "pattern": {
              "fillmode": "overlay",
              "size": 10,
              "solidity": 0.2
             }
            },
            "type": "barpolar"
           }
          ],
          "carpet": [
           {
            "aaxis": {
             "endlinecolor": "#2a3f5f",
             "gridcolor": "white",
             "linecolor": "white",
             "minorgridcolor": "white",
             "startlinecolor": "#2a3f5f"
            },
            "baxis": {
             "endlinecolor": "#2a3f5f",
             "gridcolor": "white",
             "linecolor": "white",
             "minorgridcolor": "white",
             "startlinecolor": "#2a3f5f"
            },
            "type": "carpet"
           }
          ],
          "choropleth": [
           {
            "colorbar": {
             "outlinewidth": 0,
             "ticks": ""
            },
            "type": "choropleth"
           }
          ],
          "contour": [
           {
            "colorbar": {
             "outlinewidth": 0,
             "ticks": ""
            },
            "colorscale": [
             [
              0,
              "#0d0887"
             ],
             [
              0.1111111111111111,
              "#46039f"
             ],
             [
              0.2222222222222222,
              "#7201a8"
             ],
             [
              0.3333333333333333,
              "#9c179e"
             ],
             [
              0.4444444444444444,
              "#bd3786"
             ],
             [
              0.5555555555555556,
              "#d8576b"
             ],
             [
              0.6666666666666666,
              "#ed7953"
             ],
             [
              0.7777777777777778,
              "#fb9f3a"
             ],
             [
              0.8888888888888888,
              "#fdca26"
             ],
             [
              1,
              "#f0f921"
             ]
            ],
            "type": "contour"
           }
          ],
          "contourcarpet": [
           {
            "colorbar": {
             "outlinewidth": 0,
             "ticks": ""
            },
            "type": "contourcarpet"
           }
          ],
          "heatmap": [
           {
            "colorbar": {
             "outlinewidth": 0,
             "ticks": ""
            },
            "colorscale": [
             [
              0,
              "#0d0887"
             ],
             [
              0.1111111111111111,
              "#46039f"
             ],
             [
              0.2222222222222222,
              "#7201a8"
             ],
             [
              0.3333333333333333,
              "#9c179e"
             ],
             [
              0.4444444444444444,
              "#bd3786"
             ],
             [
              0.5555555555555556,
              "#d8576b"
             ],
             [
              0.6666666666666666,
              "#ed7953"
             ],
             [
              0.7777777777777778,
              "#fb9f3a"
             ],
             [
              0.8888888888888888,
              "#fdca26"
             ],
             [
              1,
              "#f0f921"
             ]
            ],
            "type": "heatmap"
           }
          ],
          "heatmapgl": [
           {
            "colorbar": {
             "outlinewidth": 0,
             "ticks": ""
            },
            "colorscale": [
             [
              0,
              "#0d0887"
             ],
             [
              0.1111111111111111,
              "#46039f"
             ],
             [
              0.2222222222222222,
              "#7201a8"
             ],
             [
              0.3333333333333333,
              "#9c179e"
             ],
             [
              0.4444444444444444,
              "#bd3786"
             ],
             [
              0.5555555555555556,
              "#d8576b"
             ],
             [
              0.6666666666666666,
              "#ed7953"
             ],
             [
              0.7777777777777778,
              "#fb9f3a"
             ],
             [
              0.8888888888888888,
              "#fdca26"
             ],
             [
              1,
              "#f0f921"
             ]
            ],
            "type": "heatmapgl"
           }
          ],
          "histogram": [
           {
            "marker": {
             "pattern": {
              "fillmode": "overlay",
              "size": 10,
              "solidity": 0.2
             }
            },
            "type": "histogram"
           }
          ],
          "histogram2d": [
           {
            "colorbar": {
             "outlinewidth": 0,
             "ticks": ""
            },
            "colorscale": [
             [
              0,
              "#0d0887"
             ],
             [
              0.1111111111111111,
              "#46039f"
             ],
             [
              0.2222222222222222,
              "#7201a8"
             ],
             [
              0.3333333333333333,
              "#9c179e"
             ],
             [
              0.4444444444444444,
              "#bd3786"
             ],
             [
              0.5555555555555556,
              "#d8576b"
             ],
             [
              0.6666666666666666,
              "#ed7953"
             ],
             [
              0.7777777777777778,
              "#fb9f3a"
             ],
             [
              0.8888888888888888,
              "#fdca26"
             ],
             [
              1,
              "#f0f921"
             ]
            ],
            "type": "histogram2d"
           }
          ],
          "histogram2dcontour": [
           {
            "colorbar": {
             "outlinewidth": 0,
             "ticks": ""
            },
            "colorscale": [
             [
              0,
              "#0d0887"
             ],
             [
              0.1111111111111111,
              "#46039f"
             ],
             [
              0.2222222222222222,
              "#7201a8"
             ],
             [
              0.3333333333333333,
              "#9c179e"
             ],
             [
              0.4444444444444444,
              "#bd3786"
             ],
             [
              0.5555555555555556,
              "#d8576b"
             ],
             [
              0.6666666666666666,
              "#ed7953"
             ],
             [
              0.7777777777777778,
              "#fb9f3a"
             ],
             [
              0.8888888888888888,
              "#fdca26"
             ],
             [
              1,
              "#f0f921"
             ]
            ],
            "type": "histogram2dcontour"
           }
          ],
          "mesh3d": [
           {
            "colorbar": {
             "outlinewidth": 0,
             "ticks": ""
            },
            "type": "mesh3d"
           }
          ],
          "parcoords": [
           {
            "line": {
             "colorbar": {
              "outlinewidth": 0,
              "ticks": ""
             }
            },
            "type": "parcoords"
           }
          ],
          "pie": [
           {
            "automargin": true,
            "type": "pie"
           }
          ],
          "scatter": [
           {
            "fillpattern": {
             "fillmode": "overlay",
             "size": 10,
             "solidity": 0.2
            },
            "type": "scatter"
           }
          ],
          "scatter3d": [
           {
            "line": {
             "colorbar": {
              "outlinewidth": 0,
              "ticks": ""
             }
            },
            "marker": {
             "colorbar": {
              "outlinewidth": 0,
              "ticks": ""
             }
            },
            "type": "scatter3d"
           }
          ],
          "scattercarpet": [
           {
            "marker": {
             "colorbar": {
              "outlinewidth": 0,
              "ticks": ""
             }
            },
            "type": "scattercarpet"
           }
          ],
          "scattergeo": [
           {
            "marker": {
             "colorbar": {
              "outlinewidth": 0,
              "ticks": ""
             }
            },
            "type": "scattergeo"
           }
          ],
          "scattergl": [
           {
            "marker": {
             "colorbar": {
              "outlinewidth": 0,
              "ticks": ""
             }
            },
            "type": "scattergl"
           }
          ],
          "scattermapbox": [
           {
            "marker": {
             "colorbar": {
              "outlinewidth": 0,
              "ticks": ""
             }
            },
            "type": "scattermapbox"
           }
          ],
          "scatterpolar": [
           {
            "marker": {
             "colorbar": {
              "outlinewidth": 0,
              "ticks": ""
             }
            },
            "type": "scatterpolar"
           }
          ],
          "scatterpolargl": [
           {
            "marker": {
             "colorbar": {
              "outlinewidth": 0,
              "ticks": ""
             }
            },
            "type": "scatterpolargl"
           }
          ],
          "scatterternary": [
           {
            "marker": {
             "colorbar": {
              "outlinewidth": 0,
              "ticks": ""
             }
            },
            "type": "scatterternary"
           }
          ],
          "surface": [
           {
            "colorbar": {
             "outlinewidth": 0,
             "ticks": ""
            },
            "colorscale": [
             [
              0,
              "#0d0887"
             ],
             [
              0.1111111111111111,
              "#46039f"
             ],
             [
              0.2222222222222222,
              "#7201a8"
             ],
             [
              0.3333333333333333,
              "#9c179e"
             ],
             [
              0.4444444444444444,
              "#bd3786"
             ],
             [
              0.5555555555555556,
              "#d8576b"
             ],
             [
              0.6666666666666666,
              "#ed7953"
             ],
             [
              0.7777777777777778,
              "#fb9f3a"
             ],
             [
              0.8888888888888888,
              "#fdca26"
             ],
             [
              1,
              "#f0f921"
             ]
            ],
            "type": "surface"
           }
          ],
          "table": [
           {
            "cells": {
             "fill": {
              "color": "#EBF0F8"
             },
             "line": {
              "color": "white"
             }
            },
            "header": {
             "fill": {
              "color": "#C8D4E3"
             },
             "line": {
              "color": "white"
             }
            },
            "type": "table"
           }
          ]
         },
         "layout": {
          "annotationdefaults": {
           "arrowcolor": "#2a3f5f",
           "arrowhead": 0,
           "arrowwidth": 1
          },
          "autotypenumbers": "strict",
          "coloraxis": {
           "colorbar": {
            "outlinewidth": 0,
            "ticks": ""
           }
          },
          "colorscale": {
           "diverging": [
            [
             0,
             "#8e0152"
            ],
            [
             0.1,
             "#c51b7d"
            ],
            [
             0.2,
             "#de77ae"
            ],
            [
             0.3,
             "#f1b6da"
            ],
            [
             0.4,
             "#fde0ef"
            ],
            [
             0.5,
             "#f7f7f7"
            ],
            [
             0.6,
             "#e6f5d0"
            ],
            [
             0.7,
             "#b8e186"
            ],
            [
             0.8,
             "#7fbc41"
            ],
            [
             0.9,
             "#4d9221"
            ],
            [
             1,
             "#276419"
            ]
           ],
           "sequential": [
            [
             0,
             "#0d0887"
            ],
            [
             0.1111111111111111,
             "#46039f"
            ],
            [
             0.2222222222222222,
             "#7201a8"
            ],
            [
             0.3333333333333333,
             "#9c179e"
            ],
            [
             0.4444444444444444,
             "#bd3786"
            ],
            [
             0.5555555555555556,
             "#d8576b"
            ],
            [
             0.6666666666666666,
             "#ed7953"
            ],
            [
             0.7777777777777778,
             "#fb9f3a"
            ],
            [
             0.8888888888888888,
             "#fdca26"
            ],
            [
             1,
             "#f0f921"
            ]
           ],
           "sequentialminus": [
            [
             0,
             "#0d0887"
            ],
            [
             0.1111111111111111,
             "#46039f"
            ],
            [
             0.2222222222222222,
             "#7201a8"
            ],
            [
             0.3333333333333333,
             "#9c179e"
            ],
            [
             0.4444444444444444,
             "#bd3786"
            ],
            [
             0.5555555555555556,
             "#d8576b"
            ],
            [
             0.6666666666666666,
             "#ed7953"
            ],
            [
             0.7777777777777778,
             "#fb9f3a"
            ],
            [
             0.8888888888888888,
             "#fdca26"
            ],
            [
             1,
             "#f0f921"
            ]
           ]
          },
          "colorway": [
           "#636efa",
           "#EF553B",
           "#00cc96",
           "#ab63fa",
           "#FFA15A",
           "#19d3f3",
           "#FF6692",
           "#B6E880",
           "#FF97FF",
           "#FECB52"
          ],
          "font": {
           "color": "#2a3f5f"
          },
          "geo": {
           "bgcolor": "white",
           "lakecolor": "white",
           "landcolor": "#E5ECF6",
           "showlakes": true,
           "showland": true,
           "subunitcolor": "white"
          },
          "hoverlabel": {
           "align": "left"
          },
          "hovermode": "closest",
          "mapbox": {
           "style": "light"
          },
          "paper_bgcolor": "white",
          "plot_bgcolor": "#E5ECF6",
          "polar": {
           "angularaxis": {
            "gridcolor": "white",
            "linecolor": "white",
            "ticks": ""
           },
           "bgcolor": "#E5ECF6",
           "radialaxis": {
            "gridcolor": "white",
            "linecolor": "white",
            "ticks": ""
           }
          },
          "scene": {
           "xaxis": {
            "backgroundcolor": "#E5ECF6",
            "gridcolor": "white",
            "gridwidth": 2,
            "linecolor": "white",
            "showbackground": true,
            "ticks": "",
            "zerolinecolor": "white"
           },
           "yaxis": {
            "backgroundcolor": "#E5ECF6",
            "gridcolor": "white",
            "gridwidth": 2,
            "linecolor": "white",
            "showbackground": true,
            "ticks": "",
            "zerolinecolor": "white"
           },
           "zaxis": {
            "backgroundcolor": "#E5ECF6",
            "gridcolor": "white",
            "gridwidth": 2,
            "linecolor": "white",
            "showbackground": true,
            "ticks": "",
            "zerolinecolor": "white"
           }
          },
          "shapedefaults": {
           "line": {
            "color": "#2a3f5f"
           }
          },
          "ternary": {
           "aaxis": {
            "gridcolor": "white",
            "linecolor": "white",
            "ticks": ""
           },
           "baxis": {
            "gridcolor": "white",
            "linecolor": "white",
            "ticks": ""
           },
           "bgcolor": "#E5ECF6",
           "caxis": {
            "gridcolor": "white",
            "linecolor": "white",
            "ticks": ""
           }
          },
          "title": {
           "x": 0.05
          },
          "xaxis": {
           "automargin": true,
           "gridcolor": "white",
           "linecolor": "white",
           "ticks": "",
           "title": {
            "standoff": 15
           },
           "zerolinecolor": "white",
           "zerolinewidth": 2
          },
          "yaxis": {
           "automargin": true,
           "gridcolor": "white",
           "linecolor": "white",
           "ticks": "",
           "title": {
            "standoff": 15
           },
           "zerolinecolor": "white",
           "zerolinewidth": 2
          }
         }
        },
        "title": {
         "text": "Distribution of Days with Tweets and Without"
        }
       }
      },
      "text/html": [
       "<div>                            <div id=\"4784fead-df85-4961-93f2-4ec6cb1d9a80\" class=\"plotly-graph-div\" style=\"height:525px; width:100%;\"></div>            <script type=\"text/javascript\">                require([\"plotly\"], function(Plotly) {                    window.PLOTLYENV=window.PLOTLYENV || {};                                    if (document.getElementById(\"4784fead-df85-4961-93f2-4ec6cb1d9a80\")) {                    Plotly.newPlot(                        \"4784fead-df85-4961-93f2-4ec6cb1d9a80\",                        [{\"domain\":{\"x\":[0.0,1.0],\"y\":[0.0,1.0]},\"hovertemplate\":\"Category=%{label}\\u003cbr\\u003eCount=%{value}\\u003cextra\\u003e\\u003c\\u002fextra\\u003e\",\"labels\":[\"Days with Tweets\",\"Days without\"],\"legendgroup\":\"\",\"name\":\"\",\"showlegend\":true,\"values\":[48,33],\"type\":\"pie\",\"pull\":[0.1,0],\"textinfo\":\"percent+label\",\"marker\":{\"colors\":[\"green\",\"lightgray\"]}}],                        {\"template\":{\"data\":{\"histogram2dcontour\":[{\"type\":\"histogram2dcontour\",\"colorbar\":{\"outlinewidth\":0,\"ticks\":\"\"},\"colorscale\":[[0.0,\"#0d0887\"],[0.1111111111111111,\"#46039f\"],[0.2222222222222222,\"#7201a8\"],[0.3333333333333333,\"#9c179e\"],[0.4444444444444444,\"#bd3786\"],[0.5555555555555556,\"#d8576b\"],[0.6666666666666666,\"#ed7953\"],[0.7777777777777778,\"#fb9f3a\"],[0.8888888888888888,\"#fdca26\"],[1.0,\"#f0f921\"]]}],\"choropleth\":[{\"type\":\"choropleth\",\"colorbar\":{\"outlinewidth\":0,\"ticks\":\"\"}}],\"histogram2d\":[{\"type\":\"histogram2d\",\"colorbar\":{\"outlinewidth\":0,\"ticks\":\"\"},\"colorscale\":[[0.0,\"#0d0887\"],[0.1111111111111111,\"#46039f\"],[0.2222222222222222,\"#7201a8\"],[0.3333333333333333,\"#9c179e\"],[0.4444444444444444,\"#bd3786\"],[0.5555555555555556,\"#d8576b\"],[0.6666666666666666,\"#ed7953\"],[0.7777777777777778,\"#fb9f3a\"],[0.8888888888888888,\"#fdca26\"],[1.0,\"#f0f921\"]]}],\"heatmap\":[{\"type\":\"heatmap\",\"colorbar\":{\"outlinewidth\":0,\"ticks\":\"\"},\"colorscale\":[[0.0,\"#0d0887\"],[0.1111111111111111,\"#46039f\"],[0.2222222222222222,\"#7201a8\"],[0.3333333333333333,\"#9c179e\"],[0.4444444444444444,\"#bd3786\"],[0.5555555555555556,\"#d8576b\"],[0.6666666666666666,\"#ed7953\"],[0.7777777777777778,\"#fb9f3a\"],[0.8888888888888888,\"#fdca26\"],[1.0,\"#f0f921\"]]}],\"heatmapgl\":[{\"type\":\"heatmapgl\",\"colorbar\":{\"outlinewidth\":0,\"ticks\":\"\"},\"colorscale\":[[0.0,\"#0d0887\"],[0.1111111111111111,\"#46039f\"],[0.2222222222222222,\"#7201a8\"],[0.3333333333333333,\"#9c179e\"],[0.4444444444444444,\"#bd3786\"],[0.5555555555555556,\"#d8576b\"],[0.6666666666666666,\"#ed7953\"],[0.7777777777777778,\"#fb9f3a\"],[0.8888888888888888,\"#fdca26\"],[1.0,\"#f0f921\"]]}],\"contourcarpet\":[{\"type\":\"contourcarpet\",\"colorbar\":{\"outlinewidth\":0,\"ticks\":\"\"}}],\"contour\":[{\"type\":\"contour\",\"colorbar\":{\"outlinewidth\":0,\"ticks\":\"\"},\"colorscale\":[[0.0,\"#0d0887\"],[0.1111111111111111,\"#46039f\"],[0.2222222222222222,\"#7201a8\"],[0.3333333333333333,\"#9c179e\"],[0.4444444444444444,\"#bd3786\"],[0.5555555555555556,\"#d8576b\"],[0.6666666666666666,\"#ed7953\"],[0.7777777777777778,\"#fb9f3a\"],[0.8888888888888888,\"#fdca26\"],[1.0,\"#f0f921\"]]}],\"surface\":[{\"type\":\"surface\",\"colorbar\":{\"outlinewidth\":0,\"ticks\":\"\"},\"colorscale\":[[0.0,\"#0d0887\"],[0.1111111111111111,\"#46039f\"],[0.2222222222222222,\"#7201a8\"],[0.3333333333333333,\"#9c179e\"],[0.4444444444444444,\"#bd3786\"],[0.5555555555555556,\"#d8576b\"],[0.6666666666666666,\"#ed7953\"],[0.7777777777777778,\"#fb9f3a\"],[0.8888888888888888,\"#fdca26\"],[1.0,\"#f0f921\"]]}],\"mesh3d\":[{\"type\":\"mesh3d\",\"colorbar\":{\"outlinewidth\":0,\"ticks\":\"\"}}],\"scatter\":[{\"fillpattern\":{\"fillmode\":\"overlay\",\"size\":10,\"solidity\":0.2},\"type\":\"scatter\"}],\"parcoords\":[{\"type\":\"parcoords\",\"line\":{\"colorbar\":{\"outlinewidth\":0,\"ticks\":\"\"}}}],\"scatterpolargl\":[{\"type\":\"scatterpolargl\",\"marker\":{\"colorbar\":{\"outlinewidth\":0,\"ticks\":\"\"}}}],\"bar\":[{\"error_x\":{\"color\":\"#2a3f5f\"},\"error_y\":{\"color\":\"#2a3f5f\"},\"marker\":{\"line\":{\"color\":\"#E5ECF6\",\"width\":0.5},\"pattern\":{\"fillmode\":\"overlay\",\"size\":10,\"solidity\":0.2}},\"type\":\"bar\"}],\"scattergeo\":[{\"type\":\"scattergeo\",\"marker\":{\"colorbar\":{\"outlinewidth\":0,\"ticks\":\"\"}}}],\"scatterpolar\":[{\"type\":\"scatterpolar\",\"marker\":{\"colorbar\":{\"outlinewidth\":0,\"ticks\":\"\"}}}],\"histogram\":[{\"marker\":{\"pattern\":{\"fillmode\":\"overlay\",\"size\":10,\"solidity\":0.2}},\"type\":\"histogram\"}],\"scattergl\":[{\"type\":\"scattergl\",\"marker\":{\"colorbar\":{\"outlinewidth\":0,\"ticks\":\"\"}}}],\"scatter3d\":[{\"type\":\"scatter3d\",\"line\":{\"colorbar\":{\"outlinewidth\":0,\"ticks\":\"\"}},\"marker\":{\"colorbar\":{\"outlinewidth\":0,\"ticks\":\"\"}}}],\"scattermapbox\":[{\"type\":\"scattermapbox\",\"marker\":{\"colorbar\":{\"outlinewidth\":0,\"ticks\":\"\"}}}],\"scatterternary\":[{\"type\":\"scatterternary\",\"marker\":{\"colorbar\":{\"outlinewidth\":0,\"ticks\":\"\"}}}],\"scattercarpet\":[{\"type\":\"scattercarpet\",\"marker\":{\"colorbar\":{\"outlinewidth\":0,\"ticks\":\"\"}}}],\"carpet\":[{\"aaxis\":{\"endlinecolor\":\"#2a3f5f\",\"gridcolor\":\"white\",\"linecolor\":\"white\",\"minorgridcolor\":\"white\",\"startlinecolor\":\"#2a3f5f\"},\"baxis\":{\"endlinecolor\":\"#2a3f5f\",\"gridcolor\":\"white\",\"linecolor\":\"white\",\"minorgridcolor\":\"white\",\"startlinecolor\":\"#2a3f5f\"},\"type\":\"carpet\"}],\"table\":[{\"cells\":{\"fill\":{\"color\":\"#EBF0F8\"},\"line\":{\"color\":\"white\"}},\"header\":{\"fill\":{\"color\":\"#C8D4E3\"},\"line\":{\"color\":\"white\"}},\"type\":\"table\"}],\"barpolar\":[{\"marker\":{\"line\":{\"color\":\"#E5ECF6\",\"width\":0.5},\"pattern\":{\"fillmode\":\"overlay\",\"size\":10,\"solidity\":0.2}},\"type\":\"barpolar\"}],\"pie\":[{\"automargin\":true,\"type\":\"pie\"}]},\"layout\":{\"autotypenumbers\":\"strict\",\"colorway\":[\"#636efa\",\"#EF553B\",\"#00cc96\",\"#ab63fa\",\"#FFA15A\",\"#19d3f3\",\"#FF6692\",\"#B6E880\",\"#FF97FF\",\"#FECB52\"],\"font\":{\"color\":\"#2a3f5f\"},\"hovermode\":\"closest\",\"hoverlabel\":{\"align\":\"left\"},\"paper_bgcolor\":\"white\",\"plot_bgcolor\":\"#E5ECF6\",\"polar\":{\"bgcolor\":\"#E5ECF6\",\"angularaxis\":{\"gridcolor\":\"white\",\"linecolor\":\"white\",\"ticks\":\"\"},\"radialaxis\":{\"gridcolor\":\"white\",\"linecolor\":\"white\",\"ticks\":\"\"}},\"ternary\":{\"bgcolor\":\"#E5ECF6\",\"aaxis\":{\"gridcolor\":\"white\",\"linecolor\":\"white\",\"ticks\":\"\"},\"baxis\":{\"gridcolor\":\"white\",\"linecolor\":\"white\",\"ticks\":\"\"},\"caxis\":{\"gridcolor\":\"white\",\"linecolor\":\"white\",\"ticks\":\"\"}},\"coloraxis\":{\"colorbar\":{\"outlinewidth\":0,\"ticks\":\"\"}},\"colorscale\":{\"sequential\":[[0.0,\"#0d0887\"],[0.1111111111111111,\"#46039f\"],[0.2222222222222222,\"#7201a8\"],[0.3333333333333333,\"#9c179e\"],[0.4444444444444444,\"#bd3786\"],[0.5555555555555556,\"#d8576b\"],[0.6666666666666666,\"#ed7953\"],[0.7777777777777778,\"#fb9f3a\"],[0.8888888888888888,\"#fdca26\"],[1.0,\"#f0f921\"]],\"sequentialminus\":[[0.0,\"#0d0887\"],[0.1111111111111111,\"#46039f\"],[0.2222222222222222,\"#7201a8\"],[0.3333333333333333,\"#9c179e\"],[0.4444444444444444,\"#bd3786\"],[0.5555555555555556,\"#d8576b\"],[0.6666666666666666,\"#ed7953\"],[0.7777777777777778,\"#fb9f3a\"],[0.8888888888888888,\"#fdca26\"],[1.0,\"#f0f921\"]],\"diverging\":[[0,\"#8e0152\"],[0.1,\"#c51b7d\"],[0.2,\"#de77ae\"],[0.3,\"#f1b6da\"],[0.4,\"#fde0ef\"],[0.5,\"#f7f7f7\"],[0.6,\"#e6f5d0\"],[0.7,\"#b8e186\"],[0.8,\"#7fbc41\"],[0.9,\"#4d9221\"],[1,\"#276419\"]]},\"xaxis\":{\"gridcolor\":\"white\",\"linecolor\":\"white\",\"ticks\":\"\",\"title\":{\"standoff\":15},\"zerolinecolor\":\"white\",\"automargin\":true,\"zerolinewidth\":2},\"yaxis\":{\"gridcolor\":\"white\",\"linecolor\":\"white\",\"ticks\":\"\",\"title\":{\"standoff\":15},\"zerolinecolor\":\"white\",\"automargin\":true,\"zerolinewidth\":2},\"scene\":{\"xaxis\":{\"backgroundcolor\":\"#E5ECF6\",\"gridcolor\":\"white\",\"linecolor\":\"white\",\"showbackground\":true,\"ticks\":\"\",\"zerolinecolor\":\"white\",\"gridwidth\":2},\"yaxis\":{\"backgroundcolor\":\"#E5ECF6\",\"gridcolor\":\"white\",\"linecolor\":\"white\",\"showbackground\":true,\"ticks\":\"\",\"zerolinecolor\":\"white\",\"gridwidth\":2},\"zaxis\":{\"backgroundcolor\":\"#E5ECF6\",\"gridcolor\":\"white\",\"linecolor\":\"white\",\"showbackground\":true,\"ticks\":\"\",\"zerolinecolor\":\"white\",\"gridwidth\":2}},\"shapedefaults\":{\"line\":{\"color\":\"#2a3f5f\"}},\"annotationdefaults\":{\"arrowcolor\":\"#2a3f5f\",\"arrowhead\":0,\"arrowwidth\":1},\"geo\":{\"bgcolor\":\"white\",\"landcolor\":\"#E5ECF6\",\"subunitcolor\":\"white\",\"showland\":true,\"showlakes\":true,\"lakecolor\":\"white\"},\"title\":{\"x\":0.05},\"mapbox\":{\"style\":\"light\"}}},\"legend\":{\"tracegroupgap\":0},\"title\":{\"text\":\"Distribution of Days with Tweets and Without\"}},                        {\"responsive\": true}                    ).then(function(){\n",
       "                            \n",
       "var gd = document.getElementById('4784fead-df85-4961-93f2-4ec6cb1d9a80');\n",
       "var x = new MutationObserver(function (mutations, observer) {{\n",
       "        var display = window.getComputedStyle(gd).display;\n",
       "        if (!display || display === 'none') {{\n",
       "            console.log([gd, 'removed!']);\n",
       "            Plotly.purge(gd);\n",
       "            observer.disconnect();\n",
       "        }}\n",
       "}});\n",
       "\n",
       "// Listen for the removal of the full notebook cells\n",
       "var notebookContainer = gd.closest('#notebook-container');\n",
       "if (notebookContainer) {{\n",
       "    x.observe(notebookContainer, {childList: true});\n",
       "}}\n",
       "\n",
       "// Listen for the clearing of the current output cell\n",
       "var outputEl = gd.closest('.output');\n",
       "if (outputEl) {{\n",
       "    x.observe(outputEl, {childList: true});\n",
       "}}\n",
       "\n",
       "                        })                };                });            </script>        </div>"
      ]
     },
     "metadata": {},
     "output_type": "display_data"
    }
   ],
   "source": [
    "import plotly.express as px\n",
    "\n",
    "\n",
    "# Create a DataFrame\n",
    "data = pd.DataFrame({'Category': ['Days with Tweets', 'Days without'], 'Count': [days_with_values, days_with_nulls]})\n",
    "\n",
    "# Define custom colors\n",
    "colors = ['green', 'lightgray']\n",
    "\n",
    "# Create an interactive 3D pie chart\n",
    "fig = px.pie(data, names='Category', values='Count', title='Distribution of Days with Tweets and Without')\n",
    "fig.update_traces(textinfo='percent+label', pull=[0.1, 0])  \n",
    "\n",
    "# Customize colors\n",
    "fig.update_traces(marker=dict(colors=colors))\n",
    "# Show the interactive 3D pie chart\n",
    "fig.show()"
   ]
  },
  {
   "cell_type": "code",
   "execution_count": 133,
   "id": "e78cbfd5",
   "metadata": {},
   "outputs": [
    {
     "name": "stderr",
     "output_type": "stream",
     "text": [
      "2023-10-23 23:54:33,697 WARN scheduler.TaskSetManager: Stage 258 contains a task of very large size (175832 KiB). The maximum recommended task size is 1000 KiB.\n",
      "[Stage 260:===================================================> (195 + 1) / 200]\r"
     ]
    },
    {
     "name": "stdout",
     "output_type": "stream",
     "text": [
      "+----------+-----------+-------------+\n",
      "|      Date|TweetsCount|DayOfWeekName|\n",
      "+----------+-----------+-------------+\n",
      "|2009-04-06|       3360|       Monday|\n",
      "|2009-04-07|      17311|      Tuesday|\n",
      "|2009-04-08|       null|    Wednesday|\n",
      "|2009-04-09|       null|     Thursday|\n",
      "|2009-04-10|       null|       Friday|\n",
      "|2009-04-11|       null|     Saturday|\n",
      "|2009-04-12|       null|       Sunday|\n",
      "|2009-04-13|       null|       Monday|\n",
      "|2009-04-14|       null|      Tuesday|\n",
      "|2009-04-15|       null|    Wednesday|\n",
      "|2009-04-16|       null|     Thursday|\n",
      "|2009-04-17|       3084|       Friday|\n",
      "|2009-04-18|      21754|     Saturday|\n",
      "|2009-04-19|      27469|       Sunday|\n",
      "|2009-04-20|      18460|       Monday|\n",
      "|2009-04-21|       8587|      Tuesday|\n",
      "|2009-04-22|       null|    Wednesday|\n",
      "|2009-04-23|       null|     Thursday|\n",
      "|2009-04-24|       null|       Friday|\n",
      "|2009-04-25|       null|     Saturday|\n",
      "+----------+-----------+-------------+\n",
      "only showing top 20 rows\n",
      "\n"
     ]
    },
    {
     "name": "stderr",
     "output_type": "stream",
     "text": [
      "                                                                                \r"
     ]
    }
   ],
   "source": [
    "from pyspark.sql.functions import date_format\n",
    "\n",
    "result_df_with_day_of_week = result_df.withColumn(\"DayOfWeekName\", date_format(\"Date\", \"EEEE\"))\n",
    "\n",
    "# show the result\n",
    "result_df_with_day_of_week.show()"
   ]
  },
  {
   "cell_type": "code",
   "execution_count": 138,
   "id": "5a4d59c0",
   "metadata": {},
   "outputs": [
    {
     "name": "stderr",
     "output_type": "stream",
     "text": [
      "2023-10-24 00:00:31,880 WARN scheduler.TaskSetManager: Stage 261 contains a task of very large size (175832 KiB). The maximum recommended task size is 1000 KiB.\n",
      "                                                                                \r"
     ]
    },
    {
     "data": {
      "image/png": "[encoded data removed]",
      "text/plain": [
       "<Figure size 720x432 with 1 Axes>"
      ]
     },
     "metadata": {},
     "output_type": "display_data"
    },
    {
     "name": "stderr",
     "output_type": "stream",
     "text": [
      "2023-10-24 04:28:49,440 WARN spark.HeartbeatReceiver: Removing executor driver with no recent heartbeats: 15245777 ms exceeds timeout 120000 ms\n",
      "2023-10-24 11:28:43,381 WARN spark.SparkContext: Killing executors is not supported by current scheduler.\n",
      "2023-10-24 11:28:44,322 WARN executor.Executor: Issue communicating with driver in heartbeater\n",
      "java.lang.NullPointerException\n",
      "\tat org.apache.spark.storage.memory.MemoryStore.getSize(MemoryStore.scala:131)\n",
      "\tat org.apache.spark.storage.BlockManager.org$apache$spark$storage$BlockManager$$getCurrentBlockStatus(BlockManager.scala:815)\n",
      "\tat org.apache.spark.storage.BlockManager.$anonfun$reportAllBlocks$3(BlockManager.scala:571)\n",
      "\tat org.apache.spark.storage.BlockManager.$anonfun$reportAllBlocks$3$adapted(BlockManager.scala:570)\n",
      "\tat scala.collection.Iterator.foreach(Iterator.scala:941)\n",
      "\tat scala.collection.Iterator.foreach$(Iterator.scala:941)\n",
      "\tat scala.collection.AbstractIterator.foreach(Iterator.scala:1429)\n",
      "\tat org.apache.spark.storage.BlockManager.reportAllBlocks(BlockManager.scala:570)\n",
      "\tat org.apache.spark.storage.BlockManager.reregister(BlockManager.scala:590)\n",
      "\tat org.apache.spark.executor.Executor.reportHeartBeat(Executor.scala:1001)\n",
      "\tat org.apache.spark.executor.Executor.$anonfun$heartbeater$1(Executor.scala:212)\n",
      "\tat scala.runtime.java8.JFunction0$mcV$sp.apply(JFunction0$mcV$sp.java:23)\n",
      "\tat org.apache.spark.util.Utils$.logUncaughtExceptions(Utils.scala:1996)\n",
      "\tat org.apache.spark.Heartbeater$$anon$1.run(Heartbeater.scala:46)\n",
      "\tat java.util.concurrent.Executors$RunnableAdapter.call(Executors.java:511)\n",
      "\tat java.util.concurrent.FutureTask.runAndReset(FutureTask.java:308)\n",
      "\tat java.util.concurrent.ScheduledThreadPoolExecutor$ScheduledFutureTask.access$301(ScheduledThreadPoolExecutor.java:180)\n",
      "\tat java.util.concurrent.ScheduledThreadPoolExecutor$ScheduledFutureTask.run(ScheduledThreadPoolExecutor.java:294)\n",
      "\tat java.util.concurrent.ThreadPoolExecutor.runWorker(ThreadPoolExecutor.java:1149)\n",
      "\tat java.util.concurrent.ThreadPoolExecutor$Worker.run(ThreadPoolExecutor.java:624)\n",
      "\tat java.lang.Thread.run(Thread.java:750)\n"
     ]
    }
   ],
   "source": [
    "from pyspark.sql.functions import sum, col, coalesce, lit\n",
    "\n",
    "\n",
    "\n",
    "grouped_df = result_df_with_day_of_week.withColumn(\"TweetsCount\", coalesce(col(\"TweetsCount\"), lit(0)).cast(\"int\")) \\\n",
    "    .groupBy(\"DayOfWeekName\") \\\n",
    "    .agg(sum(\"TweetsCount\").alias(\"TotalTweets\"))\n",
    "\n",
    "# sortting the results by \"TotalTweets\" in descending order\n",
    "grouped_df = grouped_df.orderBy(\"TotalTweets\", ascending=False)\n",
    "\n",
    "# converting to Pandas DataFrame for plotting\n",
    "grouped_pandas = grouped_df.toPandas()\n",
    "\n",
    "# creating the horizontal bar chart\n",
    "plt.figure(figsize=(10, 6))\n",
    "plt.barh(grouped_pandas[\"DayOfWeekName\"], grouped_pandas[\"TotalTweets\"], color='skyblue')\n",
    "plt.xlabel(\"Total Tweets\")\n",
    "plt.ylabel(\"Day of the Week\")\n",
    "plt.title(\"Total Tweets per Day of the Week\")\n",
    "plt.gca().invert_yaxis()  +\n",
    "plt.show()\n"
   ]
  },
  {
   "cell_type": "code",
   "execution_count": null,
   "id": "fb5acd73",
   "metadata": {},
   "outputs": [],
   "source": []
  },
  {
   "cell_type": "markdown",
   "id": "7119a119",
   "metadata": {},
   "source": [
    "#### Checking number of tweets per hour"
   ]
  },
  {
   "cell_type": "code",
   "execution_count": 139,
   "id": "789238cc",
   "metadata": {},
   "outputs": [
    {
     "name": "stderr",
     "output_type": "stream",
     "text": [
      "2023-10-24 11:31:02,439 WARN scheduler.TaskSetManager: Stage 272 contains a task of very large size (175832 KiB). The maximum recommended task size is 1000 KiB.\n",
      "                                                                                \r"
     ]
    },
    {
     "data": {
      "application/vnd.plotly.v1+json": {
       "config": {
        "plotlyServerURL": "https://plot.ly"
       },
       "data": [
        {
         "alignmentgroup": "True",
         "hovertemplate": "Hour of the Day=%{x}<br>Number of Tweets=%{y}<extra></extra>",
         "legendgroup": "",
         "marker": {
          "color": "#636efa",
          "pattern": {
           "shape": ""
          }
         },
         "name": "",
         "offsetgroup": "",
         "orientation": "v",
         "showlegend": false,
         "textposition": "auto",
         "type": "bar",
         "x": [
          0,
          1,
          2,
          3,
          4,
          5,
          6,
          7,
          8,
          9,
          10,
          11,
          12,
          13,
          14,
          15,
          16,
          17,
          18,
          19,
          20,
          21,
          22,
          23
         ],
         "xaxis": "x",
         "y": [
          80865,
          75268,
          73991,
          74253,
          76995,
          78623,
          80852,
          83654,
          76287,
          67278,
          60689,
          61009,
          51653,
          49689,
          50380,
          50643,
          55720,
          51843,
          53485,
          57722,
          57059,
          68964,
          78328,
          84750
         ],
         "yaxis": "y"
        }
       ],
       "layout": {
        "barmode": "relative",
        "legend": {
         "tracegroupgap": 0
        },
        "template": {
         "data": {
          "bar": [
           {
            "error_x": {
             "color": "#2a3f5f"
            },
            "error_y": {
             "color": "#2a3f5f"
            },
            "marker": {
             "line": {
              "color": "#E5ECF6",
              "width": 0.5
             },
             "pattern": {
              "fillmode": "overlay",
              "size": 10,
              "solidity": 0.2
             }
            },
            "type": "bar"
           }
          ],
          "barpolar": [
           {
            "marker": {
             "line": {
              "color": "#E5ECF6",
              "width": 0.5
             },
             "pattern": {
              "fillmode": "overlay",
              "size": 10,
              "solidity": 0.2
             }
            },
            "type": "barpolar"
           }
          ],
          "carpet": [
           {
            "aaxis": {
             "endlinecolor": "#2a3f5f",
             "gridcolor": "white",
             "linecolor": "white",
             "minorgridcolor": "white",
             "startlinecolor": "#2a3f5f"
            },
            "baxis": {
             "endlinecolor": "#2a3f5f",
             "gridcolor": "white",
             "linecolor": "white",
             "minorgridcolor": "white",
             "startlinecolor": "#2a3f5f"
            },
            "type": "carpet"
           }
          ],
          "choropleth": [
           {
            "colorbar": {
             "outlinewidth": 0,
             "ticks": ""
            },
            "type": "choropleth"
           }
          ],
          "contour": [
           {
            "colorbar": {
             "outlinewidth": 0,
             "ticks": ""
            },
            "colorscale": [
             [
              0,
              "#0d0887"
             ],
             [
              0.1111111111111111,
              "#46039f"
             ],
             [
              0.2222222222222222,
              "#7201a8"
             ],
             [
              0.3333333333333333,
              "#9c179e"
             ],
             [
              0.4444444444444444,
              "#bd3786"
             ],
             [
              0.5555555555555556,
              "#d8576b"
             ],
             [
              0.6666666666666666,
              "#ed7953"
             ],
             [
              0.7777777777777778,
              "#fb9f3a"
             ],
             [
              0.8888888888888888,
              "#fdca26"
             ],
             [
              1,
              "#f0f921"
             ]
            ],
            "type": "contour"
           }
          ],
          "contourcarpet": [
           {
            "colorbar": {
             "outlinewidth": 0,
             "ticks": ""
            },
            "type": "contourcarpet"
           }
          ],
          "heatmap": [
           {
            "colorbar": {
             "outlinewidth": 0,
             "ticks": ""
            },
            "colorscale": [
             [
              0,
              "#0d0887"
             ],
             [
              0.1111111111111111,
              "#46039f"
             ],
             [
              0.2222222222222222,
              "#7201a8"
             ],
             [
              0.3333333333333333,
              "#9c179e"
             ],
             [
              0.4444444444444444,
              "#bd3786"
             ],
             [
              0.5555555555555556,
              "#d8576b"
             ],
             [
              0.6666666666666666,
              "#ed7953"
             ],
             [
              0.7777777777777778,
              "#fb9f3a"
             ],
             [
              0.8888888888888888,
              "#fdca26"
             ],
             [
              1,
              "#f0f921"
             ]
            ],
            "type": "heatmap"
           }
          ],
          "heatmapgl": [
           {
            "colorbar": {
             "outlinewidth": 0,
             "ticks": ""
            },
            "colorscale": [
             [
              0,
              "#0d0887"
             ],
             [
              0.1111111111111111,
              "#46039f"
             ],
             [
              0.2222222222222222,
              "#7201a8"
             ],
             [
              0.3333333333333333,
              "#9c179e"
             ],
             [
              0.4444444444444444,
              "#bd3786"
             ],
             [
              0.5555555555555556,
              "#d8576b"
             ],
             [
              0.6666666666666666,
              "#ed7953"
             ],
             [
              0.7777777777777778,
              "#fb9f3a"
             ],
             [
              0.8888888888888888,
              "#fdca26"
             ],
             [
              1,
              "#f0f921"
             ]
            ],
            "type": "heatmapgl"
           }
          ],
          "histogram": [
           {
            "marker": {
             "pattern": {
              "fillmode": "overlay",
              "size": 10,
              "solidity": 0.2
             }
            },
            "type": "histogram"
           }
          ],
          "histogram2d": [
           {
            "colorbar": {
             "outlinewidth": 0,
             "ticks": ""
            },
            "colorscale": [
             [
              0,
              "#0d0887"
             ],
             [
              0.1111111111111111,
              "#46039f"
             ],
             [
              0.2222222222222222,
              "#7201a8"
             ],
             [
              0.3333333333333333,
              "#9c179e"
             ],
             [
              0.4444444444444444,
              "#bd3786"
             ],
             [
              0.5555555555555556,
              "#d8576b"
             ],
             [
              0.6666666666666666,
              "#ed7953"
             ],
             [
              0.7777777777777778,
              "#fb9f3a"
             ],
             [
              0.8888888888888888,
              "#fdca26"
             ],
             [
              1,
              "#f0f921"
             ]
            ],
            "type": "histogram2d"
           }
          ],
          "histogram2dcontour": [
           {
            "colorbar": {
             "outlinewidth": 0,
             "ticks": ""
            },
            "colorscale": [
             [
              0,
              "#0d0887"
             ],
             [
              0.1111111111111111,
              "#46039f"
             ],
             [
              0.2222222222222222,
              "#7201a8"
             ],
             [
              0.3333333333333333,
              "#9c179e"
             ],
             [
              0.4444444444444444,
              "#bd3786"
             ],
             [
              0.5555555555555556,
              "#d8576b"
             ],
             [
              0.6666666666666666,
              "#ed7953"
             ],
             [
              0.7777777777777778,
              "#fb9f3a"
             ],
             [
              0.8888888888888888,
              "#fdca26"
             ],
             [
              1,
              "#f0f921"
             ]
            ],
            "type": "histogram2dcontour"
           }
          ],
          "mesh3d": [
           {
            "colorbar": {
             "outlinewidth": 0,
             "ticks": ""
            },
            "type": "mesh3d"
           }
          ],
          "parcoords": [
           {
            "line": {
             "colorbar": {
              "outlinewidth": 0,
              "ticks": ""
             }
            },
            "type": "parcoords"
           }
          ],
          "pie": [
           {
            "automargin": true,
            "type": "pie"
           }
          ],
          "scatter": [
           {
            "fillpattern": {
             "fillmode": "overlay",
             "size": 10,
             "solidity": 0.2
            },
            "type": "scatter"
           }
          ],
          "scatter3d": [
           {
            "line": {
             "colorbar": {
              "outlinewidth": 0,
              "ticks": ""
             }
            },
            "marker": {
             "colorbar": {
              "outlinewidth": 0,
              "ticks": ""
             }
            },
            "type": "scatter3d"
           }
          ],
          "scattercarpet": [
           {
            "marker": {
             "colorbar": {
              "outlinewidth": 0,
              "ticks": ""
             }
            },
            "type": "scattercarpet"
           }
          ],
          "scattergeo": [
           {
            "marker": {
             "colorbar": {
              "outlinewidth": 0,
              "ticks": ""
             }
            },
            "type": "scattergeo"
           }
          ],
          "scattergl": [
           {
            "marker": {
             "colorbar": {
              "outlinewidth": 0,
              "ticks": ""
             }
            },
            "type": "scattergl"
           }
          ],
          "scattermapbox": [
           {
            "marker": {
             "colorbar": {
              "outlinewidth": 0,
              "ticks": ""
             }
            },
            "type": "scattermapbox"
           }
          ],
          "scatterpolar": [
           {
            "marker": {
             "colorbar": {
              "outlinewidth": 0,
              "ticks": ""
             }
            },
            "type": "scatterpolar"
           }
          ],
          "scatterpolargl": [
           {
            "marker": {
             "colorbar": {
              "outlinewidth": 0,
              "ticks": ""
             }
            },
            "type": "scatterpolargl"
           }
          ],
          "scatterternary": [
           {
            "marker": {
             "colorbar": {
              "outlinewidth": 0,
              "ticks": ""
             }
            },
            "type": "scatterternary"
           }
          ],
          "surface": [
           {
            "colorbar": {
             "outlinewidth": 0,
             "ticks": ""
            },
            "colorscale": [
             [
              0,
              "#0d0887"
             ],
             [
              0.1111111111111111,
              "#46039f"
             ],
             [
              0.2222222222222222,
              "#7201a8"
             ],
             [
              0.3333333333333333,
              "#9c179e"
             ],
             [
              0.4444444444444444,
              "#bd3786"
             ],
             [
              0.5555555555555556,
              "#d8576b"
             ],
             [
              0.6666666666666666,
              "#ed7953"
             ],
             [
              0.7777777777777778,
              "#fb9f3a"
             ],
             [
              0.8888888888888888,
              "#fdca26"
             ],
             [
              1,
              "#f0f921"
             ]
            ],
            "type": "surface"
           }
          ],
          "table": [
           {
            "cells": {
             "fill": {
              "color": "#EBF0F8"
             },
             "line": {
              "color": "white"
             }
            },
            "header": {
             "fill": {
              "color": "#C8D4E3"
             },
             "line": {
              "color": "white"
             }
            },
            "type": "table"
           }
          ]
         },
         "layout": {
          "annotationdefaults": {
           "arrowcolor": "#2a3f5f",
           "arrowhead": 0,
           "arrowwidth": 1
          },
          "autotypenumbers": "strict",
          "coloraxis": {
           "colorbar": {
            "outlinewidth": 0,
            "ticks": ""
           }
          },
          "colorscale": {
           "diverging": [
            [
             0,
             "#8e0152"
            ],
            [
             0.1,
             "#c51b7d"
            ],
            [
             0.2,
             "#de77ae"
            ],
            [
             0.3,
             "#f1b6da"
            ],
            [
             0.4,
             "#fde0ef"
            ],
            [
             0.5,
             "#f7f7f7"
            ],
            [
             0.6,
             "#e6f5d0"
            ],
            [
             0.7,
             "#b8e186"
            ],
            [
             0.8,
             "#7fbc41"
            ],
            [
             0.9,
             "#4d9221"
            ],
            [
             1,
             "#276419"
            ]
           ],
           "sequential": [
            [
             0,
             "#0d0887"
            ],
            [
             0.1111111111111111,
             "#46039f"
            ],
            [
             0.2222222222222222,
             "#7201a8"
            ],
            [
             0.3333333333333333,
             "#9c179e"
            ],
            [
             0.4444444444444444,
             "#bd3786"
            ],
            [
             0.5555555555555556,
             "#d8576b"
            ],
            [
             0.6666666666666666,
             "#ed7953"
            ],
            [
             0.7777777777777778,
             "#fb9f3a"
            ],
            [
             0.8888888888888888,
             "#fdca26"
            ],
            [
             1,
             "#f0f921"
            ]
           ],
           "sequentialminus": [
            [
             0,
             "#0d0887"
            ],
            [
             0.1111111111111111,
             "#46039f"
            ],
            [
             0.2222222222222222,
             "#7201a8"
            ],
            [
             0.3333333333333333,
             "#9c179e"
            ],
            [
             0.4444444444444444,
             "#bd3786"
            ],
            [
             0.5555555555555556,
             "#d8576b"
            ],
            [
             0.6666666666666666,
             "#ed7953"
            ],
            [
             0.7777777777777778,
             "#fb9f3a"
            ],
            [
             0.8888888888888888,
             "#fdca26"
            ],
            [
             1,
             "#f0f921"
            ]
           ]
          },
          "colorway": [
           "#636efa",
           "#EF553B",
           "#00cc96",
           "#ab63fa",
           "#FFA15A",
           "#19d3f3",
           "#FF6692",
           "#B6E880",
           "#FF97FF",
           "#FECB52"
          ],
          "font": {
           "color": "#2a3f5f"
          },
          "geo": {
           "bgcolor": "white",
           "lakecolor": "white",
           "landcolor": "#E5ECF6",
           "showlakes": true,
           "showland": true,
           "subunitcolor": "white"
          },
          "hoverlabel": {
           "align": "left"
          },
          "hovermode": "closest",
          "mapbox": {
           "style": "light"
          },
          "paper_bgcolor": "white",
          "plot_bgcolor": "#E5ECF6",
          "polar": {
           "angularaxis": {
            "gridcolor": "white",
            "linecolor": "white",
            "ticks": ""
           },
           "bgcolor": "#E5ECF6",
           "radialaxis": {
            "gridcolor": "white",
            "linecolor": "white",
            "ticks": ""
           }
          },
          "scene": {
           "xaxis": {
            "backgroundcolor": "#E5ECF6",
            "gridcolor": "white",
            "gridwidth": 2,
            "linecolor": "white",
            "showbackground": true,
            "ticks": "",
            "zerolinecolor": "white"
           },
           "yaxis": {
            "backgroundcolor": "#E5ECF6",
            "gridcolor": "white",
            "gridwidth": 2,
            "linecolor": "white",
            "showbackground": true,
            "ticks": "",
            "zerolinecolor": "white"
           },
           "zaxis": {
            "backgroundcolor": "#E5ECF6",
            "gridcolor": "white",
            "gridwidth": 2,
            "linecolor": "white",
            "showbackground": true,
            "ticks": "",
            "zerolinecolor": "white"
           }
          },
          "shapedefaults": {
           "line": {
            "color": "#2a3f5f"
           }
          },
          "ternary": {
           "aaxis": {
            "gridcolor": "white",
            "linecolor": "white",
            "ticks": ""
           },
           "baxis": {
            "gridcolor": "white",
            "linecolor": "white",
            "ticks": ""
           },
           "bgcolor": "#E5ECF6",
           "caxis": {
            "gridcolor": "white",
            "linecolor": "white",
            "ticks": ""
           }
          },
          "title": {
           "x": 0.05
          },
          "xaxis": {
           "automargin": true,
           "gridcolor": "white",
           "linecolor": "white",
           "ticks": "",
           "title": {
            "standoff": 15
           },
           "zerolinecolor": "white",
           "zerolinewidth": 2
          },
          "yaxis": {
           "automargin": true,
           "gridcolor": "white",
           "linecolor": "white",
           "ticks": "",
           "title": {
            "standoff": 15
           },
           "zerolinecolor": "white",
           "zerolinewidth": 2
          }
         }
        },
        "title": {
         "text": "Number of Tweets per Hour"
        },
        "xaxis": {
         "anchor": "y",
         "domain": [
          0,
          1
         ],
         "ticktext": [
          "0",
          "1",
          "2",
          "3",
          "4",
          "5",
          "6",
          "7",
          "8",
          "9",
          "10",
          "11",
          "12",
          "13",
          "14",
          "15",
          "16",
          "17",
          "18",
          "19",
          "20",
          "21",
          "22",
          "23"
         ],
         "tickvals": [
          0,
          1,
          2,
          3,
          4,
          5,
          6,
          7,
          8,
          9,
          10,
          11,
          12,
          13,
          14,
          15,
          16,
          17,
          18,
          19,
          20,
          21,
          22,
          23
         ],
         "title": {
          "text": "Hour of the Day"
         }
        },
        "yaxis": {
         "anchor": "x",
         "domain": [
          0,
          1
         ],
         "title": {
          "text": "Number of Tweets"
         }
        }
       }
      },
      "text/html": [
       "<div>                            <div id=\"209b4b74-1174-4345-a8bb-c43b96d0afc8\" class=\"plotly-graph-div\" style=\"height:525px; width:100%;\"></div>            <script type=\"text/javascript\">                require([\"plotly\"], function(Plotly) {                    window.PLOTLYENV=window.PLOTLYENV || {};                                    if (document.getElementById(\"209b4b74-1174-4345-a8bb-c43b96d0afc8\")) {                    Plotly.newPlot(                        \"209b4b74-1174-4345-a8bb-c43b96d0afc8\",                        [{\"alignmentgroup\":\"True\",\"hovertemplate\":\"Hour of the Day=%{x}\\u003cbr\\u003eNumber of Tweets=%{y}\\u003cextra\\u003e\\u003c\\u002fextra\\u003e\",\"legendgroup\":\"\",\"marker\":{\"color\":\"#636efa\",\"pattern\":{\"shape\":\"\"}},\"name\":\"\",\"offsetgroup\":\"\",\"orientation\":\"v\",\"showlegend\":false,\"textposition\":\"auto\",\"x\":[0,1,2,3,4,5,6,7,8,9,10,11,12,13,14,15,16,17,18,19,20,21,22,23],\"xaxis\":\"x\",\"y\":[80865,75268,73991,74253,76995,78623,80852,83654,76287,67278,60689,61009,51653,49689,50380,50643,55720,51843,53485,57722,57059,68964,78328,84750],\"yaxis\":\"y\",\"type\":\"bar\"}],                        {\"template\":{\"data\":{\"histogram2dcontour\":[{\"type\":\"histogram2dcontour\",\"colorbar\":{\"outlinewidth\":0,\"ticks\":\"\"},\"colorscale\":[[0.0,\"#0d0887\"],[0.1111111111111111,\"#46039f\"],[0.2222222222222222,\"#7201a8\"],[0.3333333333333333,\"#9c179e\"],[0.4444444444444444,\"#bd3786\"],[0.5555555555555556,\"#d8576b\"],[0.6666666666666666,\"#ed7953\"],[0.7777777777777778,\"#fb9f3a\"],[0.8888888888888888,\"#fdca26\"],[1.0,\"#f0f921\"]]}],\"choropleth\":[{\"type\":\"choropleth\",\"colorbar\":{\"outlinewidth\":0,\"ticks\":\"\"}}],\"histogram2d\":[{\"type\":\"histogram2d\",\"colorbar\":{\"outlinewidth\":0,\"ticks\":\"\"},\"colorscale\":[[0.0,\"#0d0887\"],[0.1111111111111111,\"#46039f\"],[0.2222222222222222,\"#7201a8\"],[0.3333333333333333,\"#9c179e\"],[0.4444444444444444,\"#bd3786\"],[0.5555555555555556,\"#d8576b\"],[0.6666666666666666,\"#ed7953\"],[0.7777777777777778,\"#fb9f3a\"],[0.8888888888888888,\"#fdca26\"],[1.0,\"#f0f921\"]]}],\"heatmap\":[{\"type\":\"heatmap\",\"colorbar\":{\"outlinewidth\":0,\"ticks\":\"\"},\"colorscale\":[[0.0,\"#0d0887\"],[0.1111111111111111,\"#46039f\"],[0.2222222222222222,\"#7201a8\"],[0.3333333333333333,\"#9c179e\"],[0.4444444444444444,\"#bd3786\"],[0.5555555555555556,\"#d8576b\"],[0.6666666666666666,\"#ed7953\"],[0.7777777777777778,\"#fb9f3a\"],[0.8888888888888888,\"#fdca26\"],[1.0,\"#f0f921\"]]}],\"heatmapgl\":[{\"type\":\"heatmapgl\",\"colorbar\":{\"outlinewidth\":0,\"ticks\":\"\"},\"colorscale\":[[0.0,\"#0d0887\"],[0.1111111111111111,\"#46039f\"],[0.2222222222222222,\"#7201a8\"],[0.3333333333333333,\"#9c179e\"],[0.4444444444444444,\"#bd3786\"],[0.5555555555555556,\"#d8576b\"],[0.6666666666666666,\"#ed7953\"],[0.7777777777777778,\"#fb9f3a\"],[0.8888888888888888,\"#fdca26\"],[1.0,\"#f0f921\"]]}],\"contourcarpet\":[{\"type\":\"contourcarpet\",\"colorbar\":{\"outlinewidth\":0,\"ticks\":\"\"}}],\"contour\":[{\"type\":\"contour\",\"colorbar\":{\"outlinewidth\":0,\"ticks\":\"\"},\"colorscale\":[[0.0,\"#0d0887\"],[0.1111111111111111,\"#46039f\"],[0.2222222222222222,\"#7201a8\"],[0.3333333333333333,\"#9c179e\"],[0.4444444444444444,\"#bd3786\"],[0.5555555555555556,\"#d8576b\"],[0.6666666666666666,\"#ed7953\"],[0.7777777777777778,\"#fb9f3a\"],[0.8888888888888888,\"#fdca26\"],[1.0,\"#f0f921\"]]}],\"surface\":[{\"type\":\"surface\",\"colorbar\":{\"outlinewidth\":0,\"ticks\":\"\"},\"colorscale\":[[0.0,\"#0d0887\"],[0.1111111111111111,\"#46039f\"],[0.2222222222222222,\"#7201a8\"],[0.3333333333333333,\"#9c179e\"],[0.4444444444444444,\"#bd3786\"],[0.5555555555555556,\"#d8576b\"],[0.6666666666666666,\"#ed7953\"],[0.7777777777777778,\"#fb9f3a\"],[0.8888888888888888,\"#fdca26\"],[1.0,\"#f0f921\"]]}],\"mesh3d\":[{\"type\":\"mesh3d\",\"colorbar\":{\"outlinewidth\":0,\"ticks\":\"\"}}],\"scatter\":[{\"fillpattern\":{\"fillmode\":\"overlay\",\"size\":10,\"solidity\":0.2},\"type\":\"scatter\"}],\"parcoords\":[{\"type\":\"parcoords\",\"line\":{\"colorbar\":{\"outlinewidth\":0,\"ticks\":\"\"}}}],\"scatterpolargl\":[{\"type\":\"scatterpolargl\",\"marker\":{\"colorbar\":{\"outlinewidth\":0,\"ticks\":\"\"}}}],\"bar\":[{\"error_x\":{\"color\":\"#2a3f5f\"},\"error_y\":{\"color\":\"#2a3f5f\"},\"marker\":{\"line\":{\"color\":\"#E5ECF6\",\"width\":0.5},\"pattern\":{\"fillmode\":\"overlay\",\"size\":10,\"solidity\":0.2}},\"type\":\"bar\"}],\"scattergeo\":[{\"type\":\"scattergeo\",\"marker\":{\"colorbar\":{\"outlinewidth\":0,\"ticks\":\"\"}}}],\"scatterpolar\":[{\"type\":\"scatterpolar\",\"marker\":{\"colorbar\":{\"outlinewidth\":0,\"ticks\":\"\"}}}],\"histogram\":[{\"marker\":{\"pattern\":{\"fillmode\":\"overlay\",\"size\":10,\"solidity\":0.2}},\"type\":\"histogram\"}],\"scattergl\":[{\"type\":\"scattergl\",\"marker\":{\"colorbar\":{\"outlinewidth\":0,\"ticks\":\"\"}}}],\"scatter3d\":[{\"type\":\"scatter3d\",\"line\":{\"colorbar\":{\"outlinewidth\":0,\"ticks\":\"\"}},\"marker\":{\"colorbar\":{\"outlinewidth\":0,\"ticks\":\"\"}}}],\"scattermapbox\":[{\"type\":\"scattermapbox\",\"marker\":{\"colorbar\":{\"outlinewidth\":0,\"ticks\":\"\"}}}],\"scatterternary\":[{\"type\":\"scatterternary\",\"marker\":{\"colorbar\":{\"outlinewidth\":0,\"ticks\":\"\"}}}],\"scattercarpet\":[{\"type\":\"scattercarpet\",\"marker\":{\"colorbar\":{\"outlinewidth\":0,\"ticks\":\"\"}}}],\"carpet\":[{\"aaxis\":{\"endlinecolor\":\"#2a3f5f\",\"gridcolor\":\"white\",\"linecolor\":\"white\",\"minorgridcolor\":\"white\",\"startlinecolor\":\"#2a3f5f\"},\"baxis\":{\"endlinecolor\":\"#2a3f5f\",\"gridcolor\":\"white\",\"linecolor\":\"white\",\"minorgridcolor\":\"white\",\"startlinecolor\":\"#2a3f5f\"},\"type\":\"carpet\"}],\"table\":[{\"cells\":{\"fill\":{\"color\":\"#EBF0F8\"},\"line\":{\"color\":\"white\"}},\"header\":{\"fill\":{\"color\":\"#C8D4E3\"},\"line\":{\"color\":\"white\"}},\"type\":\"table\"}],\"barpolar\":[{\"marker\":{\"line\":{\"color\":\"#E5ECF6\",\"width\":0.5},\"pattern\":{\"fillmode\":\"overlay\",\"size\":10,\"solidity\":0.2}},\"type\":\"barpolar\"}],\"pie\":[{\"automargin\":true,\"type\":\"pie\"}]},\"layout\":{\"autotypenumbers\":\"strict\",\"colorway\":[\"#636efa\",\"#EF553B\",\"#00cc96\",\"#ab63fa\",\"#FFA15A\",\"#19d3f3\",\"#FF6692\",\"#B6E880\",\"#FF97FF\",\"#FECB52\"],\"font\":{\"color\":\"#2a3f5f\"},\"hovermode\":\"closest\",\"hoverlabel\":{\"align\":\"left\"},\"paper_bgcolor\":\"white\",\"plot_bgcolor\":\"#E5ECF6\",\"polar\":{\"bgcolor\":\"#E5ECF6\",\"angularaxis\":{\"gridcolor\":\"white\",\"linecolor\":\"white\",\"ticks\":\"\"},\"radialaxis\":{\"gridcolor\":\"white\",\"linecolor\":\"white\",\"ticks\":\"\"}},\"ternary\":{\"bgcolor\":\"#E5ECF6\",\"aaxis\":{\"gridcolor\":\"white\",\"linecolor\":\"white\",\"ticks\":\"\"},\"baxis\":{\"gridcolor\":\"white\",\"linecolor\":\"white\",\"ticks\":\"\"},\"caxis\":{\"gridcolor\":\"white\",\"linecolor\":\"white\",\"ticks\":\"\"}},\"coloraxis\":{\"colorbar\":{\"outlinewidth\":0,\"ticks\":\"\"}},\"colorscale\":{\"sequential\":[[0.0,\"#0d0887\"],[0.1111111111111111,\"#46039f\"],[0.2222222222222222,\"#7201a8\"],[0.3333333333333333,\"#9c179e\"],[0.4444444444444444,\"#bd3786\"],[0.5555555555555556,\"#d8576b\"],[0.6666666666666666,\"#ed7953\"],[0.7777777777777778,\"#fb9f3a\"],[0.8888888888888888,\"#fdca26\"],[1.0,\"#f0f921\"]],\"sequentialminus\":[[0.0,\"#0d0887\"],[0.1111111111111111,\"#46039f\"],[0.2222222222222222,\"#7201a8\"],[0.3333333333333333,\"#9c179e\"],[0.4444444444444444,\"#bd3786\"],[0.5555555555555556,\"#d8576b\"],[0.6666666666666666,\"#ed7953\"],[0.7777777777777778,\"#fb9f3a\"],[0.8888888888888888,\"#fdca26\"],[1.0,\"#f0f921\"]],\"diverging\":[[0,\"#8e0152\"],[0.1,\"#c51b7d\"],[0.2,\"#de77ae\"],[0.3,\"#f1b6da\"],[0.4,\"#fde0ef\"],[0.5,\"#f7f7f7\"],[0.6,\"#e6f5d0\"],[0.7,\"#b8e186\"],[0.8,\"#7fbc41\"],[0.9,\"#4d9221\"],[1,\"#276419\"]]},\"xaxis\":{\"gridcolor\":\"white\",\"linecolor\":\"white\",\"ticks\":\"\",\"title\":{\"standoff\":15},\"zerolinecolor\":\"white\",\"automargin\":true,\"zerolinewidth\":2},\"yaxis\":{\"gridcolor\":\"white\",\"linecolor\":\"white\",\"ticks\":\"\",\"title\":{\"standoff\":15},\"zerolinecolor\":\"white\",\"automargin\":true,\"zerolinewidth\":2},\"scene\":{\"xaxis\":{\"backgroundcolor\":\"#E5ECF6\",\"gridcolor\":\"white\",\"linecolor\":\"white\",\"showbackground\":true,\"ticks\":\"\",\"zerolinecolor\":\"white\",\"gridwidth\":2},\"yaxis\":{\"backgroundcolor\":\"#E5ECF6\",\"gridcolor\":\"white\",\"linecolor\":\"white\",\"showbackground\":true,\"ticks\":\"\",\"zerolinecolor\":\"white\",\"gridwidth\":2},\"zaxis\":{\"backgroundcolor\":\"#E5ECF6\",\"gridcolor\":\"white\",\"linecolor\":\"white\",\"showbackground\":true,\"ticks\":\"\",\"zerolinecolor\":\"white\",\"gridwidth\":2}},\"shapedefaults\":{\"line\":{\"color\":\"#2a3f5f\"}},\"annotationdefaults\":{\"arrowcolor\":\"#2a3f5f\",\"arrowhead\":0,\"arrowwidth\":1},\"geo\":{\"bgcolor\":\"white\",\"landcolor\":\"#E5ECF6\",\"subunitcolor\":\"white\",\"showland\":true,\"showlakes\":true,\"lakecolor\":\"white\"},\"title\":{\"x\":0.05},\"mapbox\":{\"style\":\"light\"}}},\"xaxis\":{\"anchor\":\"y\",\"domain\":[0.0,1.0],\"title\":{\"text\":\"Hour of the Day\"},\"tickvals\":[0,1,2,3,4,5,6,7,8,9,10,11,12,13,14,15,16,17,18,19,20,21,22,23],\"ticktext\":[\"0\",\"1\",\"2\",\"3\",\"4\",\"5\",\"6\",\"7\",\"8\",\"9\",\"10\",\"11\",\"12\",\"13\",\"14\",\"15\",\"16\",\"17\",\"18\",\"19\",\"20\",\"21\",\"22\",\"23\"]},\"yaxis\":{\"anchor\":\"x\",\"domain\":[0.0,1.0],\"title\":{\"text\":\"Number of Tweets\"}},\"legend\":{\"tracegroupgap\":0},\"title\":{\"text\":\"Number of Tweets per Hour\"},\"barmode\":\"relative\"},                        {\"responsive\": true}                    ).then(function(){\n",
       "                            \n",
       "var gd = document.getElementById('209b4b74-1174-4345-a8bb-c43b96d0afc8');\n",
       "var x = new MutationObserver(function (mutations, observer) {{\n",
       "        var display = window.getComputedStyle(gd).display;\n",
       "        if (!display || display === 'none') {{\n",
       "            console.log([gd, 'removed!']);\n",
       "            Plotly.purge(gd);\n",
       "            observer.disconnect();\n",
       "        }}\n",
       "}});\n",
       "\n",
       "// Listen for the removal of the full notebook cells\n",
       "var notebookContainer = gd.closest('#notebook-container');\n",
       "if (notebookContainer) {{\n",
       "    x.observe(notebookContainer, {childList: true});\n",
       "}}\n",
       "\n",
       "// Listen for the clearing of the current output cell\n",
       "var outputEl = gd.closest('.output');\n",
       "if (outputEl) {{\n",
       "    x.observe(outputEl, {childList: true});\n",
       "}}\n",
       "\n",
       "                        })                };                });            </script>        </div>"
      ]
     },
     "metadata": {},
     "output_type": "display_data"
    }
   ],
   "source": [
    "import plotly.express as px\n",
    "from pyspark.sql.functions import hour\n",
    "\n",
    "# extracting the hour from the \"Time\" column\n",
    "full_df = full_df.withColumn(\"Hour\", hour(\"Time\"))\n",
    "\n",
    "# grouping the data by hour and count the number of tweets per hour\n",
    "hourly_tweets = full_df.groupBy(\"Hour\").count()\n",
    "\n",
    "# sorting the data by hour\n",
    "hourly_tweets = hourly_tweets.sort(\"Hour\")\n",
    "\n",
    "# converting the Spark DataFrame to a Pandas DataFrame\n",
    "hourly_tweets_pd = hourly_tweets.toPandas()\n",
    "\n",
    "# creating an interactive bar chart using Plotly\n",
    "fig = px.bar(\n",
    "    hourly_tweets_pd,\n",
    "    x=\"Hour\",\n",
    "    y=\"count\",\n",
    "    title=\"Number of Tweets per Hour\",\n",
    "    labels={\"Hour\": \"Hour of the Day\", \"count\": \"Number of Tweets\"},\n",
    ")\n",
    "\n",
    "# customizing the x-axis labels (from 0 to 23)\n",
    "fig.update_xaxes(tickvals=list(range(24)), ticktext=[str(i) for i in range(24)])\n",
    "\n",
    "# showing the interactive plot\n",
    "fig.show()"
   ]
  },
  {
   "cell_type": "markdown",
   "id": "af3a8c5f",
   "metadata": {},
   "source": [
    "#### Checing users"
   ]
  },
  {
   "cell_type": "code",
   "execution_count": 140,
   "id": "c5257409",
   "metadata": {},
   "outputs": [
    {
     "name": "stderr",
     "output_type": "stream",
     "text": [
      "2023-10-24 11:34:59,759 WARN scheduler.TaskSetManager: Stage 277 contains a task of very large size (175832 KiB). The maximum recommended task size is 1000 KiB.\n",
      "[Stage 277:>                                                        (0 + 1) / 1]\r"
     ]
    },
    {
     "name": "stdout",
     "output_type": "stream",
     "text": [
      "+---------------+----------+\n",
      "|           User|TweetCount|\n",
      "+---------------+----------+\n",
      "|  lllittlefield|         3|\n",
      "|     Freddy1990|        10|\n",
      "|randomsupergirl|        15|\n",
      "|   DionneLBrown|         2|\n",
      "|    Rachecullen|        31|\n",
      "|   BoriMischief|         2|\n",
      "|  vinyayavieiel|         5|\n",
      "| ilovejamesryan|         5|\n",
      "|    Izzy_Cullen|        13|\n",
      "|      kateblogs|        75|\n",
      "| richardescobar|        10|\n",
      "|      epstudios|         6|\n",
      "|        Merlene|        14|\n",
      "|    galovesongs|         3|\n",
      "|     moggypurrs|         3|\n",
      "|     shalinique|         9|\n",
      "|  cassieewassie|        24|\n",
      "|      teufl0302|        38|\n",
      "|       Louisa_Y|         2|\n",
      "|       marlinex|         5|\n",
      "+---------------+----------+\n",
      "only showing top 20 rows\n",
      "\n"
     ]
    },
    {
     "name": "stderr",
     "output_type": "stream",
     "text": [
      "                                                                                \r"
     ]
    }
   ],
   "source": [
    "# groupping by the \"User\" column and count the number of tweets for each user\n",
    "user_tweet_counts = full_df.groupBy(\"User\").agg(count(\"ID\").alias(\"TweetCount\"))\n",
    "\n",
    "# filtering users with more than one tweet\n",
    "users_with_multiple_tweets = user_tweet_counts.filter(col(\"TweetCount\") > 1)\n",
    "\n",
    "# showing the users with multiple tweets\n",
    "users_with_multiple_tweets.show()\n"
   ]
  },
  {
   "cell_type": "code",
   "execution_count": 141,
   "id": "5a4dca90",
   "metadata": {},
   "outputs": [
    {
     "name": "stderr",
     "output_type": "stream",
     "text": [
      "2023-10-24 11:46:59,689 WARN scheduler.TaskSetManager: Stage 279 contains a task of very large size (175832 KiB). The maximum recommended task size is 1000 KiB.\n",
      "[Stage 280:===========================================>         (163 + 1) / 200]\r"
     ]
    },
    {
     "name": "stdout",
     "output_type": "stream",
     "text": [
      "+---------------+----------+\n",
      "|           User|TweetCount|\n",
      "+---------------+----------+\n",
      "|       lost_dog|       549|\n",
      "|        webwoke|       345|\n",
      "|       tweetpet|       310|\n",
      "|SallytheShizzle|       281|\n",
      "|    VioletsCRUK|       279|\n",
      "|    mcraddictal|       276|\n",
      "|       tsarnick|       248|\n",
      "|    what_bugs_u|       246|\n",
      "|    Karen230683|       238|\n",
      "|      DarkPiano|       236|\n",
      "|   SongoftheOss|       227|\n",
      "|      Jayme1988|       225|\n",
      "|         keza34|       219|\n",
      "| ramdomthoughts|       216|\n",
      "|      shanajaca|       213|\n",
      "|         wowlew|       212|\n",
      "|   TraceyHewins|       211|\n",
      "|     nuttychris|       211|\n",
      "|   thisgoeshere|       207|\n",
      "|     Spidersamm|       205|\n",
      "+---------------+----------+\n",
      "only showing top 20 rows\n",
      "\n"
     ]
    },
    {
     "name": "stderr",
     "output_type": "stream",
     "text": [
      "                                                                                \r"
     ]
    }
   ],
   "source": [
    "# sorting users by the number of their tweets\n",
    "sorted_users = users_with_multiple_tweets.orderBy(\"TweetCount\", ascending=False)\n",
    "\n",
    "# showing the sorted users\n",
    "sorted_users.show()"
   ]
  },
  {
   "cell_type": "markdown",
   "id": "059442c3",
   "metadata": {},
   "source": [
    "# Sentiment Analysis"
   ]
  },
  {
   "cell_type": "markdown",
   "id": "5e31e8b9",
   "metadata": {},
   "source": [
    "### Text preprocessing"
   ]
  },
  {
   "cell_type": "code",
   "execution_count": 25,
   "id": "231997b7",
   "metadata": {},
   "outputs": [
    {
     "name": "stdout",
     "output_type": "stream",
     "text": [
      "showing info https://raw.githubusercontent.com/nltk/nltk_data/gh-pages/index.xml\n"
     ]
    }
   ],
   "source": [
    "import nltk\n",
    "nltk.download()\n",
    "\n",
    "from nltk.corpus import stopwords\n",
    "from nltk.tokenize import word_tokenize\n",
    "import string"
   ]
  },
  {
   "cell_type": "code",
   "execution_count": 24,
   "id": "b085a882",
   "metadata": {},
   "outputs": [
    {
     "name": "stderr",
     "output_type": "stream",
     "text": [
      "2023-10-24 12:57:47,424 WARN scheduler.TaskSetManager: Stage 8 contains a task of very large size (175832 KiB). The maximum recommended task size is 1000 KiB.\n",
      "2023-10-24 12:58:00,845 WARN scheduler.TaskSetManager: Stage 9 contains a task of very large size (175832 KiB). The maximum recommended task size is 1000 KiB.\n",
      "                                                                                \r"
     ]
    },
    {
     "name": "stdout",
     "output_type": "stream",
     "text": [
      "[\"@faithgg45  this computer doesn't have shockwave...blah  no account yet\", 'working papers - what the original order called flying rolls &amp; we call &quot;aerodynamic biscuits&quot;  - also available. http://bit.ly/bss7b #wbc2', '@teknetia thanks!! ', 'on my psp browser for the first time in over a year ', '@larryczerwonka cool changing avatar u got there. nice quotes too ']\n"
     ]
    }
   ],
   "source": [
    "# changing all text to lower case in Tweet column\n",
    "\n",
    "text_data = full_df.select(\"Tweet\").rdd.flatMap(lambda x: x).collect()\n",
    "\n",
    "# lowercase the text\n",
    "lowercased_data = [text.lower() for text in text_data]\n",
    "\n",
    "# checking lowercased data\n",
    "print(lowercased_data[:5])"
   ]
  },
  {
   "cell_type": "code",
   "execution_count": 27,
   "id": "6c68ba06",
   "metadata": {},
   "outputs": [],
   "source": [
    "from pyspark.sql.functions import col, lower, udf\n",
    "\n",
    "# Convert text to lowercase\n",
    "full_df = full_df.withColumn(\"Tweet\", lower(col(\"Tweet\")))"
   ]
  },
  {
   "cell_type": "code",
   "execution_count": 29,
   "id": "a344eb3d",
   "metadata": {
    "scrolled": true
   },
   "outputs": [
    {
     "name": "stderr",
     "output_type": "stream",
     "text": [
      "2023-10-24 15:28:01,904 WARN scheduler.TaskSetManager: Stage 12 contains a task of very large size (175832 KiB). The maximum recommended task size is 1000 KiB.\n",
      "[Stage 12:>                                                         (0 + 1) / 1]\r"
     ]
    },
    {
     "name": "stdout",
     "output_type": "stream",
     "text": [
      "+------+----------+--------------------+----------+--------------+--------+\n",
      "|    ID|      Date|               Tweet|  Tweet_ID|          User|    Time|\n",
      "+------+----------+--------------------+----------+--------------+--------+\n",
      "|800409|2009-04-06|on my psp browser...|1467898845|        REV3AL|22:43:05|\n",
      "|   363|2009-04-06|@sara_kate im afr...|1467901437|      Arneenxx|22:43:48|\n",
      "|801810|2009-04-06|@larryczerwonka c...|1468132429|      nabejero|23:53:37|\n",
      "|801251|2009-04-06|working papers - ...|1468040032|   fieldsbooks|23:23:55|\n",
      "|800536|2009-04-06|@kcarruthers *fli...|1467918315|     SilkCharm|22:48:28|\n",
      "|801669|2009-04-06|waiting for the p...|1468116586|   twilight_x3|23:48:16|\n",
      "|  1193|2009-04-06|it just makes me ...|1468102926| ShannaMoakler|23:43:45|\n",
      "|   769|2009-04-06|@faithgg45  this ...|1468000996|     sambg7777|23:11:56|\n",
      "|    53|2009-04-06|put vacation phot...|1467821338|   justnetgirl|22:22:30|\n",
      "|  1199|2009-04-06|ugh. still workin...|1468106339|        Syph0n|23:44:55|\n",
      "|   987|2009-04-06|reading buyology ...|1468053198|         grinc|23:28:02|\n",
      "|   114|2009-04-06|@salancaster  hop...|1467838630|   ashleyirvin|22:27:02|\n",
      "|   878|2009-04-06|@yaykimo it's sad...|1468031805| OhMyChristine|23:21:13|\n",
      "|   660|2009-04-06|well the pc in my...|1467980679|         Nasef|23:06:05|\n",
      "|800006|2009-04-06|@r_keith_hill tha...|1467822447|     vmdavinci|22:22:51|\n",
      "|800730|2009-04-06|@heidimontag grea...|1467953247|      kayocean|22:58:28|\n",
      "|   110|2009-04-06|laying in bed wit...|1467838189|missannabanana|22:26:54|\n",
      "|801621|2009-04-06| @teknetia thanks!! |1468103125|       _gnosis|23:43:49|\n",
      "|801798|2009-04-06|coffee! ...and in...|1468131824|Kreisquadratur|23:53:23|\n",
      "|800831|2009-04-06|lets drop ..ich h...|1467971793|    zottarella|23:03:31|\n",
      "+------+----------+--------------------+----------+--------------+--------+\n",
      "only showing top 20 rows\n",
      "\n"
     ]
    },
    {
     "name": "stderr",
     "output_type": "stream",
     "text": [
      "                                                                                \r"
     ]
    }
   ],
   "source": [
    "full_df.show()"
   ]
  },
  {
   "cell_type": "code",
   "execution_count": 34,
   "id": "e414221d",
   "metadata": {
    "scrolled": true
   },
   "outputs": [
    {
     "name": "stderr",
     "output_type": "stream",
     "text": [
      "2023-10-24 15:41:06,443 WARN scheduler.TaskSetManager: Stage 13 contains a task of very large size (175832 KiB). The maximum recommended task size is 1000 KiB.\n",
      "2023-10-24 15:41:14,924 WARN scheduler.TaskSetManager: Stage 14 contains a task of very large size (175832 KiB). The maximum recommended task size is 1000 KiB.\n",
      "[Stage 15:>                                                         (0 + 1) / 1]\r"
     ]
    },
    {
     "name": "stdout",
     "output_type": "stream",
     "text": [
      "+------+----------+--------------------+----------+--------------+--------+--------------------+\n",
      "|    ID|      Date|               Tweet|  Tweet_ID|          User|    Time|      TokenizedTweet|\n",
      "+------+----------+--------------------+----------+--------------+--------+--------------------+\n",
      "|   769|2009-04-06|@faithgg45  this ...|1468000996|     sambg7777|23:11:56|[@, faithgg45, th...|\n",
      "|801251|2009-04-06|working papers - ...|1468040032|   fieldsbooks|23:23:55|[working, papers,...|\n",
      "|801621|2009-04-06| @teknetia thanks!! |1468103125|       _gnosis|23:43:49|[@, teknetia, tha...|\n",
      "|800409|2009-04-06|on my psp browser...|1467898845|        REV3AL|22:43:05|[on, my, psp, bro...|\n",
      "|801810|2009-04-06|@larryczerwonka c...|1468132429|      nabejero|23:53:37|[@, larryczerwonk...|\n",
      "|800536|2009-04-06|@kcarruthers *fli...|1467918315|     SilkCharm|22:48:28|[@, kcarruthers, ...|\n",
      "|  1199|2009-04-06|ugh. still workin...|1468106339|        Syph0n|23:44:55|[ugh, ., still, w...|\n",
      "|    23|2009-04-06|this week is not ...|1467814180|    viJILLante|22:20:40|[this, week, is, ...|\n",
      "|   114|2009-04-06|@salancaster  hop...|1467838630|   ashleyirvin|22:27:02|[@, salancaster, ...|\n",
      "|800831|2009-04-06|lets drop ..ich h...|1467971793|    zottarella|23:03:31|[lets, drop, .., ...|\n",
      "|   660|2009-04-06|well the pc in my...|1467980679|         Nasef|23:06:05|[well, the, pc, i...|\n",
      "|   893|2009-04-06|i miss my ex soo ...|1468033365|        lcmroz|23:21:45|[i, miss, my, ex,...|\n",
      "|800730|2009-04-06|@heidimontag grea...|1467953247|      kayocean|22:58:28|[@, heidimontag, ...|\n",
      "|801669|2009-04-06|waiting for the p...|1468116586|   twilight_x3|23:48:16|[waiting, for, th...|\n",
      "|  1193|2009-04-06|it just makes me ...|1468102926| ShannaMoakler|23:43:45|[it, just, makes,...|\n",
      "|    53|2009-04-06|put vacation phot...|1467821338|   justnetgirl|22:22:30|[put, vacation, p...|\n",
      "|   987|2009-04-06|reading buyology ...|1468053198|         grinc|23:28:02|[reading, buyolog...|\n",
      "|   878|2009-04-06|@yaykimo it's sad...|1468031805| OhMyChristine|23:21:13|[@, yaykimo, it, ...|\n",
      "|800006|2009-04-06|@r_keith_hill tha...|1467822447|     vmdavinci|22:22:51|[@, r_keith_hill,...|\n",
      "|   110|2009-04-06|laying in bed wit...|1467838189|missannabanana|22:26:54|[laying, in, bed,...|\n",
      "+------+----------+--------------------+----------+--------------+--------+--------------------+\n",
      "only showing top 20 rows\n",
      "\n"
     ]
    },
    {
     "name": "stderr",
     "output_type": "stream",
     "text": [
      "                                                                                \r"
     ]
    }
   ],
   "source": [
    "# Tokenize the text\n",
    "tokenize_udf = udf(lambda text: word_tokenize(text), ArrayType(StringType()))\n",
    "full_df = full_df.withColumn(\"TokenizedTweet\", tokenize_udf(col(\"Tweet\")))\n",
    "full_df.show()"
   ]
  },
  {
   "cell_type": "code",
   "execution_count": 35,
   "id": "cea382d1",
   "metadata": {
    "scrolled": true
   },
   "outputs": [
    {
     "name": "stderr",
     "output_type": "stream",
     "text": [
      "2023-10-24 15:42:31,333 WARN scheduler.TaskSetManager: Stage 16 contains a task of very large size (175832 KiB). The maximum recommended task size is 1000 KiB.\n",
      "2023-10-24 15:42:39,333 WARN scheduler.TaskSetManager: Stage 17 contains a task of very large size (175832 KiB). The maximum recommended task size is 1000 KiB.\n",
      "[Stage 18:>                                                         (0 + 1) / 1]\r"
     ]
    },
    {
     "name": "stdout",
     "output_type": "stream",
     "text": [
      "+------+----------+--------------------+----------+--------------+--------+--------------------+\n",
      "|    ID|      Date|               Tweet|  Tweet_ID|          User|    Time|      TokenizedTweet|\n",
      "+------+----------+--------------------+----------+--------------+--------+--------------------+\n",
      "|   769|2009-04-06|@faithgg45  this ...|1468000996|     sambg7777|23:11:56|[@, faithgg45, co...|\n",
      "|801251|2009-04-06|working papers - ...|1468040032|   fieldsbooks|23:23:55|[working, papers,...|\n",
      "|801621|2009-04-06| @teknetia thanks!! |1468103125|       _gnosis|23:43:49|[@, teknetia, tha...|\n",
      "|800409|2009-04-06|on my psp browser...|1467898845|        REV3AL|22:43:05|[psp, browser, fi...|\n",
      "|801810|2009-04-06|@larryczerwonka c...|1468132429|      nabejero|23:53:37|[@, larryczerwonk...|\n",
      "|800536|2009-04-06|@kcarruthers *fli...|1467918315|     SilkCharm|22:48:28|[@, kcarruthers, ...|\n",
      "|  1199|2009-04-06|ugh. still workin...|1468106339|        Syph0n|23:44:55|[ugh, ., still, w...|\n",
      "|    23|2009-04-06|this week is not ...|1467814180|    viJILLante|22:20:40|[week, going, hoped]|\n",
      "|   114|2009-04-06|@salancaster  hop...|1467838630|   ashleyirvin|22:27:02|[@, salancaster, ...|\n",
      "|800831|2009-04-06|lets drop ..ich h...|1467971793|    zottarella|23:03:31|[lets, drop, .., ...|\n",
      "|   660|2009-04-06|well the pc in my...|1467980679|         Nasef|23:06:05|[well, pc, living...|\n",
      "|   893|2009-04-06|i miss my ex soo ...|1468033365|        lcmroz|23:21:45|[miss, ex, soo, m...|\n",
      "|800730|2009-04-06|@heidimontag grea...|1467953247|      kayocean|22:58:28|[@, heidimontag, ...|\n",
      "|801669|2009-04-06|waiting for the p...|1468116586|   twilight_x3|23:48:16|[waiting, pizza, ...|\n",
      "|  1193|2009-04-06|it just makes me ...|1468102926| ShannaMoakler|23:43:45|[makes, happy, !,...|\n",
      "|    53|2009-04-06|put vacation phot...|1467821338|   justnetgirl|22:22:30|[put, vacation, p...|\n",
      "|   987|2009-04-06|reading buyology ...|1468053198|         grinc|23:28:02|[reading, buyolog...|\n",
      "|   878|2009-04-06|@yaykimo it's sad...|1468031805| OhMyChristine|23:21:13|[@, yaykimo, 's, ...|\n",
      "|800006|2009-04-06|@r_keith_hill tha...|1467822447|     vmdavinci|22:22:51|[@, r_keith_hill,...|\n",
      "|   110|2009-04-06|laying in bed wit...|1467838189|missannabanana|22:26:54|[laying, bed, voi...|\n",
      "+------+----------+--------------------+----------+--------------+--------+--------------------+\n",
      "only showing top 20 rows\n",
      "\n"
     ]
    },
    {
     "name": "stderr",
     "output_type": "stream",
     "text": [
      "                                                                                \r"
     ]
    }
   ],
   "source": [
    "# Remove stop words\n",
    "stop_words = set(stopwords.words(\"english\"))\n",
    "stop_words_udf = udf(lambda words: [word for word in words if word not in stop_words], ArrayType(StringType()))\n",
    "full_df = full_df.withColumn(\"TokenizedTweet\", stop_words_udf(col(\"TokenizedTweet\")))\n",
    "\n",
    "full_df.show()"
   ]
  },
  {
   "cell_type": "markdown",
   "id": "ca3cf8c3",
   "metadata": {},
   "source": [
    "### keeping punktuaction in tweets"
   ]
  },
  {
   "cell_type": "code",
   "execution_count": 37,
   "id": "a4fe7bb0",
   "metadata": {},
   "outputs": [],
   "source": [
    "from nltk.sentiment.vader import SentimentIntensityAnalyzer\n",
    "from pyspark.sql.functions import udf\n",
    "from pyspark.sql.types import StringType\n",
    "from pyspark.sql.functions import col, expr\n"
   ]
  },
  {
   "cell_type": "code",
   "execution_count": 38,
   "id": "f84bc3cd",
   "metadata": {},
   "outputs": [],
   "source": [
    "# Initialize the VADER sentiment analyzer\n",
    "sia = SentimentIntensityAnalyzer()\n",
    "\n",
    "# Function to analyze sentiment for a given text\n",
    "def analyze_sentiment(text):\n",
    "    sentiment_scores = sia.polarity_scores(text)\n",
    "    return str(sentiment_scores)"
   ]
  },
  {
   "cell_type": "code",
   "execution_count": 39,
   "id": "545160c8",
   "metadata": {
    "scrolled": true
   },
   "outputs": [
    {
     "name": "stderr",
     "output_type": "stream",
     "text": [
      "2023-10-24 16:03:44,045 WARN scheduler.TaskSetManager: Stage 19 contains a task of very large size (175832 KiB). The maximum recommended task size is 1000 KiB.\n",
      "2023-10-24 16:03:51,343 WARN scheduler.TaskSetManager: Stage 20 contains a task of very large size (175832 KiB). The maximum recommended task size is 1000 KiB.\n",
      "[Stage 21:>                                                         (0 + 1) / 1]\r"
     ]
    },
    {
     "name": "stdout",
     "output_type": "stream",
     "text": [
      "+------+----------+--------------------------------------------------------------------------------------------------------------------------------------------------------+---------------------------------------------------------------+\n",
      "|ID    |Date      |Tweet                                                                                                                                                   |SentimentScores                                                |\n",
      "+------+----------+--------------------------------------------------------------------------------------------------------------------------------------------------------+---------------------------------------------------------------+\n",
      "|769   |2009-04-06|@faithgg45  this computer doesn't have shockwave...blah  no account yet                                                                                 |{'neg': 0.0, 'neu': 0.809, 'pos': 0.191, 'compound': 0.2235}   |\n",
      "|801251|2009-04-06|working papers - what the original order called flying rolls &amp; we call &quot;aerodynamic biscuits&quot;  - also available. http://bit.ly/bss7b #wbc2|{'neg': 0.0, 'neu': 0.881, 'pos': 0.119, 'compound': 0.3182}   |\n",
      "|801621|2009-04-06|@teknetia thanks!!                                                                                                                                      |{'neg': 0.0, 'neu': 0.223, 'pos': 0.777, 'compound': 0.5399}   |\n",
      "|800409|2009-04-06|on my psp browser for the first time in over a year                                                                                                     |{'neg': 0.0, 'neu': 1.0, 'pos': 0.0, 'compound': 0.0}          |\n",
      "|801810|2009-04-06|@larryczerwonka cool changing avatar u got there. nice quotes too                                                                                       |{'neg': 0.0, 'neu': 0.579, 'pos': 0.421, 'compound': 0.6249}   |\n",
      "|800536|2009-04-06|@kcarruthers *flicks hair* i prefer to be called a &quot;twenius&quot;                                                                                  |{'neg': 0.0, 'neu': 1.0, 'pos': 0.0, 'compound': 0.0}          |\n",
      "|1199  |2009-04-06|ugh. still working on project  just taking a small break                                                                                                |{'neg': 0.259, 'neu': 0.741, 'pos': 0.0, 'compound': -0.4215}  |\n",
      "|23    |2009-04-06|this week is not going as i had hoped                                                                                                                   |{'neg': 0.0, 'neu': 0.729, 'pos': 0.271, 'compound': 0.3818}   |\n",
      "|114   |2009-04-06|@salancaster  hope your ok.                                                                                                                             |{'neg': 0.0, 'neu': 0.282, 'pos': 0.718, 'compound': 0.6249}   |\n",
      "|800831|2009-04-06|lets drop ..ich hatte gerade kï¿½se auf toast. germandoo. oh the joy of knowing some words in german  (via twitt.. http://tinyurl.com/dbvlwt            |{'neg': 0.084, 'neu': 0.763, 'pos': 0.153, 'compound': 0.4019} |\n",
      "|660   |2009-04-06|well the pc in my living room suffered a fatal partion lost all my itunes library is gone.. and some docs with pics....                                 |{'neg': 0.309, 'neu': 0.619, 'pos': 0.072, 'compound': -0.7845}|\n",
      "|893   |2009-04-06|i miss my ex soo much                                                                                                                                   |{'neg': 0.286, 'neu': 0.714, 'pos': 0.0, 'compound': -0.1531}  |\n",
      "|800730|2009-04-06|@heidimontag great episodes.  didnt know there would be two!                                                                                            |{'neg': 0.0, 'neu': 0.646, 'pos': 0.354, 'compound': 0.6588}   |\n",
      "|801669|2009-04-06|waiting for the pizza to bakee                                                                                                                          |{'neg': 0.0, 'neu': 1.0, 'pos': 0.0, 'compound': 0.0}          |\n",
      "|1193  |2009-04-06|it just makes me happy! over and over again! i just wish i wasn't afraid to fly  http://tinyurl.com/64skpp                                              |{'neg': 0.0, 'neu': 0.667, 'pos': 0.333, 'compound': 0.7896}   |\n",
      "|53    |2009-04-06|put vacation photos online a few yrs ago. pc crashed and now i forget the name of the site.                                                             |{'neg': 0.106, 'neu': 0.894, 'pos': 0.0, 'compound': -0.2263}  |\n",
      "|987   |2009-04-06|reading buyology before bedtime... great premise but only turning out to be an &quot;ok&quot; book - lots of info i already knew                        |{'neg': 0.0, 'neu': 0.882, 'pos': 0.118, 'compound': 0.3716}   |\n",
      "|878   |2009-04-06|@yaykimo it's sad it's the last season.  i wanna see when spencer calls lauren!                                                                         |{'neg': 0.22, 'neu': 0.78, 'pos': 0.0, 'compound': -0.5255}    |\n",
      "|800006|2009-04-06|@r_keith_hill thans for your response. ihad already find this answer                                                                                    |{'neg': 0.0, 'neu': 1.0, 'pos': 0.0, 'compound': 0.0}          |\n",
      "|110   |2009-04-06|laying in bed with no voice..                                                                                                                           |{'neg': 0.306, 'neu': 0.694, 'pos': 0.0, 'compound': -0.296}   |\n",
      "+------+----------+--------------------------------------------------------------------------------------------------------------------------------------------------------+---------------------------------------------------------------+\n",
      "only showing top 20 rows\n",
      "\n"
     ]
    },
    {
     "name": "stderr",
     "output_type": "stream",
     "text": [
      "                                                                                \r"
     ]
    }
   ],
   "source": [
    "# Register the UDF for sentiment analysis\n",
    "analyze_sentiment_udf = udf(analyze_sentiment, StringType())\n",
    "\n",
    "# Apply sentiment analysis to the \"Tweet\" column and store the results in a new column\n",
    "full_df = full_df.withColumn(\"SentimentScores\", analyze_sentiment_udf(full_df[\"Tweet\"]))\n",
    "\n",
    "# Show the DataFrame with sentiment scores\n",
    "full_df.select(\"ID\", \"Date\", \"Tweet\", \"SentimentScores\").show(truncate=False)"
   ]
  },
  {
   "cell_type": "code",
   "execution_count": 42,
   "id": "9027cd10",
   "metadata": {
    "scrolled": true
   },
   "outputs": [
    {
     "name": "stderr",
     "output_type": "stream",
     "text": [
      "2023-10-24 16:08:47,425 WARN scheduler.TaskSetManager: Stage 28 contains a task of very large size (175832 KiB). The maximum recommended task size is 1000 KiB.\n",
      "2023-10-24 16:08:57,699 WARN scheduler.TaskSetManager: Stage 29 contains a task of very large size (175832 KiB). The maximum recommended task size is 1000 KiB.\n",
      "[Stage 29:>                                                         (0 + 1) / 1]\r"
     ]
    },
    {
     "name": "stdout",
     "output_type": "stream",
     "text": [
      "+------+----------+--------+--------------+---------------------------------------------------------------+\n",
      "|ID    |Date      |Time    |User          |SentimentScores                                                |\n",
      "+------+----------+--------+--------------+---------------------------------------------------------------+\n",
      "|769   |2009-04-06|23:11:56|sambg7777     |{'neg': 0.0, 'neu': 0.809, 'pos': 0.191, 'compound': 0.2235}   |\n",
      "|801251|2009-04-06|23:23:55|fieldsbooks   |{'neg': 0.0, 'neu': 0.881, 'pos': 0.119, 'compound': 0.3182}   |\n",
      "|801621|2009-04-06|23:43:49|_gnosis       |{'neg': 0.0, 'neu': 0.223, 'pos': 0.777, 'compound': 0.5399}   |\n",
      "|800409|2009-04-06|22:43:05|REV3AL        |{'neg': 0.0, 'neu': 1.0, 'pos': 0.0, 'compound': 0.0}          |\n",
      "|801810|2009-04-06|23:53:37|nabejero      |{'neg': 0.0, 'neu': 0.579, 'pos': 0.421, 'compound': 0.6249}   |\n",
      "|800536|2009-04-06|22:48:28|SilkCharm     |{'neg': 0.0, 'neu': 1.0, 'pos': 0.0, 'compound': 0.0}          |\n",
      "|1199  |2009-04-06|23:44:55|Syph0n        |{'neg': 0.259, 'neu': 0.741, 'pos': 0.0, 'compound': -0.4215}  |\n",
      "|23    |2009-04-06|22:20:40|viJILLante    |{'neg': 0.0, 'neu': 0.729, 'pos': 0.271, 'compound': 0.3818}   |\n",
      "|114   |2009-04-06|22:27:02|ashleyirvin   |{'neg': 0.0, 'neu': 0.282, 'pos': 0.718, 'compound': 0.6249}   |\n",
      "|800831|2009-04-06|23:03:31|zottarella    |{'neg': 0.084, 'neu': 0.763, 'pos': 0.153, 'compound': 0.4019} |\n",
      "|660   |2009-04-06|23:06:05|Nasef         |{'neg': 0.309, 'neu': 0.619, 'pos': 0.072, 'compound': -0.7845}|\n",
      "|893   |2009-04-06|23:21:45|lcmroz        |{'neg': 0.286, 'neu': 0.714, 'pos': 0.0, 'compound': -0.1531}  |\n",
      "|800730|2009-04-06|22:58:28|kayocean      |{'neg': 0.0, 'neu': 0.646, 'pos': 0.354, 'compound': 0.6588}   |\n",
      "|801669|2009-04-06|23:48:16|twilight_x3   |{'neg': 0.0, 'neu': 1.0, 'pos': 0.0, 'compound': 0.0}          |\n",
      "|1193  |2009-04-06|23:43:45|ShannaMoakler |{'neg': 0.0, 'neu': 0.667, 'pos': 0.333, 'compound': 0.7896}   |\n",
      "|53    |2009-04-06|22:22:30|justnetgirl   |{'neg': 0.106, 'neu': 0.894, 'pos': 0.0, 'compound': -0.2263}  |\n",
      "|987   |2009-04-06|23:28:02|grinc         |{'neg': 0.0, 'neu': 0.882, 'pos': 0.118, 'compound': 0.3716}   |\n",
      "|878   |2009-04-06|23:21:13|OhMyChristine |{'neg': 0.22, 'neu': 0.78, 'pos': 0.0, 'compound': -0.5255}    |\n",
      "|800006|2009-04-06|22:22:51|vmdavinci     |{'neg': 0.0, 'neu': 1.0, 'pos': 0.0, 'compound': 0.0}          |\n",
      "|110   |2009-04-06|22:26:54|missannabanana|{'neg': 0.306, 'neu': 0.694, 'pos': 0.0, 'compound': -0.296}   |\n",
      "+------+----------+--------+--------------+---------------------------------------------------------------+\n",
      "only showing top 20 rows\n",
      "\n"
     ]
    },
    {
     "name": "stderr",
     "output_type": "stream",
     "text": [
      "                                                                                \r"
     ]
    }
   ],
   "source": [
    "# Show the DataFrame with sentiment scores, excluding the \"Tweet\" column\n",
    "full_df.select(\"ID\", \"Date\", \"Time\",\"User\",\"SentimentScores\").show(truncate=False)"
   ]
  },
  {
   "cell_type": "code",
   "execution_count": 127,
   "id": "f95011a4",
   "metadata": {},
   "outputs": [
    {
     "name": "stderr",
     "output_type": "stream",
     "text": [
      "2023-10-25 16:47:14,298 WARN scheduler.TaskSetManager: Stage 128 contains a task of very large size (175832 KiB). The maximum recommended task size is 1000 KiB.\n",
      "2023-10-25 16:47:25,778 WARN scheduler.TaskSetManager: Stage 129 contains a task of very large size (175832 KiB). The maximum recommended task size is 1000 KiB.\n",
      "[Stage 130:>                                                        (0 + 1) / 1]\r"
     ]
    },
    {
     "name": "stdout",
     "output_type": "stream",
     "text": [
      "+----------+--------+--------------+--------------+\n",
      "|Date      |Time    |User          |SentimentScore|\n",
      "+----------+--------+--------------+--------------+\n",
      "|2009-04-06|23:11:56|sambg7777     |0.2235        |\n",
      "|2009-04-06|23:23:55|fieldsbooks   |0.3182        |\n",
      "|2009-04-06|23:43:49|_gnosis       |0.5399        |\n",
      "|2009-04-06|22:43:05|REV3AL        |0.0           |\n",
      "|2009-04-06|23:53:37|nabejero      |0.6249        |\n",
      "|2009-04-06|22:48:28|SilkCharm     |0.0           |\n",
      "|2009-04-06|23:44:55|Syph0n        |-0.4215       |\n",
      "|2009-04-06|22:20:40|viJILLante    |0.3818        |\n",
      "|2009-04-06|22:27:02|ashleyirvin   |0.6249        |\n",
      "|2009-04-06|23:03:31|zottarella    |0.4019        |\n",
      "|2009-04-06|23:06:05|Nasef         |-0.7845       |\n",
      "|2009-04-06|23:21:45|lcmroz        |-0.1531       |\n",
      "|2009-04-06|22:58:28|kayocean      |0.6588        |\n",
      "|2009-04-06|23:48:16|twilight_x3   |0.0           |\n",
      "|2009-04-06|23:43:45|ShannaMoakler |0.7896        |\n",
      "|2009-04-06|22:22:30|justnetgirl   |-0.2263       |\n",
      "|2009-04-06|23:28:02|grinc         |0.3716        |\n",
      "|2009-04-06|23:21:13|OhMyChristine |-0.5255       |\n",
      "|2009-04-06|22:22:51|vmdavinci     |0.0           |\n",
      "|2009-04-06|22:26:54|missannabanana|-0.296        |\n",
      "+----------+--------+--------------+--------------+\n",
      "only showing top 20 rows\n",
      "\n"
     ]
    },
    {
     "name": "stderr",
     "output_type": "stream",
     "text": [
      "                                                                                \r"
     ]
    }
   ],
   "source": [
    "from pyspark.sql.functions import col, regexp_extract\n",
    "\n",
    "# extracting the \"compound\" value using regular expression\n",
    "full_df = full_df.withColumn(\"SentimentScore\", regexp_extract(col(\"SentimentScores\"), \"compound': (-?\\d+\\.\\d+)\", 1))\n",
    "\n",
    "\n",
    "# creating a new DataFrame with selected columns\n",
    "sentiment = full_df.select(\"Date\", \"Time\",\"User\",\"SentimentScore\")\n",
    "\n",
    "# showing the updated DataFrame\n",
    "sentiment.show(truncate=False)"
   ]
  },
  {
   "cell_type": "code",
   "execution_count": null,
   "id": "43d7031e",
   "metadata": {},
   "outputs": [],
   "source": []
  },
  {
   "cell_type": "code",
   "execution_count": 56,
   "id": "0dda963c",
   "metadata": {
    "scrolled": true
   },
   "outputs": [
    {
     "name": "stderr",
     "output_type": "stream",
     "text": [
      "2023-10-24 16:46:45,546 WARN scheduler.TaskSetManager: Stage 46 contains a task of very large size (175832 KiB). The maximum recommended task size is 1000 KiB.\n",
      "2023-10-24 16:46:52,455 WARN scheduler.TaskSetManager: Stage 47 contains a task of very large size (175832 KiB). The maximum recommended task size is 1000 KiB.\n",
      "[Stage 47:>                                                         (0 + 1) / 1]\r"
     ]
    },
    {
     "name": "stdout",
     "output_type": "stream",
     "text": [
      "+------+----------+--------------+\n",
      "|ID    |Date      |SentimentScore|\n",
      "+------+----------+--------------+\n",
      "|769   |2009-04-06|0.2235        |\n",
      "|801251|2009-04-06|0.3182        |\n",
      "|801621|2009-04-06|0.5399        |\n",
      "|800409|2009-04-06|0.0           |\n",
      "|801810|2009-04-06|0.6249        |\n",
      "|800536|2009-04-06|0.0           |\n",
      "|1199  |2009-04-06|-0.4215       |\n",
      "|23    |2009-04-06|0.3818        |\n",
      "|114   |2009-04-06|0.6249        |\n",
      "|800831|2009-04-06|0.4019        |\n",
      "|660   |2009-04-06|-0.7845       |\n",
      "|893   |2009-04-06|-0.1531       |\n",
      "|800730|2009-04-06|0.6588        |\n",
      "|801669|2009-04-06|0.0           |\n",
      "|1193  |2009-04-06|0.7896        |\n",
      "|53    |2009-04-06|-0.2263       |\n",
      "|987   |2009-04-06|0.3716        |\n",
      "|878   |2009-04-06|-0.5255       |\n",
      "|800006|2009-04-06|0.0           |\n",
      "|110   |2009-04-06|-0.296        |\n",
      "+------+----------+--------------+\n",
      "only showing top 20 rows\n",
      "\n"
     ]
    },
    {
     "name": "stderr",
     "output_type": "stream",
     "text": [
      "                                                                                \r"
     ]
    }
   ],
   "source": [
    "# extracting the \"compound\" value using regular expression\n",
    "full_df = full_df.withColumn(\"SentimentScore\", regexp_extract(col(\"SentimentScores\"), \"compound': (-?\\d+\\.\\d+)\", 1))\n",
    "\n",
    "# creating a new DataFrame with selected columns\n",
    "sentiment_df = full_df.select(\"ID\", \"Date\", \"SentimentScore\")\n",
    "\n",
    "# showing the updated DataFrame\n",
    "sentiment_df.show(truncate=False)"
   ]
  },
  {
   "cell_type": "code",
   "execution_count": 59,
   "id": "0a561ffa",
   "metadata": {
    "scrolled": true
   },
   "outputs": [
    {
     "name": "stderr",
     "output_type": "stream",
     "text": [
      "2023-10-24 16:55:58,280 WARN scheduler.TaskSetManager: Stage 62 contains a task of very large size (175832 KiB). The maximum recommended task size is 1000 KiB.\n",
      "2023-10-24 16:56:05,459 WARN scheduler.TaskSetManager: Stage 63 contains a task of very large size (175832 KiB). The maximum recommended task size is 1000 KiB.\n",
      "[Stage 65:===============================================>      (176 + 1) / 200]\r"
     ]
    },
    {
     "name": "stdout",
     "output_type": "stream",
     "text": [
      "+----------+-------------------+\n",
      "|Date      |AvgSentiment       |\n",
      "+----------+-------------------+\n",
      "|2009-04-06|0.14082729166666685|\n",
      "|2009-04-07|0.16071425683091506|\n",
      "|2009-04-17|0.19615564202334584|\n",
      "|2009-04-18|0.1795865633906382 |\n",
      "|2009-04-19|0.1831807564891344 |\n",
      "|2009-04-20|0.17166360780064724|\n",
      "|2009-04-21|0.17376012577151456|\n",
      "|2009-05-01|0.17529110938309955|\n",
      "|2009-05-02|0.1791365568272937 |\n",
      "|2009-05-03|0.17146325248351602|\n",
      "|2009-05-04|0.16226765712809077|\n",
      "|2009-05-09|0.18079954851350183|\n",
      "|2009-05-10|0.21161643167236285|\n",
      "|2009-05-11|0.1639054706163401 |\n",
      "|2009-05-13|0.14147299557304477|\n",
      "|2009-05-14|0.1657088201603655 |\n",
      "|2009-05-16|0.1725657992565051 |\n",
      "|2009-05-17|0.19965720725208472|\n",
      "|2009-05-18|0.18654729496284728|\n",
      "|2009-05-21|0.17546547842401505|\n",
      "+----------+-------------------+\n",
      "only showing top 20 rows\n",
      "\n"
     ]
    },
    {
     "name": "stderr",
     "output_type": "stream",
     "text": [
      "                                                                                \r"
     ]
    }
   ],
   "source": [
    "from pyspark.sql.functions import avg\n",
    "\n",
    "# Group by the \"Date\" column and calculate the average sentiment score for each day\n",
    "daily_avg_sentiment = sentiment_df.groupBy(\"Date\").agg(avg(\"SentimentScore\").alias(\"AvgSentiment\"))\n",
    "\n",
    "# Sort the DataFrame by date in ascending order\n",
    "daily_avg_sentiment = daily_avg_sentiment.orderBy(\"Date\")\n",
    "\n",
    "# Show the sorted DataFrame\n",
    "daily_avg_sentiment.show(truncate=False)"
   ]
  },
  {
   "cell_type": "code",
   "execution_count": 60,
   "id": "df0e475e",
   "metadata": {
    "scrolled": true
   },
   "outputs": [
    {
     "name": "stderr",
     "output_type": "stream",
     "text": [
      "2023-10-24 17:02:56,338 WARN scheduler.TaskSetManager: Stage 66 contains a task of very large size (175832 KiB). The maximum recommended task size is 1000 KiB.\n",
      "2023-10-24 17:03:04,108 WARN scheduler.TaskSetManager: Stage 67 contains a task of very large size (175832 KiB). The maximum recommended task size is 1000 KiB.\n",
      "[Stage 69:================================================>     (178 + 1) / 200]\r"
     ]
    },
    {
     "name": "stdout",
     "output_type": "stream",
     "text": [
      "+----------+------------+\n",
      "|Date      |AvgSentiment|\n",
      "+----------+------------+\n",
      "|2009-04-06|0.14        |\n",
      "|2009-04-07|0.16        |\n",
      "|2009-04-17|0.2         |\n",
      "|2009-04-18|0.18        |\n",
      "|2009-04-19|0.18        |\n",
      "|2009-04-20|0.17        |\n",
      "|2009-04-21|0.17        |\n",
      "|2009-05-01|0.18        |\n",
      "|2009-05-02|0.18        |\n",
      "|2009-05-03|0.17        |\n",
      "|2009-05-04|0.16        |\n",
      "|2009-05-09|0.18        |\n",
      "|2009-05-10|0.21        |\n",
      "|2009-05-11|0.16        |\n",
      "|2009-05-13|0.14        |\n",
      "|2009-05-14|0.17        |\n",
      "|2009-05-16|0.17        |\n",
      "|2009-05-17|0.2         |\n",
      "|2009-05-18|0.19        |\n",
      "|2009-05-21|0.18        |\n",
      "+----------+------------+\n",
      "only showing top 20 rows\n",
      "\n"
     ]
    },
    {
     "name": "stderr",
     "output_type": "stream",
     "text": [
      "                                                                                \r"
     ]
    }
   ],
   "source": [
    "from pyspark.sql.functions import round\n",
    "\n",
    "# Round the \"AvgSentiment\" column to 2 decimal places\n",
    "daily_avg_sentiment = daily_avg_sentiment.withColumn(\"AvgSentiment\", round(col(\"AvgSentiment\"), 2))\n",
    "\n",
    "# Show the DataFrame with rounded average sentiment scores\n",
    "daily_avg_sentiment.show(truncate=False)"
   ]
  },
  {
   "cell_type": "markdown",
   "id": "6ad43432",
   "metadata": {},
   "source": [
    "### removing punctuation"
   ]
  },
  {
   "cell_type": "code",
   "execution_count": 61,
   "id": "14dae787",
   "metadata": {},
   "outputs": [
    {
     "name": "stderr",
     "output_type": "stream",
     "text": [
      "2023-10-24 17:17:46,293 ERROR codegen.CodeGenerator: failed to compile: org.codehaus.commons.compiler.CompileException: File 'generated.java', Line 104, Column 1: Assignment conversion not possible from type \"org.apache.spark.sql.catalyst.util.ArrayData\" to type \"org.apache.spark.unsafe.types.UTF8String\"\n",
      "org.codehaus.commons.compiler.CompileException: File 'generated.java', Line 104, Column 1: Assignment conversion not possible from type \"org.apache.spark.sql.catalyst.util.ArrayData\" to type \"org.apache.spark.unsafe.types.UTF8String\"\n",
      "\tat org.codehaus.janino.UnitCompiler.compileError(UnitCompiler.java:12021)\n",
      "\tat org.codehaus.janino.UnitCompiler.assignmentConversion(UnitCompiler.java:10851)\n",
      "\tat org.codehaus.janino.UnitCompiler.compile2(UnitCompiler.java:3839)\n",
      "\tat org.codehaus.janino.UnitCompiler.access$6100(UnitCompiler.java:226)\n",
      "\tat org.codehaus.janino.UnitCompiler$13.visitAssignment(UnitCompiler.java:3799)\n",
      "\tat org.codehaus.janino.UnitCompiler$13.visitAssignment(UnitCompiler.java:3779)\n",
      "\tat org.codehaus.janino.Java$Assignment.accept(Java.java:4690)\n",
      "\tat org.codehaus.janino.UnitCompiler.compile(UnitCompiler.java:3779)\n",
      "\tat org.codehaus.janino.UnitCompiler.compile2(UnitCompiler.java:2366)\n",
      "\tat org.codehaus.janino.UnitCompiler.access$1800(UnitCompiler.java:226)\n",
      "\tat org.codehaus.janino.UnitCompiler$6.visitExpressionStatement(UnitCompiler.java:1497)\n",
      "\tat org.codehaus.janino.UnitCompiler$6.visitExpressionStatement(UnitCompiler.java:1490)\n",
      "\tat org.codehaus.janino.Java$ExpressionStatement.accept(Java.java:3064)\n",
      "\tat org.codehaus.janino.UnitCompiler.compile(UnitCompiler.java:1490)\n",
      "\tat org.codehaus.janino.UnitCompiler.compileStatements(UnitCompiler.java:1573)\n",
      "\tat org.codehaus.janino.UnitCompiler.compile2(UnitCompiler.java:1559)\n",
      "\tat org.codehaus.janino.UnitCompiler.access$1700(UnitCompiler.java:226)\n",
      "\tat org.codehaus.janino.UnitCompiler$6.visitBlock(UnitCompiler.java:1496)\n",
      "\tat org.codehaus.janino.UnitCompiler$6.visitBlock(UnitCompiler.java:1490)\n",
      "\tat org.codehaus.janino.Java$Block.accept(Java.java:2969)\n",
      "\tat org.codehaus.janino.UnitCompiler.compile(UnitCompiler.java:1490)\n",
      "\tat org.codehaus.janino.UnitCompiler.compile2(UnitCompiler.java:2478)\n",
      "\tat org.codehaus.janino.UnitCompiler.access$1900(UnitCompiler.java:226)\n",
      "\tat org.codehaus.janino.UnitCompiler$6.visitIfStatement(UnitCompiler.java:1498)\n",
      "\tat org.codehaus.janino.UnitCompiler$6.visitIfStatement(UnitCompiler.java:1490)\n",
      "\tat org.codehaus.janino.Java$IfStatement.accept(Java.java:3140)\n",
      "\tat org.codehaus.janino.UnitCompiler.compile(UnitCompiler.java:1490)\n",
      "\tat org.codehaus.janino.UnitCompiler.compileStatements(UnitCompiler.java:1573)\n",
      "\tat org.codehaus.janino.UnitCompiler.compile2(UnitCompiler.java:1559)\n",
      "\tat org.codehaus.janino.UnitCompiler.access$1700(UnitCompiler.java:226)\n",
      "\tat org.codehaus.janino.UnitCompiler$6.visitBlock(UnitCompiler.java:1496)\n",
      "\tat org.codehaus.janino.UnitCompiler$6.visitBlock(UnitCompiler.java:1490)\n",
      "\tat org.codehaus.janino.Java$Block.accept(Java.java:2969)\n",
      "\tat org.codehaus.janino.UnitCompiler.compile(UnitCompiler.java:1490)\n",
      "\tat org.codehaus.janino.UnitCompiler.compile2(UnitCompiler.java:2486)\n",
      "\tat org.codehaus.janino.UnitCompiler.access$1900(UnitCompiler.java:226)\n",
      "\tat org.codehaus.janino.UnitCompiler$6.visitIfStatement(UnitCompiler.java:1498)\n",
      "\tat org.codehaus.janino.UnitCompiler$6.visitIfStatement(UnitCompiler.java:1490)\n",
      "\tat org.codehaus.janino.Java$IfStatement.accept(Java.java:3140)\n",
      "\tat org.codehaus.janino.UnitCompiler.compile(UnitCompiler.java:1490)\n",
      "\tat org.codehaus.janino.UnitCompiler.compileStatements(UnitCompiler.java:1573)\n",
      "\tat org.codehaus.janino.UnitCompiler.compile2(UnitCompiler.java:1559)\n",
      "\tat org.codehaus.janino.UnitCompiler.access$1700(UnitCompiler.java:226)\n",
      "\tat org.codehaus.janino.UnitCompiler$6.visitBlock(UnitCompiler.java:1496)\n",
      "\tat org.codehaus.janino.UnitCompiler$6.visitBlock(UnitCompiler.java:1490)\n",
      "\tat org.codehaus.janino.Java$Block.accept(Java.java:2969)\n",
      "\tat org.codehaus.janino.UnitCompiler.compile(UnitCompiler.java:1490)\n",
      "\tat org.codehaus.janino.UnitCompiler.compile2(UnitCompiler.java:1848)\n",
      "\tat org.codehaus.janino.UnitCompiler.access$2200(UnitCompiler.java:226)\n",
      "\tat org.codehaus.janino.UnitCompiler$6.visitWhileStatement(UnitCompiler.java:1501)\n",
      "\tat org.codehaus.janino.UnitCompiler$6.visitWhileStatement(UnitCompiler.java:1490)\n",
      "\tat org.codehaus.janino.Java$WhileStatement.accept(Java.java:3245)\n",
      "\tat org.codehaus.janino.UnitCompiler.compile(UnitCompiler.java:1490)\n",
      "\tat org.codehaus.janino.UnitCompiler.compileStatements(UnitCompiler.java:1573)\n",
      "\tat org.codehaus.janino.UnitCompiler.compile(UnitCompiler.java:3420)\n",
      "\tat org.codehaus.janino.UnitCompiler.compileDeclaredMethods(UnitCompiler.java:1362)\n",
      "\tat org.codehaus.janino.UnitCompiler.compileDeclaredMethods(UnitCompiler.java:1335)\n",
      "\tat org.codehaus.janino.UnitCompiler.compile2(UnitCompiler.java:807)\n",
      "\tat org.codehaus.janino.UnitCompiler.compile2(UnitCompiler.java:975)\n",
      "\tat org.codehaus.janino.UnitCompiler.access$700(UnitCompiler.java:226)\n",
      "\tat org.codehaus.janino.UnitCompiler$2.visitMemberClassDeclaration(UnitCompiler.java:392)\n",
      "\tat org.codehaus.janino.UnitCompiler$2.visitMemberClassDeclaration(UnitCompiler.java:384)\n",
      "\tat org.codehaus.janino.Java$MemberClassDeclaration.accept(Java.java:1445)\n",
      "\tat org.codehaus.janino.UnitCompiler.compile(UnitCompiler.java:384)\n",
      "\tat org.codehaus.janino.UnitCompiler.compileDeclaredMemberTypes(UnitCompiler.java:1312)\n",
      "\tat org.codehaus.janino.UnitCompiler.compile2(UnitCompiler.java:833)\n",
      "\tat org.codehaus.janino.UnitCompiler.compile2(UnitCompiler.java:410)\n",
      "\tat org.codehaus.janino.UnitCompiler.access$400(UnitCompiler.java:226)\n",
      "\tat org.codehaus.janino.UnitCompiler$2.visitPackageMemberClassDeclaration(UnitCompiler.java:389)\n",
      "\tat org.codehaus.janino.UnitCompiler$2.visitPackageMemberClassDeclaration(UnitCompiler.java:384)\n",
      "\tat org.codehaus.janino.Java$PackageMemberClassDeclaration.accept(Java.java:1594)\n",
      "\tat org.codehaus.janino.UnitCompiler.compile(UnitCompiler.java:384)\n",
      "\tat org.codehaus.janino.UnitCompiler.compile2(UnitCompiler.java:362)\n",
      "\tat org.codehaus.janino.UnitCompiler.access$000(UnitCompiler.java:226)\n",
      "\tat org.codehaus.janino.UnitCompiler$1.visitCompilationUnit(UnitCompiler.java:336)\n",
      "\tat org.codehaus.janino.UnitCompiler$1.visitCompilationUnit(UnitCompiler.java:333)\n",
      "\tat org.codehaus.janino.Java$CompilationUnit.accept(Java.java:363)\n",
      "\tat org.codehaus.janino.UnitCompiler.compileUnit(UnitCompiler.java:333)\n",
      "\tat org.codehaus.janino.SimpleCompiler.cook(SimpleCompiler.java:235)\n",
      "\tat org.codehaus.janino.SimpleCompiler.compileToClassLoader(SimpleCompiler.java:464)\n",
      "\tat org.codehaus.janino.ClassBodyEvaluator.compileToClass(ClassBodyEvaluator.java:314)\n",
      "\tat org.codehaus.janino.ClassBodyEvaluator.cook(ClassBodyEvaluator.java:237)\n",
      "\tat org.codehaus.janino.SimpleCompiler.cook(SimpleCompiler.java:205)\n",
      "\tat org.codehaus.commons.compiler.Cookable.cook(Cookable.java:80)\n",
      "\tat org.apache.spark.sql.catalyst.expressions.codegen.CodeGenerator$.org$apache$spark$sql$catalyst$expressions$codegen$CodeGenerator$$doCompile(CodeGenerator.scala:1404)\n",
      "\tat org.apache.spark.sql.catalyst.expressions.codegen.CodeGenerator$$anon$1.load(CodeGenerator.scala:1501)\n",
      "\tat org.apache.spark.sql.catalyst.expressions.codegen.CodeGenerator$$anon$1.load(CodeGenerator.scala:1498)\n",
      "\tat org.sparkproject.guava.cache.LocalCache$LoadingValueReference.loadFuture(LocalCache.java:3599)\n",
      "\tat org.sparkproject.guava.cache.LocalCache$Segment.loadSync(LocalCache.java:2379)\n",
      "\tat org.sparkproject.guava.cache.LocalCache$Segment.lockedGetOrLoad(LocalCache.java:2342)\n",
      "\tat org.sparkproject.guava.cache.LocalCache$Segment.get(LocalCache.java:2257)\n",
      "\tat org.sparkproject.guava.cache.LocalCache.get(LocalCache.java:4000)\n",
      "\tat org.sparkproject.guava.cache.LocalCache.getOrLoad(LocalCache.java:4004)\n",
      "\tat org.sparkproject.guava.cache.LocalCache$LocalLoadingCache.get(LocalCache.java:4874)\n",
      "\tat org.apache.spark.sql.catalyst.expressions.codegen.CodeGenerator$.compile(CodeGenerator.scala:1352)\n",
      "\tat org.apache.spark.sql.execution.WholeStageCodegenExec.liftedTree1$1(WholeStageCodegenExec.scala:721)\n",
      "\tat org.apache.spark.sql.execution.WholeStageCodegenExec.doExecute(WholeStageCodegenExec.scala:720)\n",
      "\tat org.apache.spark.sql.execution.SparkPlan.$anonfun$execute$1(SparkPlan.scala:180)\n",
      "\tat org.apache.spark.sql.execution.SparkPlan.$anonfun$executeQuery$1(SparkPlan.scala:218)\n",
      "\tat org.apache.spark.rdd.RDDOperationScope$.withScope(RDDOperationScope.scala:151)\n",
      "\tat org.apache.spark.sql.execution.SparkPlan.executeQuery(SparkPlan.scala:215)\n",
      "\tat org.apache.spark.sql.execution.SparkPlan.execute(SparkPlan.scala:176)\n",
      "\tat org.apache.spark.sql.execution.SparkPlan.getByteArrayRdd(SparkPlan.scala:321)\n",
      "\tat org.apache.spark.sql.execution.SparkPlan.executeTake(SparkPlan.scala:439)\n",
      "\tat org.apache.spark.sql.execution.SparkPlan.executeTake(SparkPlan.scala:425)\n",
      "\tat org.apache.spark.sql.execution.CollectLimitExec.executeCollect(limit.scala:47)\n",
      "\tat org.apache.spark.sql.Dataset.collectFromPlan(Dataset.scala:3709)\n",
      "\tat org.apache.spark.sql.Dataset.$anonfun$head$1(Dataset.scala:2735)\n",
      "\tat org.apache.spark.sql.Dataset.$anonfun$withAction$1(Dataset.scala:3700)\n",
      "\tat org.apache.spark.sql.execution.SQLExecution$.$anonfun$withNewExecutionId$5(SQLExecution.scala:103)\n",
      "\tat org.apache.spark.sql.execution.SQLExecution$.withSQLConfPropagated(SQLExecution.scala:163)\n",
      "\tat org.apache.spark.sql.execution.SQLExecution$.$anonfun$withNewExecutionId$1(SQLExecution.scala:90)\n",
      "\tat org.apache.spark.sql.SparkSession.withActive(SparkSession.scala:775)\n",
      "\tat org.apache.spark.sql.execution.SQLExecution$.withNewExecutionId(SQLExecution.scala:64)\n",
      "\tat org.apache.spark.sql.Dataset.withAction(Dataset.scala:3698)\n",
      "\tat org.apache.spark.sql.Dataset.head(Dataset.scala:2735)\n",
      "\tat org.apache.spark.sql.Dataset.take(Dataset.scala:2942)\n",
      "\tat org.apache.spark.sql.Dataset.getRows(Dataset.scala:302)\n",
      "\tat org.apache.spark.sql.Dataset.showString(Dataset.scala:339)\n",
      "\tat sun.reflect.GeneratedMethodAccessor109.invoke(Unknown Source)\n",
      "\tat sun.reflect.DelegatingMethodAccessorImpl.invoke(DelegatingMethodAccessorImpl.java:43)\n",
      "\tat java.lang.reflect.Method.invoke(Method.java:498)\n",
      "\tat py4j.reflection.MethodInvoker.invoke(MethodInvoker.java:244)\n",
      "\tat py4j.reflection.ReflectionEngine.invoke(ReflectionEngine.java:357)\n",
      "\tat py4j.Gateway.invoke(Gateway.java:282)\n",
      "\tat py4j.commands.AbstractCommand.invokeMethod(AbstractCommand.java:132)\n",
      "\tat py4j.commands.CallCommand.execute(CallCommand.java:79)\n",
      "\tat py4j.GatewayConnection.run(GatewayConnection.java:238)\n",
      "\tat java.lang.Thread.run(Thread.java:750)\n",
      "2023-10-24 17:17:46,347 WARN execution.WholeStageCodegenExec: Whole-stage codegen disabled for plan (id=3):\n",
      " *(3) Project [cast(ID#82L as string) AS ID#683, Date#145, lower(Tweet#84) AS Tweet#685, cast(Tweet_ID#85L as string) AS Tweet_ID#686, User#86, Time#113, regexp_replace(pythonUDF0#701, [^\\w\\s], , 1) AS TokenizedTweet#689, pythonUDF1#702 AS SentimentScores#690, regexp_extract(pythonUDF1#702, compound': (-?\\d+\\.\\d+), 1) AS SentimentScore#691]\n",
      "+- BatchEvalPython [<lambda>(<lambda>(lower(Tweet#84))), analyze_sentiment(lower(Tweet#84))], [pythonUDF0#701, pythonUDF1#702]\n",
      "   +- *(2) Sort [Date#145 ASC NULLS FIRST], true, 0\n",
      "      +- Exchange rangepartitioning(Date#145 ASC NULLS FIRST, 200), ENSURE_REQUIREMENTS, [id=#767]\n",
      "         +- *(1) Project [id#72L AS ID#82L, date_format(date#73, yyyy-MM-dd, Some(Europe/Dublin)) AS Date#145, tweet#74 AS Tweet#84, tweet_id#75L AS Tweet_ID#85L, user#76 AS User#86, date_format(date#73, HH:mm:ss, Some(Europe/Dublin)) AS Time#113]\n",
      "            +- *(1) Scan ExistingRDD[id#72L,date#73,tweet#74,tweet_id#75L,user#76]\n",
      "\n",
      "2023-10-24 17:17:46,589 WARN scheduler.TaskSetManager: Stage 70 contains a task of very large size (175832 KiB). The maximum recommended task size is 1000 KiB.\n",
      "2023-10-24 17:17:57,683 WARN scheduler.TaskSetManager: Stage 71 contains a task of very large size (175832 KiB). The maximum recommended task size is 1000 KiB.\n",
      "2023-10-24 17:18:07,497 ERROR codegen.CodeGenerator: failed to compile: org.codehaus.commons.compiler.CompileException: File 'generated.java', Line 182, Column 1: Assignment conversion not possible from type \"org.apache.spark.sql.catalyst.util.ArrayData\" to type \"org.apache.spark.unsafe.types.UTF8String\"\n",
      "org.codehaus.commons.compiler.CompileException: File 'generated.java', Line 182, Column 1: Assignment conversion not possible from type \"org.apache.spark.sql.catalyst.util.ArrayData\" to type \"org.apache.spark.unsafe.types.UTF8String\"\n",
      "\tat org.codehaus.janino.UnitCompiler.compileError(UnitCompiler.java:12021)\n",
      "\tat org.codehaus.janino.UnitCompiler.assignmentConversion(UnitCompiler.java:10851)\n",
      "\tat org.codehaus.janino.UnitCompiler.compile2(UnitCompiler.java:3839)\n",
      "\tat org.codehaus.janino.UnitCompiler.access$6100(UnitCompiler.java:226)\n",
      "\tat org.codehaus.janino.UnitCompiler$13.visitAssignment(UnitCompiler.java:3799)\n",
      "\tat org.codehaus.janino.UnitCompiler$13.visitAssignment(UnitCompiler.java:3779)\n",
      "\tat org.codehaus.janino.Java$Assignment.accept(Java.java:4690)\n",
      "\tat org.codehaus.janino.UnitCompiler.compile(UnitCompiler.java:3779)\n",
      "\tat org.codehaus.janino.UnitCompiler.compile2(UnitCompiler.java:2366)\n",
      "\tat org.codehaus.janino.UnitCompiler.access$1800(UnitCompiler.java:226)\n",
      "\tat org.codehaus.janino.UnitCompiler$6.visitExpressionStatement(UnitCompiler.java:1497)\n",
      "\tat org.codehaus.janino.UnitCompiler$6.visitExpressionStatement(UnitCompiler.java:1490)\n",
      "\tat org.codehaus.janino.Java$ExpressionStatement.accept(Java.java:3064)\n",
      "\tat org.codehaus.janino.UnitCompiler.compile(UnitCompiler.java:1490)\n",
      "\tat org.codehaus.janino.UnitCompiler.compileStatements(UnitCompiler.java:1573)\n",
      "\tat org.codehaus.janino.UnitCompiler.compile2(UnitCompiler.java:1559)\n",
      "\tat org.codehaus.janino.UnitCompiler.access$1700(UnitCompiler.java:226)\n",
      "\tat org.codehaus.janino.UnitCompiler$6.visitBlock(UnitCompiler.java:1496)\n",
      "\tat org.codehaus.janino.UnitCompiler$6.visitBlock(UnitCompiler.java:1490)\n",
      "\tat org.codehaus.janino.Java$Block.accept(Java.java:2969)\n",
      "\tat org.codehaus.janino.UnitCompiler.compile(UnitCompiler.java:1490)\n",
      "\tat org.codehaus.janino.UnitCompiler.compile2(UnitCompiler.java:2478)\n",
      "\tat org.codehaus.janino.UnitCompiler.access$1900(UnitCompiler.java:226)\n",
      "\tat org.codehaus.janino.UnitCompiler$6.visitIfStatement(UnitCompiler.java:1498)\n",
      "\tat org.codehaus.janino.UnitCompiler$6.visitIfStatement(UnitCompiler.java:1490)\n",
      "\tat org.codehaus.janino.Java$IfStatement.accept(Java.java:3140)\n",
      "\tat org.codehaus.janino.UnitCompiler.compile(UnitCompiler.java:1490)\n",
      "\tat org.codehaus.janino.UnitCompiler.compileStatements(UnitCompiler.java:1573)\n",
      "\tat org.codehaus.janino.UnitCompiler.compile2(UnitCompiler.java:1559)\n",
      "\tat org.codehaus.janino.UnitCompiler.access$1700(UnitCompiler.java:226)\n",
      "\tat org.codehaus.janino.UnitCompiler$6.visitBlock(UnitCompiler.java:1496)\n",
      "\tat org.codehaus.janino.UnitCompiler$6.visitBlock(UnitCompiler.java:1490)\n",
      "\tat org.codehaus.janino.Java$Block.accept(Java.java:2969)\n",
      "\tat org.codehaus.janino.UnitCompiler.compile(UnitCompiler.java:1490)\n",
      "\tat org.codehaus.janino.UnitCompiler.compile2(UnitCompiler.java:2486)\n",
      "\tat org.codehaus.janino.UnitCompiler.access$1900(UnitCompiler.java:226)\n",
      "\tat org.codehaus.janino.UnitCompiler$6.visitIfStatement(UnitCompiler.java:1498)\n",
      "\tat org.codehaus.janino.UnitCompiler$6.visitIfStatement(UnitCompiler.java:1490)\n",
      "\tat org.codehaus.janino.Java$IfStatement.accept(Java.java:3140)\n",
      "\tat org.codehaus.janino.UnitCompiler.compile(UnitCompiler.java:1490)\n",
      "\tat org.codehaus.janino.UnitCompiler.compileStatements(UnitCompiler.java:1573)\n",
      "\tat org.codehaus.janino.UnitCompiler.compile(UnitCompiler.java:3420)\n",
      "\tat org.codehaus.janino.UnitCompiler.compileDeclaredMethods(UnitCompiler.java:1362)\n",
      "\tat org.codehaus.janino.UnitCompiler.compileDeclaredMethods(UnitCompiler.java:1335)\n",
      "\tat org.codehaus.janino.UnitCompiler.compile2(UnitCompiler.java:807)\n",
      "\tat org.codehaus.janino.UnitCompiler.compile2(UnitCompiler.java:975)\n",
      "\tat org.codehaus.janino.UnitCompiler.access$700(UnitCompiler.java:226)\n",
      "\tat org.codehaus.janino.UnitCompiler$2.visitMemberClassDeclaration(UnitCompiler.java:392)\n",
      "\tat org.codehaus.janino.UnitCompiler$2.visitMemberClassDeclaration(UnitCompiler.java:384)\n",
      "\tat org.codehaus.janino.Java$MemberClassDeclaration.accept(Java.java:1445)\n",
      "\tat org.codehaus.janino.UnitCompiler.compile(UnitCompiler.java:384)\n",
      "\tat org.codehaus.janino.UnitCompiler.compileDeclaredMemberTypes(UnitCompiler.java:1312)\n",
      "\tat org.codehaus.janino.UnitCompiler.compile2(UnitCompiler.java:833)\n",
      "\tat org.codehaus.janino.UnitCompiler.compile2(UnitCompiler.java:410)\n",
      "\tat org.codehaus.janino.UnitCompiler.access$400(UnitCompiler.java:226)\n",
      "\tat org.codehaus.janino.UnitCompiler$2.visitPackageMemberClassDeclaration(UnitCompiler.java:389)\n",
      "\tat org.codehaus.janino.UnitCompiler$2.visitPackageMemberClassDeclaration(UnitCompiler.java:384)\n",
      "\tat org.codehaus.janino.Java$PackageMemberClassDeclaration.accept(Java.java:1594)\n",
      "\tat org.codehaus.janino.UnitCompiler.compile(UnitCompiler.java:384)\n",
      "\tat org.codehaus.janino.UnitCompiler.compile2(UnitCompiler.java:362)\n",
      "\tat org.codehaus.janino.UnitCompiler.access$000(UnitCompiler.java:226)\n",
      "\tat org.codehaus.janino.UnitCompiler$1.visitCompilationUnit(UnitCompiler.java:336)\n",
      "\tat org.codehaus.janino.UnitCompiler$1.visitCompilationUnit(UnitCompiler.java:333)\n",
      "\tat org.codehaus.janino.Java$CompilationUnit.accept(Java.java:363)\n",
      "\tat org.codehaus.janino.UnitCompiler.compileUnit(UnitCompiler.java:333)\n",
      "\tat org.codehaus.janino.SimpleCompiler.cook(SimpleCompiler.java:235)\n",
      "\tat org.codehaus.janino.SimpleCompiler.compileToClassLoader(SimpleCompiler.java:464)\n",
      "\tat org.codehaus.janino.ClassBodyEvaluator.compileToClass(ClassBodyEvaluator.java:314)\n",
      "\tat org.codehaus.janino.ClassBodyEvaluator.cook(ClassBodyEvaluator.java:237)\n",
      "\tat org.codehaus.janino.SimpleCompiler.cook(SimpleCompiler.java:205)\n",
      "\tat org.codehaus.commons.compiler.Cookable.cook(Cookable.java:80)\n",
      "\tat org.apache.spark.sql.catalyst.expressions.codegen.CodeGenerator$.org$apache$spark$sql$catalyst$expressions$codegen$CodeGenerator$$doCompile(CodeGenerator.scala:1404)\n",
      "\tat org.apache.spark.sql.catalyst.expressions.codegen.CodeGenerator$$anon$1.load(CodeGenerator.scala:1501)\n",
      "\tat org.apache.spark.sql.catalyst.expressions.codegen.CodeGenerator$$anon$1.load(CodeGenerator.scala:1498)\n",
      "\tat org.sparkproject.guava.cache.LocalCache$LoadingValueReference.loadFuture(LocalCache.java:3599)\n",
      "\tat org.sparkproject.guava.cache.LocalCache$Segment.loadSync(LocalCache.java:2379)\n",
      "\tat org.sparkproject.guava.cache.LocalCache$Segment.lockedGetOrLoad(LocalCache.java:2342)\n",
      "\tat org.sparkproject.guava.cache.LocalCache$Segment.get(LocalCache.java:2257)\n",
      "\tat org.sparkproject.guava.cache.LocalCache.get(LocalCache.java:4000)\n",
      "\tat org.sparkproject.guava.cache.LocalCache.getOrLoad(LocalCache.java:4004)\n",
      "\tat org.sparkproject.guava.cache.LocalCache$LocalLoadingCache.get(LocalCache.java:4874)\n",
      "\tat org.apache.spark.sql.catalyst.expressions.codegen.CodeGenerator$.compile(CodeGenerator.scala:1352)\n",
      "\tat org.apache.spark.sql.catalyst.expressions.codegen.GenerateUnsafeProjection$.create(GenerateUnsafeProjection.scala:378)\n",
      "\tat org.apache.spark.sql.catalyst.expressions.codegen.GenerateUnsafeProjection$.generate(GenerateUnsafeProjection.scala:327)\n",
      "\tat org.apache.spark.sql.catalyst.expressions.UnsafeProjection$.createCodeGeneratedObject(Projection.scala:123)\n",
      "\tat org.apache.spark.sql.catalyst.expressions.UnsafeProjection$.createCodeGeneratedObject(Projection.scala:119)\n",
      "\tat org.apache.spark.sql.catalyst.expressions.CodeGeneratorWithInterpretedFallback.createObject(CodeGeneratorWithInterpretedFallback.scala:52)\n",
      "\tat org.apache.spark.sql.catalyst.expressions.UnsafeProjection$.create(Projection.scala:150)\n",
      "\tat org.apache.spark.sql.catalyst.expressions.UnsafeProjection$.create(Projection.scala:160)\n",
      "\tat org.apache.spark.sql.execution.ProjectExec.$anonfun$doExecute$1(basicPhysicalOperators.scala:93)\n",
      "\tat org.apache.spark.sql.execution.ProjectExec.$anonfun$doExecute$1$adapted(basicPhysicalOperators.scala:92)\n",
      "\tat org.apache.spark.rdd.RDD.$anonfun$mapPartitionsWithIndexInternal$2(RDD.scala:885)\n",
      "\tat org.apache.spark.rdd.RDD.$anonfun$mapPartitionsWithIndexInternal$2$adapted(RDD.scala:885)\n",
      "\tat org.apache.spark.rdd.MapPartitionsRDD.compute(MapPartitionsRDD.scala:52)\n",
      "\tat org.apache.spark.rdd.RDD.computeOrReadCheckpoint(RDD.scala:373)\n",
      "\tat org.apache.spark.rdd.RDD.iterator(RDD.scala:337)\n",
      "\tat org.apache.spark.rdd.MapPartitionsRDD.compute(MapPartitionsRDD.scala:52)\n",
      "\tat org.apache.spark.rdd.RDD.computeOrReadCheckpoint(RDD.scala:373)\n",
      "\tat org.apache.spark.rdd.RDD.iterator(RDD.scala:337)\n",
      "\tat org.apache.spark.scheduler.ResultTask.runTask(ResultTask.scala:90)\n",
      "\tat org.apache.spark.scheduler.Task.run(Task.scala:131)\n",
      "\tat org.apache.spark.executor.Executor$TaskRunner.$anonfun$run$3(Executor.scala:498)\n",
      "\tat org.apache.spark.util.Utils$.tryWithSafeFinally(Utils.scala:1439)\n",
      "\tat org.apache.spark.executor.Executor$TaskRunner.run(Executor.scala:501)\n",
      "\tat java.util.concurrent.ThreadPoolExecutor.runWorker(ThreadPoolExecutor.java:1149)\n",
      "\tat java.util.concurrent.ThreadPoolExecutor$Worker.run(ThreadPoolExecutor.java:624)\n",
      "\tat java.lang.Thread.run(Thread.java:750)\n",
      "2023-10-24 17:18:07,538 WARN expressions.UnsafeProjection: Expr codegen error and falling back to interpreter mode\n",
      "java.util.concurrent.ExecutionException: org.codehaus.commons.compiler.CompileException: File 'generated.java', Line 182, Column 1: failed to compile: org.codehaus.commons.compiler.CompileException: File 'generated.java', Line 182, Column 1: Assignment conversion not possible from type \"org.apache.spark.sql.catalyst.util.ArrayData\" to type \"org.apache.spark.unsafe.types.UTF8String\"\n",
      "\tat org.sparkproject.guava.util.concurrent.AbstractFuture$Sync.getValue(AbstractFuture.java:306)\n",
      "\tat org.sparkproject.guava.util.concurrent.AbstractFuture$Sync.get(AbstractFuture.java:293)\n",
      "\tat org.sparkproject.guava.util.concurrent.AbstractFuture.get(AbstractFuture.java:116)\n",
      "\tat org.sparkproject.guava.util.concurrent.Uninterruptibles.getUninterruptibly(Uninterruptibles.java:135)\n",
      "\tat org.sparkproject.guava.cache.LocalCache$Segment.getAndRecordStats(LocalCache.java:2410)\n",
      "\tat org.sparkproject.guava.cache.LocalCache$Segment.loadSync(LocalCache.java:2380)\n",
      "\tat org.sparkproject.guava.cache.LocalCache$Segment.lockedGetOrLoad(LocalCache.java:2342)\n",
      "\tat org.sparkproject.guava.cache.LocalCache$Segment.get(LocalCache.java:2257)\n",
      "\tat org.sparkproject.guava.cache.LocalCache.get(LocalCache.java:4000)\n",
      "\tat org.sparkproject.guava.cache.LocalCache.getOrLoad(LocalCache.java:4004)\n",
      "\tat org.sparkproject.guava.cache.LocalCache$LocalLoadingCache.get(LocalCache.java:4874)\n",
      "\tat org.apache.spark.sql.catalyst.expressions.codegen.CodeGenerator$.compile(CodeGenerator.scala:1352)\n",
      "\tat org.apache.spark.sql.catalyst.expressions.codegen.GenerateUnsafeProjection$.create(GenerateUnsafeProjection.scala:378)\n",
      "\tat org.apache.spark.sql.catalyst.expressions.codegen.GenerateUnsafeProjection$.generate(GenerateUnsafeProjection.scala:327)\n",
      "\tat org.apache.spark.sql.catalyst.expressions.UnsafeProjection$.createCodeGeneratedObject(Projection.scala:123)\n",
      "\tat org.apache.spark.sql.catalyst.expressions.UnsafeProjection$.createCodeGeneratedObject(Projection.scala:119)\n",
      "\tat org.apache.spark.sql.catalyst.expressions.CodeGeneratorWithInterpretedFallback.createObject(CodeGeneratorWithInterpretedFallback.scala:52)\n",
      "\tat org.apache.spark.sql.catalyst.expressions.UnsafeProjection$.create(Projection.scala:150)\n",
      "\tat org.apache.spark.sql.catalyst.expressions.UnsafeProjection$.create(Projection.scala:160)\n",
      "\tat org.apache.spark.sql.execution.ProjectExec.$anonfun$doExecute$1(basicPhysicalOperators.scala:93)\n",
      "\tat org.apache.spark.sql.execution.ProjectExec.$anonfun$doExecute$1$adapted(basicPhysicalOperators.scala:92)\n",
      "\tat org.apache.spark.rdd.RDD.$anonfun$mapPartitionsWithIndexInternal$2(RDD.scala:885)\n",
      "\tat org.apache.spark.rdd.RDD.$anonfun$mapPartitionsWithIndexInternal$2$adapted(RDD.scala:885)\n",
      "\tat org.apache.spark.rdd.MapPartitionsRDD.compute(MapPartitionsRDD.scala:52)\n",
      "\tat org.apache.spark.rdd.RDD.computeOrReadCheckpoint(RDD.scala:373)\n",
      "\tat org.apache.spark.rdd.RDD.iterator(RDD.scala:337)\n",
      "\tat org.apache.spark.rdd.MapPartitionsRDD.compute(MapPartitionsRDD.scala:52)\n",
      "\tat org.apache.spark.rdd.RDD.computeOrReadCheckpoint(RDD.scala:373)\n",
      "\tat org.apache.spark.rdd.RDD.iterator(RDD.scala:337)\n",
      "\tat org.apache.spark.scheduler.ResultTask.runTask(ResultTask.scala:90)\n",
      "\tat org.apache.spark.scheduler.Task.run(Task.scala:131)\n",
      "\tat org.apache.spark.executor.Executor$TaskRunner.$anonfun$run$3(Executor.scala:498)\n",
      "\tat org.apache.spark.util.Utils$.tryWithSafeFinally(Utils.scala:1439)\n",
      "\tat org.apache.spark.executor.Executor$TaskRunner.run(Executor.scala:501)\n",
      "\tat java.util.concurrent.ThreadPoolExecutor.runWorker(ThreadPoolExecutor.java:1149)\n",
      "\tat java.util.concurrent.ThreadPoolExecutor$Worker.run(ThreadPoolExecutor.java:624)\n",
      "\tat java.lang.Thread.run(Thread.java:750)\n",
      "Caused by: org.codehaus.commons.compiler.CompileException: File 'generated.java', Line 182, Column 1: failed to compile: org.codehaus.commons.compiler.CompileException: File 'generated.java', Line 182, Column 1: Assignment conversion not possible from type \"org.apache.spark.sql.catalyst.util.ArrayData\" to type \"org.apache.spark.unsafe.types.UTF8String\"\n",
      "\tat org.apache.spark.sql.catalyst.expressions.codegen.CodeGenerator$.org$apache$spark$sql$catalyst$expressions$codegen$CodeGenerator$$doCompile(CodeGenerator.scala:1416)\n",
      "\tat org.apache.spark.sql.catalyst.expressions.codegen.CodeGenerator$$anon$1.load(CodeGenerator.scala:1501)\n",
      "\tat org.apache.spark.sql.catalyst.expressions.codegen.CodeGenerator$$anon$1.load(CodeGenerator.scala:1498)\n",
      "\tat org.sparkproject.guava.cache.LocalCache$LoadingValueReference.loadFuture(LocalCache.java:3599)\n",
      "\tat org.sparkproject.guava.cache.LocalCache$Segment.loadSync(LocalCache.java:2379)\n",
      "\t... 31 more\n",
      "[Stage 72:>                                                         (0 + 1) / 1]\r"
     ]
    },
    {
     "name": "stdout",
     "output_type": "stream",
     "text": [
      "+------+----------+--------------------------------------------------------------------------------------------------------------------------------------------------------+----------+--------------+--------+-----------------------------------------------------------+---------------------------------------------------------------+--------------+\n",
      "|ID    |Date      |Tweet                                                                                                                                                   |Tweet_ID  |User          |Time    |TokenizedTweet                                             |SentimentScores                                                |SentimentScore|\n",
      "+------+----------+--------------------------------------------------------------------------------------------------------------------------------------------------------+----------+--------------+--------+-----------------------------------------------------------+---------------------------------------------------------------+--------------+\n",
      "|769   |2009-04-06|@faithgg45  this computer doesn't have shockwave...blah  no account yet                                                                                 |1468000996|sambg7777     |23:11:56|orgapachesparksqlcatalystexpressionsUnsafeArrayDatafe76a4ad|{'neg': 0.0, 'neu': 0.809, 'pos': 0.191, 'compound': 0.2235}   |0.2235        |\n",
      "|801251|2009-04-06|working papers - what the original order called flying rolls &amp; we call &quot;aerodynamic biscuits&quot;  - also available. http://bit.ly/bss7b #wbc2|1468040032|fieldsbooks   |23:23:55|orgapachesparksqlcatalystexpressionsUnsafeArrayDataa44289b7|{'neg': 0.0, 'neu': 0.881, 'pos': 0.119, 'compound': 0.3182}   |0.3182        |\n",
      "|801621|2009-04-06|@teknetia thanks!!                                                                                                                                      |1468103125|_gnosis       |23:43:49|orgapachesparksqlcatalystexpressionsUnsafeArrayData67db1e88|{'neg': 0.0, 'neu': 0.223, 'pos': 0.777, 'compound': 0.5399}   |0.5399        |\n",
      "|800409|2009-04-06|on my psp browser for the first time in over a year                                                                                                     |1467898845|REV3AL        |22:43:05|orgapachesparksqlcatalystexpressionsUnsafeArrayDataf8deecb4|{'neg': 0.0, 'neu': 1.0, 'pos': 0.0, 'compound': 0.0}          |0.0           |\n",
      "|801810|2009-04-06|@larryczerwonka cool changing avatar u got there. nice quotes too                                                                                       |1468132429|nabejero      |23:53:37|orgapachesparksqlcatalystexpressionsUnsafeArrayData2e8fb0bf|{'neg': 0.0, 'neu': 0.579, 'pos': 0.421, 'compound': 0.6249}   |0.6249        |\n",
      "|800536|2009-04-06|@kcarruthers *flicks hair* i prefer to be called a &quot;twenius&quot;                                                                                  |1467918315|SilkCharm     |22:48:28|orgapachesparksqlcatalystexpressionsUnsafeArrayData319d69de|{'neg': 0.0, 'neu': 1.0, 'pos': 0.0, 'compound': 0.0}          |0.0           |\n",
      "|1199  |2009-04-06|ugh. still working on project  just taking a small break                                                                                                |1468106339|Syph0n        |23:44:55|orgapachesparksqlcatalystexpressionsUnsafeArrayDataec6214a0|{'neg': 0.259, 'neu': 0.741, 'pos': 0.0, 'compound': -0.4215}  |-0.4215       |\n",
      "|23    |2009-04-06|this week is not going as i had hoped                                                                                                                   |1467814180|viJILLante    |22:20:40|orgapachesparksqlcatalystexpressionsUnsafeArrayData5af0577e|{'neg': 0.0, 'neu': 0.729, 'pos': 0.271, 'compound': 0.3818}   |0.3818        |\n",
      "|114   |2009-04-06|@salancaster  hope your ok.                                                                                                                             |1467838630|ashleyirvin   |22:27:02|orgapachesparksqlcatalystexpressionsUnsafeArrayData84ce159b|{'neg': 0.0, 'neu': 0.282, 'pos': 0.718, 'compound': 0.6249}   |0.6249        |\n",
      "|800831|2009-04-06|lets drop ..ich hatte gerade kï¿½se auf toast. germandoo. oh the joy of knowing some words in german  (via twitt.. http://tinyurl.com/dbvlwt            |1467971793|zottarella    |23:03:31|orgapachesparksqlcatalystexpressionsUnsafeArrayData3b51b7e3|{'neg': 0.084, 'neu': 0.763, 'pos': 0.153, 'compound': 0.4019} |0.4019        |\n",
      "|660   |2009-04-06|well the pc in my living room suffered a fatal partion lost all my itunes library is gone.. and some docs with pics....                                 |1467980679|Nasef         |23:06:05|orgapachesparksqlcatalystexpressionsUnsafeArrayData3bcb9c36|{'neg': 0.309, 'neu': 0.619, 'pos': 0.072, 'compound': -0.7845}|-0.7845       |\n",
      "|893   |2009-04-06|i miss my ex soo much                                                                                                                                   |1468033365|lcmroz        |23:21:45|orgapachesparksqlcatalystexpressionsUnsafeArrayData4e3e323b|{'neg': 0.286, 'neu': 0.714, 'pos': 0.0, 'compound': -0.1531}  |-0.1531       |\n",
      "|800730|2009-04-06|@heidimontag great episodes.  didnt know there would be two!                                                                                            |1467953247|kayocean      |22:58:28|orgapachesparksqlcatalystexpressionsUnsafeArrayData11f77e14|{'neg': 0.0, 'neu': 0.646, 'pos': 0.354, 'compound': 0.6588}   |0.6588        |\n",
      "|801669|2009-04-06|waiting for the pizza to bakee                                                                                                                          |1468116586|twilight_x3   |23:48:16|orgapachesparksqlcatalystexpressionsUnsafeArrayData3cf7f783|{'neg': 0.0, 'neu': 1.0, 'pos': 0.0, 'compound': 0.0}          |0.0           |\n",
      "|1193  |2009-04-06|it just makes me happy! over and over again! i just wish i wasn't afraid to fly  http://tinyurl.com/64skpp                                              |1468102926|ShannaMoakler |23:43:45|orgapachesparksqlcatalystexpressionsUnsafeArrayDatad1156fdf|{'neg': 0.0, 'neu': 0.667, 'pos': 0.333, 'compound': 0.7896}   |0.7896        |\n",
      "|53    |2009-04-06|put vacation photos online a few yrs ago. pc crashed and now i forget the name of the site.                                                             |1467821338|justnetgirl   |22:22:30|orgapachesparksqlcatalystexpressionsUnsafeArrayData86e8d21c|{'neg': 0.106, 'neu': 0.894, 'pos': 0.0, 'compound': -0.2263}  |-0.2263       |\n",
      "|987   |2009-04-06|reading buyology before bedtime... great premise but only turning out to be an &quot;ok&quot; book - lots of info i already knew                        |1468053198|grinc         |23:28:02|orgapachesparksqlcatalystexpressionsUnsafeArrayData759f1bce|{'neg': 0.0, 'neu': 0.882, 'pos': 0.118, 'compound': 0.3716}   |0.3716        |\n",
      "|878   |2009-04-06|@yaykimo it's sad it's the last season.  i wanna see when spencer calls lauren!                                                                         |1468031805|OhMyChristine |23:21:13|orgapachesparksqlcatalystexpressionsUnsafeArrayDatae037124b|{'neg': 0.22, 'neu': 0.78, 'pos': 0.0, 'compound': -0.5255}    |-0.5255       |\n",
      "|800006|2009-04-06|@r_keith_hill thans for your response. ihad already find this answer                                                                                    |1467822447|vmdavinci     |22:22:51|orgapachesparksqlcatalystexpressionsUnsafeArrayDatae4cdd4b2|{'neg': 0.0, 'neu': 1.0, 'pos': 0.0, 'compound': 0.0}          |0.0           |\n",
      "|110   |2009-04-06|laying in bed with no voice..                                                                                                                           |1467838189|missannabanana|22:26:54|orgapachesparksqlcatalystexpressionsUnsafeArrayData3b1073b1|{'neg': 0.306, 'neu': 0.694, 'pos': 0.0, 'compound': -0.296}   |-0.296        |\n",
      "+------+----------+--------------------------------------------------------------------------------------------------------------------------------------------------------+----------+--------------+--------+-----------------------------------------------------------+---------------------------------------------------------------+--------------+\n",
      "only showing top 20 rows\n",
      "\n"
     ]
    },
    {
     "name": "stderr",
     "output_type": "stream",
     "text": [
      "                                                                                \r"
     ]
    }
   ],
   "source": [
    "from pyspark.sql.functions import regexp_replace\n",
    "\n",
    "# Remove punctuation from the \"TokenizedTweet\" column and create a new DataFrame\n",
    "cleaned_full_df = full_df.withColumn(\"TokenizedTweet\", regexp_replace(col(\"TokenizedTweet\"), r'[^\\w\\s]', ''))\n",
    "\n",
    "# Show the cleaned DataFrame\n",
    "cleaned_full_df.show(truncate=False)"
   ]
  },
  {
   "cell_type": "code",
   "execution_count": 62,
   "id": "95398273",
   "metadata": {
    "scrolled": true
   },
   "outputs": [
    {
     "name": "stderr",
     "output_type": "stream",
     "text": [
      "2023-10-24 17:25:03,383 WARN scheduler.TaskSetManager: Stage 73 contains a task of very large size (175832 KiB). The maximum recommended task size is 1000 KiB.\n",
      "2023-10-24 17:25:11,917 WARN scheduler.TaskSetManager: Stage 74 contains a task of very large size (175832 KiB). The maximum recommended task size is 1000 KiB.\n",
      "[Stage 74:>                                                         (0 + 1) / 1]\r"
     ]
    },
    {
     "name": "stdout",
     "output_type": "stream",
     "text": [
      "+------+----------+--------------------------------------------------------------------------------------------------------------------------------------------------------+---------------------------------------------------------------+\n",
      "|ID    |Date      |Tweet                                                                                                                                                   |SentimentScores                                                |\n",
      "+------+----------+--------------------------------------------------------------------------------------------------------------------------------------------------------+---------------------------------------------------------------+\n",
      "|769   |2009-04-06|@faithgg45  this computer doesn't have shockwave...blah  no account yet                                                                                 |{'neg': 0.0, 'neu': 0.809, 'pos': 0.191, 'compound': 0.2235}   |\n",
      "|801251|2009-04-06|working papers - what the original order called flying rolls &amp; we call &quot;aerodynamic biscuits&quot;  - also available. http://bit.ly/bss7b #wbc2|{'neg': 0.0, 'neu': 0.881, 'pos': 0.119, 'compound': 0.3182}   |\n",
      "|801621|2009-04-06|@teknetia thanks!!                                                                                                                                      |{'neg': 0.0, 'neu': 0.223, 'pos': 0.777, 'compound': 0.5399}   |\n",
      "|800409|2009-04-06|on my psp browser for the first time in over a year                                                                                                     |{'neg': 0.0, 'neu': 1.0, 'pos': 0.0, 'compound': 0.0}          |\n",
      "|801810|2009-04-06|@larryczerwonka cool changing avatar u got there. nice quotes too                                                                                       |{'neg': 0.0, 'neu': 0.579, 'pos': 0.421, 'compound': 0.6249}   |\n",
      "|800536|2009-04-06|@kcarruthers *flicks hair* i prefer to be called a &quot;twenius&quot;                                                                                  |{'neg': 0.0, 'neu': 1.0, 'pos': 0.0, 'compound': 0.0}          |\n",
      "|1199  |2009-04-06|ugh. still working on project  just taking a small break                                                                                                |{'neg': 0.259, 'neu': 0.741, 'pos': 0.0, 'compound': -0.4215}  |\n",
      "|23    |2009-04-06|this week is not going as i had hoped                                                                                                                   |{'neg': 0.0, 'neu': 0.729, 'pos': 0.271, 'compound': 0.3818}   |\n",
      "|114   |2009-04-06|@salancaster  hope your ok.                                                                                                                             |{'neg': 0.0, 'neu': 0.282, 'pos': 0.718, 'compound': 0.6249}   |\n",
      "|800831|2009-04-06|lets drop ..ich hatte gerade kï¿½se auf toast. germandoo. oh the joy of knowing some words in german  (via twitt.. http://tinyurl.com/dbvlwt            |{'neg': 0.084, 'neu': 0.763, 'pos': 0.153, 'compound': 0.4019} |\n",
      "|660   |2009-04-06|well the pc in my living room suffered a fatal partion lost all my itunes library is gone.. and some docs with pics....                                 |{'neg': 0.309, 'neu': 0.619, 'pos': 0.072, 'compound': -0.7845}|\n",
      "|893   |2009-04-06|i miss my ex soo much                                                                                                                                   |{'neg': 0.286, 'neu': 0.714, 'pos': 0.0, 'compound': -0.1531}  |\n",
      "|800730|2009-04-06|@heidimontag great episodes.  didnt know there would be two!                                                                                            |{'neg': 0.0, 'neu': 0.646, 'pos': 0.354, 'compound': 0.6588}   |\n",
      "|801669|2009-04-06|waiting for the pizza to bakee                                                                                                                          |{'neg': 0.0, 'neu': 1.0, 'pos': 0.0, 'compound': 0.0}          |\n",
      "|1193  |2009-04-06|it just makes me happy! over and over again! i just wish i wasn't afraid to fly  http://tinyurl.com/64skpp                                              |{'neg': 0.0, 'neu': 0.667, 'pos': 0.333, 'compound': 0.7896}   |\n",
      "|53    |2009-04-06|put vacation photos online a few yrs ago. pc crashed and now i forget the name of the site.                                                             |{'neg': 0.106, 'neu': 0.894, 'pos': 0.0, 'compound': -0.2263}  |\n",
      "|987   |2009-04-06|reading buyology before bedtime... great premise but only turning out to be an &quot;ok&quot; book - lots of info i already knew                        |{'neg': 0.0, 'neu': 0.882, 'pos': 0.118, 'compound': 0.3716}   |\n",
      "|878   |2009-04-06|@yaykimo it's sad it's the last season.  i wanna see when spencer calls lauren!                                                                         |{'neg': 0.22, 'neu': 0.78, 'pos': 0.0, 'compound': -0.5255}    |\n",
      "|800006|2009-04-06|@r_keith_hill thans for your response. ihad already find this answer                                                                                    |{'neg': 0.0, 'neu': 1.0, 'pos': 0.0, 'compound': 0.0}          |\n",
      "|110   |2009-04-06|laying in bed with no voice..                                                                                                                           |{'neg': 0.306, 'neu': 0.694, 'pos': 0.0, 'compound': -0.296}   |\n",
      "+------+----------+--------------------------------------------------------------------------------------------------------------------------------------------------------+---------------------------------------------------------------+\n",
      "only showing top 20 rows\n",
      "\n"
     ]
    },
    {
     "name": "stderr",
     "output_type": "stream",
     "text": [
      "                                                                                \r"
     ]
    }
   ],
   "source": [
    "# Register the UDF for sentiment analysis\n",
    "analyze_sentiment_udf = udf(analyze_sentiment, StringType())\n",
    "\n",
    "# Apply sentiment analysis to the \"Tweet\" column and store the results in a new column\n",
    "cleaned_full_df = cleaned_full_df.withColumn(\"SentimentScores\", analyze_sentiment_udf(full_df[\"Tweet\"]))\n",
    "\n",
    "# Show the DataFrame with sentiment scores\n",
    "cleaned_full_df.select(\"ID\", \"Date\", \"Tweet\", \"SentimentScores\").show(truncate=False)"
   ]
  },
  {
   "cell_type": "code",
   "execution_count": 63,
   "id": "c86b876c",
   "metadata": {},
   "outputs": [
    {
     "name": "stderr",
     "output_type": "stream",
     "text": [
      "2023-10-24 17:27:02,922 WARN scheduler.TaskSetManager: Stage 76 contains a task of very large size (175832 KiB). The maximum recommended task size is 1000 KiB.\n",
      "2023-10-24 17:27:15,300 WARN scheduler.TaskSetManager: Stage 77 contains a task of very large size (175832 KiB). The maximum recommended task size is 1000 KiB.\n",
      "[Stage 77:>                                                         (0 + 1) / 1]\r"
     ]
    },
    {
     "name": "stdout",
     "output_type": "stream",
     "text": [
      "+------+----------+--------+--------------+---------------------------------------------------------------+\n",
      "|ID    |Date      |Time    |User          |SentimentScores                                                |\n",
      "+------+----------+--------+--------------+---------------------------------------------------------------+\n",
      "|769   |2009-04-06|23:11:56|sambg7777     |{'neg': 0.0, 'neu': 0.809, 'pos': 0.191, 'compound': 0.2235}   |\n",
      "|801251|2009-04-06|23:23:55|fieldsbooks   |{'neg': 0.0, 'neu': 0.881, 'pos': 0.119, 'compound': 0.3182}   |\n",
      "|801621|2009-04-06|23:43:49|_gnosis       |{'neg': 0.0, 'neu': 0.223, 'pos': 0.777, 'compound': 0.5399}   |\n",
      "|800409|2009-04-06|22:43:05|REV3AL        |{'neg': 0.0, 'neu': 1.0, 'pos': 0.0, 'compound': 0.0}          |\n",
      "|801810|2009-04-06|23:53:37|nabejero      |{'neg': 0.0, 'neu': 0.579, 'pos': 0.421, 'compound': 0.6249}   |\n",
      "|800536|2009-04-06|22:48:28|SilkCharm     |{'neg': 0.0, 'neu': 1.0, 'pos': 0.0, 'compound': 0.0}          |\n",
      "|1199  |2009-04-06|23:44:55|Syph0n        |{'neg': 0.259, 'neu': 0.741, 'pos': 0.0, 'compound': -0.4215}  |\n",
      "|23    |2009-04-06|22:20:40|viJILLante    |{'neg': 0.0, 'neu': 0.729, 'pos': 0.271, 'compound': 0.3818}   |\n",
      "|114   |2009-04-06|22:27:02|ashleyirvin   |{'neg': 0.0, 'neu': 0.282, 'pos': 0.718, 'compound': 0.6249}   |\n",
      "|800831|2009-04-06|23:03:31|zottarella    |{'neg': 0.084, 'neu': 0.763, 'pos': 0.153, 'compound': 0.4019} |\n",
      "|660   |2009-04-06|23:06:05|Nasef         |{'neg': 0.309, 'neu': 0.619, 'pos': 0.072, 'compound': -0.7845}|\n",
      "|893   |2009-04-06|23:21:45|lcmroz        |{'neg': 0.286, 'neu': 0.714, 'pos': 0.0, 'compound': -0.1531}  |\n",
      "|800730|2009-04-06|22:58:28|kayocean      |{'neg': 0.0, 'neu': 0.646, 'pos': 0.354, 'compound': 0.6588}   |\n",
      "|801669|2009-04-06|23:48:16|twilight_x3   |{'neg': 0.0, 'neu': 1.0, 'pos': 0.0, 'compound': 0.0}          |\n",
      "|1193  |2009-04-06|23:43:45|ShannaMoakler |{'neg': 0.0, 'neu': 0.667, 'pos': 0.333, 'compound': 0.7896}   |\n",
      "|53    |2009-04-06|22:22:30|justnetgirl   |{'neg': 0.106, 'neu': 0.894, 'pos': 0.0, 'compound': -0.2263}  |\n",
      "|987   |2009-04-06|23:28:02|grinc         |{'neg': 0.0, 'neu': 0.882, 'pos': 0.118, 'compound': 0.3716}   |\n",
      "|878   |2009-04-06|23:21:13|OhMyChristine |{'neg': 0.22, 'neu': 0.78, 'pos': 0.0, 'compound': -0.5255}    |\n",
      "|800006|2009-04-06|22:22:51|vmdavinci     |{'neg': 0.0, 'neu': 1.0, 'pos': 0.0, 'compound': 0.0}          |\n",
      "|110   |2009-04-06|22:26:54|missannabanana|{'neg': 0.306, 'neu': 0.694, 'pos': 0.0, 'compound': -0.296}   |\n",
      "+------+----------+--------+--------------+---------------------------------------------------------------+\n",
      "only showing top 20 rows\n",
      "\n"
     ]
    },
    {
     "name": "stderr",
     "output_type": "stream",
     "text": [
      "                                                                                \r"
     ]
    }
   ],
   "source": [
    "# Show the DataFrame with sentiment scores, excluding the \"Tweet\" column\n",
    "cleaned_full_df.select(\"ID\", \"Date\", \"Time\",\"User\",\"SentimentScores\").show(truncate=False)"
   ]
  },
  {
   "cell_type": "code",
   "execution_count": 70,
   "id": "0da935fb",
   "metadata": {},
   "outputs": [
    {
     "name": "stderr",
     "output_type": "stream",
     "text": [
      "2023-10-24 17:43:21,343 WARN scheduler.TaskSetManager: Stage 83 contains a task of very large size (175832 KiB). The maximum recommended task size is 1000 KiB.\n",
      "2023-10-24 17:43:30,276 WARN scheduler.TaskSetManager: Stage 84 contains a task of very large size (175832 KiB). The maximum recommended task size is 1000 KiB.\n",
      "[Stage 86:==============================================>       (171 + 1) / 200]\r"
     ]
    },
    {
     "name": "stdout",
     "output_type": "stream",
     "text": [
      "+----------+-------------+\n",
      "|Date      |AvgSentiment2|\n",
      "+----------+-------------+\n",
      "|2009-04-06|0.14         |\n",
      "|2009-04-07|0.16         |\n",
      "|2009-04-17|0.2          |\n",
      "|2009-04-18|0.18         |\n",
      "|2009-04-19|0.18         |\n",
      "|2009-04-20|0.17         |\n",
      "|2009-04-21|0.17         |\n",
      "|2009-05-01|0.18         |\n",
      "|2009-05-02|0.18         |\n",
      "|2009-05-03|0.17         |\n",
      "|2009-05-04|0.16         |\n",
      "|2009-05-09|0.18         |\n",
      "|2009-05-10|0.21         |\n",
      "|2009-05-11|0.16         |\n",
      "|2009-05-13|0.14         |\n",
      "|2009-05-14|0.17         |\n",
      "|2009-05-16|0.17         |\n",
      "|2009-05-17|0.2          |\n",
      "|2009-05-18|0.19         |\n",
      "|2009-05-21|0.18         |\n",
      "+----------+-------------+\n",
      "only showing top 20 rows\n",
      "\n"
     ]
    },
    {
     "name": "stderr",
     "output_type": "stream",
     "text": [
      "                                                                                \r"
     ]
    }
   ],
   "source": [
    "# extracting the \"compound\" value using regular expression\n",
    "cleaned_full_df = cleaned_full_df.withColumn(\"SentimentScore\", regexp_extract(col(\"SentimentScores\"), \"compound': (-?\\d+\\.\\d+)\", 1))\n",
    "\n",
    "# creating a new DataFrame with selected columns\n",
    "sentiment_df2 = cleaned_full_df.select(\"ID\", \"Date\", \"SentimentScore\")\n",
    "\n",
    "# Group by the \"Date\" column and calculate the average sentiment score for each day\n",
    "daily_avg_sentiment2 = sentiment_df2.groupBy(\"Date\").agg(avg(\"SentimentScore\").alias(\"AvgSentiment2\"))\n",
    "\n",
    "# Sort the DataFrame by date in ascending order\n",
    "daily_avg_sentiment2 = daily_avg_sentiment2.orderBy(\"Date\")\n",
    "\n",
    "# Round the \"AvgSentiment\" column to 2 decimal places\n",
    "daily_avg_sentiment2= daily_avg_sentiment2.withColumn(\"AvgSentiment2\", round(col(\"AvgSentiment2\"), 2))\n",
    "\n",
    "# Show the DataFrame with rounded average sentiment scores\n",
    "daily_avg_sentiment2.show(truncate=False)"
   ]
  },
  {
   "cell_type": "code",
   "execution_count": 71,
   "id": "1a7d39ab",
   "metadata": {},
   "outputs": [
    {
     "name": "stderr",
     "output_type": "stream",
     "text": [
      "2023-10-24 17:48:48,993 WARN scheduler.TaskSetManager: Stage 87 contains a task of very large size (175832 KiB). The maximum recommended task size is 1000 KiB.\n",
      "2023-10-24 17:48:56,538 WARN scheduler.TaskSetManager: Stage 88 contains a task of very large size (175832 KiB). The maximum recommended task size is 1000 KiB.\n",
      "2023-10-24 17:49:05,408 WARN scheduler.TaskSetManager: Stage 89 contains a task of very large size (175832 KiB). The maximum recommended task size is 1000 KiB.\n",
      "2023-10-24 17:49:15,013 WARN scheduler.TaskSetManager: Stage 91 contains a task of very large size (175832 KiB). The maximum recommended task size is 1000 KiB.\n",
      "2023-10-24 17:55:00,580 WARN scheduler.DAGScheduler: Broadcasting large task binary with size 1215.8 KiB\n",
      "2023-10-24 17:55:00,702 WARN scheduler.DAGScheduler: Broadcasting large task binary with size 1215.8 KiB\n",
      "2023-10-24 17:55:00,772 WARN scheduler.DAGScheduler: Broadcasting large task binary with size 1215.8 KiB\n",
      "2023-10-24 17:55:01,067 WARN scheduler.DAGScheduler: Broadcasting large task binary with size 1215.8 KiB\n",
      "                                                                                \r"
     ]
    },
    {
     "name": "stdout",
     "output_type": "stream",
     "text": [
      "+----------+------------+-------------+-------------------+\n",
      "|      Date|AvgSentiment|AvgSentiment2|SentimentDifference|\n",
      "+----------+------------+-------------+-------------------+\n",
      "|2009-06-23|       -0.05|        -0.05|                0.0|\n",
      "|2009-04-06|        0.14|         0.14|                0.0|\n",
      "|2009-04-18|        0.18|         0.18|                0.0|\n",
      "|2009-05-04|        0.16|         0.16|                0.0|\n",
      "|2009-06-20|       -0.04|        -0.04|                0.0|\n",
      "|2009-05-01|        0.18|         0.18|                0.0|\n",
      "|2009-05-27|        0.13|         0.13|                0.0|\n",
      "|2009-04-19|        0.18|         0.18|                0.0|\n",
      "|2009-05-16|        0.17|         0.17|                0.0|\n",
      "|2009-05-25|        0.18|         0.18|                0.0|\n",
      "|2009-06-18|       -0.05|        -0.05|                0.0|\n",
      "|2009-05-29|        0.18|         0.18|                0.0|\n",
      "|2009-06-04|        0.16|         0.16|                0.0|\n",
      "|2009-04-20|        0.17|         0.17|                0.0|\n",
      "|2009-06-03|        0.17|         0.17|                0.0|\n",
      "|2009-04-07|        0.16|         0.16|                0.0|\n",
      "|2009-04-21|        0.17|         0.17|                0.0|\n",
      "|2009-05-22|         0.2|          0.2|                0.0|\n",
      "|2009-06-22|       -0.06|        -0.06|                0.0|\n",
      "|2009-05-03|        0.17|         0.17|                0.0|\n",
      "+----------+------------+-------------+-------------------+\n",
      "only showing top 20 rows\n",
      "\n"
     ]
    }
   ],
   "source": [
    "\n",
    "from pyspark.sql import functions as F\n",
    "\n",
    "# Perform a left join\n",
    "merged_df = daily_avg_sentiment.join(\n",
    "    daily_avg_sentiment2,\n",
    "    on=[\"Date\"],\n",
    "    how=\"left\"\n",
    ")\n",
    "\n",
    "# Calculate the sentiment score difference\n",
    "merged_df = merged_df.withColumn(\"SentimentDifference\", F.col(\"AvgSentiment\") - F.col(\"AvgSentiment2\"))\n",
    "\n",
    "# Show the merged DataFrame\n",
    "merged_df.show()"
   ]
  },
  {
   "cell_type": "markdown",
   "id": "96bad326",
   "metadata": {},
   "source": [
    "## Sentiment analysis"
   ]
  },
  {
   "cell_type": "code",
   "execution_count": 73,
   "id": "85a50dbf",
   "metadata": {},
   "outputs": [
    {
     "name": "stderr",
     "output_type": "stream",
     "text": [
      "2023-10-24 19:28:10,818 WARN scheduler.TaskSetManager: Stage 113 contains a task of very large size (175832 KiB). The maximum recommended task size is 1000 KiB.\n",
      "2023-10-24 19:28:18,341 WARN scheduler.TaskSetManager: Stage 114 contains a task of very large size (175832 KiB). The maximum recommended task size is 1000 KiB.\n",
      "[Stage 115:====================================================>  (46 + 1) / 48]\r"
     ]
    },
    {
     "name": "stdout",
     "output_type": "stream",
     "text": [
      "+----------------+\n",
      "|AverageSentiment|\n",
      "+----------------+\n",
      "|          0.1399|\n",
      "+----------------+\n",
      "\n"
     ]
    },
    {
     "name": "stderr",
     "output_type": "stream",
     "text": [
      "                                                                                \r"
     ]
    }
   ],
   "source": [
    "from pyspark.sql.functions import avg, round\n",
    "\n",
    "# Calculate the average sentiment score for the entire dataset and round it to 4 decimal places\n",
    "average_sentiment = sentiment_df.agg(round(avg(\"SentimentScore\"), 4).alias(\"AverageSentiment\"))\n",
    "\n",
    "# Show the result\n",
    "average_sentiment.show()"
   ]
  },
  {
   "cell_type": "code",
   "execution_count": 121,
   "id": "67588c50",
   "metadata": {},
   "outputs": [
    {
     "data": {
      "image/png": "[encoded data removed]",
      "text/plain": [
       "<Figure size 432x288 with 1 Axes>"
      ]
     },
     "metadata": {},
     "output_type": "display_data"
    }
   ],
   "source": [
    "import matplotlib.pyplot as plt\n",
    "import numpy as np\n",
    "\n",
    "# Define the labels and corresponding values\n",
    "labels = ['', 'Negative', '','','','','','','','Neutral','','','','','','', 'Positive']\n",
    "values = [0.5, 0.03125,0.03125,0.03125,0.03125,0.03125,0.03125,0.03125,0.03125,\n",
    "         0.03125,0.03125,0.03125,0.03125,0.03125,0.03125,0.03125,0.03125,]\n",
    "\n",
    "# Define the colors for each segment\n",
    "colors = ['none', '#FF0000',  # Red\n",
    "    '#FF2200',  \n",
    "    '#FF4400',  \n",
    "    '#FF6600',\n",
    "    '#FF8800', \n",
    "    '#FFAA00', \n",
    "    '#FFCC00',  # Yellow\n",
    "    '#FFFF33',\n",
    "    '#FFFF66',\n",
    "    '#FFFF99',\n",
    "    '#FFFFCC',  \n",
    "    '#CCFFCC',\n",
    "    '#99FF99',\n",
    "    '#66FF66',\n",
    "    '#33FF33',\n",
    "    '#00FF00' ]\n",
    "\n",
    "# Create a pie chart with a 90-degree rotation\n",
    "plt.pie(values, labels=labels, colors=colors, startangle=0, counterclock=False, radius=1.5, wedgeprops={'width': 0.4})\n",
    "\n",
    "# Set the aspect ratio to ensure a circular shape\n",
    "plt.axis('equal')\n",
    "\n",
    "# Add a title and adjust the vertical position (y parameter)\n",
    "plt.title('Average sentiment score', y=1.08)\n",
    "\n",
    "# Annotate the specific value on the grey part\n",
    "plt.annotate('', xy=(-0.5, 0), fontsize=12, color='black', ha='center', va='center')\n",
    "\n",
    "# Adding a line from the center to the grey section at a 85 degree angle\n",
    "grey_radius = 0.8  \n",
    "angle = 85\n",
    "\n",
    "# Calculate the coordinates for the line\n",
    "x = [0, grey_radius * np.cos(np.radians(angle))]\n",
    "y = [0, grey_radius * np.sin(np.radians(angle))]\n",
    "\n",
    "\n",
    "plt.annotate('1', xy=(0.9, 0.05), fontsize=12, color='black')\n",
    "plt.annotate('0.14', xy=(0.1, .85), fontsize=12, color='black')\n",
    "#plt.annotate('-0.5', xy=(-0.5, .8), fontsize=12, color='black')\n",
    "plt.annotate('-1', xy=(-1, 0.05), fontsize=12, color='black')\n",
    "\n",
    "# Plot the line\n",
    "plt.plot(x, y, color='black', linestyle='--', linewidth=1)\n",
    "\n",
    "# Display the chart\n",
    "plt.show()"
   ]
  },
  {
   "cell_type": "code",
   "execution_count": 125,
   "id": "90f247b0",
   "metadata": {},
   "outputs": [
    {
     "name": "stderr",
     "output_type": "stream",
     "text": [
      "2023-10-25 16:03:39,590 WARN scheduler.TaskSetManager: Stage 117 contains a task of very large size (175832 KiB). The maximum recommended task size is 1000 KiB.\n",
      "2023-10-25 16:04:17,766 WARN scheduler.TaskSetManager: Stage 118 contains a task of very large size (175832 KiB). The maximum recommended task size is 1000 KiB.\n",
      "                                                                                \r"
     ]
    },
    {
     "name": "stdout",
     "output_type": "stream",
     "text": [
      "Dickey Fuller p-value: 0.9435568095336734\n",
      "The data is likely non-stationary.\n"
     ]
    }
   ],
   "source": [
    "from statsmodels.tsa.stattools import adfuller\n",
    "\n",
    "from statsmodels.tsa.stattools import adfuller\n",
    "\n",
    "# Convert the column to a list\n",
    "avg_sentiment_list = daily_avg_sentiment.select(\"AvgSentiment\").rdd.flatMap(lambda x: x).collect()\n",
    "\n",
    "# Convert the list to a NumPy array\n",
    "avg_sentiment_values = np.array(avg_sentiment_list)\n",
    "\n",
    "# Perform ADF test on the values\n",
    "stationarity = adfuller(avg_sentiment_values)\n",
    "\n",
    "# Interpret the result\n",
    "print('Dickey Fuller p-value:', stationarity[1])\n",
    "\n",
    "# Check for stationarity based on the p-value\n",
    "if stationarity[1] <= 0.05:\n",
    "    print('The data is likely stationary.')\n",
    "else:\n",
    "    print('The data is likely non-stationary.')"
   ]
  },
  {
   "cell_type": "code",
   "execution_count": null,
   "id": "a106d6cd",
   "metadata": {},
   "outputs": [],
   "source": []
  },
  {
   "cell_type": "markdown",
   "id": "9ebe13c1",
   "metadata": {},
   "source": [
    "### Creating data to save it into Cassandra"
   ]
  },
  {
   "cell_type": "code",
   "execution_count": 136,
   "id": "e1594641",
   "metadata": {},
   "outputs": [
    {
     "name": "stderr",
     "output_type": "stream",
     "text": [
      "2023-10-25 17:05:36,621 WARN scheduler.TaskSetManager: Stage 140 contains a task of very large size (175832 KiB). The maximum recommended task size is 1000 KiB.\n",
      "[Stage 140:>                                                        (0 + 1) / 1]\r"
     ]
    },
    {
     "name": "stdout",
     "output_type": "stream",
     "text": [
      "+----------+------+--------------+\n",
      "|      Date|    ID|SentimentScore|\n",
      "+----------+------+--------------+\n",
      "|2009-05-13| 95058|        0.6199|\n",
      "|2009-05-13|933726|        0.8701|\n",
      "|2009-05-13|933073|        0.0772|\n",
      "|2009-05-13|933904|        0.4927|\n",
      "|2009-05-13| 96353|       -0.6858|\n",
      "|2009-05-13| 96482|       -0.4215|\n",
      "|2009-05-13|934039|        0.2885|\n",
      "|2009-05-13|933159|           0.0|\n",
      "|2009-05-13|935203|        0.8398|\n",
      "|2009-05-13| 96545|        0.4576|\n",
      "|2009-05-13|934643|       -0.2263|\n",
      "|2009-05-13| 95288|       -0.5179|\n",
      "|2009-05-13| 95800|        0.4588|\n",
      "|2009-05-13|934008|         0.204|\n",
      "|2009-05-13| 96712|           0.0|\n",
      "|2009-05-13|934225|        0.3612|\n",
      "|2009-05-13| 96641|         -0.34|\n",
      "|2009-05-13|933471|        0.5707|\n",
      "|2009-05-13| 95883|        0.2382|\n",
      "|2009-05-13|933760|       -0.7506|\n",
      "+----------+------+--------------+\n",
      "only showing top 20 rows\n",
      "\n"
     ]
    },
    {
     "name": "stderr",
     "output_type": "stream",
     "text": [
      "                                                                                \r"
     ]
    }
   ],
   "source": [
    "# Merge date_df with sentiment_df using a left join on the 'Date' column\n",
    "Cassandra = date_df.join(sentiment_df, 'Date', 'left')\n",
    "Cassandra.show()"
   ]
  },
  {
   "cell_type": "code",
   "execution_count": 138,
   "id": "d67c017b",
   "metadata": {},
   "outputs": [
    {
     "name": "stderr",
     "output_type": "stream",
     "text": [
      "2023-10-25 17:49:53,668 WARN scheduler.TaskSetManager: Stage 147 contains a task of very large size (175832 KiB). The maximum recommended task size is 1000 KiB.\n",
      "                                                                                \r"
     ]
    },
    {
     "name": "stdout",
     "output_type": "stream",
     "text": [
      "+----------+----+--------------+\n",
      "|      Date|  ID|SentimentScore|\n",
      "+----------+----+--------------+\n",
      "|2009-04-08|null|          null|\n",
      "+----------+----+--------------+\n",
      "\n"
     ]
    },
    {
     "name": "stderr",
     "output_type": "stream",
     "text": [
      "                                                                                \r"
     ]
    }
   ],
   "source": [
    "# checking Cassandra table for row with not tweet (sentiment)\n",
    "\n",
    "filtered_row = Cassandra.where(Cassandra['Date'] == '2009-04-08')\n",
    "filtered_row.show()"
   ]
  },
  {
   "cell_type": "code",
   "execution_count": null,
   "id": "0d706fcb",
   "metadata": {},
   "outputs": [],
   "source": []
  },
  {
   "cell_type": "code",
   "execution_count": 167,
   "id": "f6d3aef0",
   "metadata": {},
   "outputs": [
    {
     "name": "stdout",
     "output_type": "stream",
     "text": [
      "Cassandra Host: localhost\n"
     ]
    }
   ],
   "source": [
    "spark = SparkSession.builder \\\n",
    "    .appName('CassandraToSpark') \\\n",
    "    .config('spark.cassandra.connection.host', 'localhost') \\\n",
    "    .config('spark.jars.packages', 'com.datastax.spark:spark-cassandra-connector_2.11:3.1.0') \\\n",
    "    .getOrCreate()\n",
    "\n",
    "\n",
    "cassandra_host = spark.conf.get('spark.cassandra.connection.host')\n",
    "print(\"Cassandra Host:\", cassandra_host)\n",
    "\n",
    "\n",
    "spark = SparkSession.builder \\\n",
    "    .appName(\"CassandraSparkIntegration\") \\\n",
    "    .getOrCreate()\n",
    "\n",
    "cassandra_cluster = Cluster(['127.0.0.1'], port=9042)\n",
    "session = cassandra_cluster.connect()\n",
    "\n",
    "keyspace = 'tweeter_data'  \n",
    "session.set_keyspace(keyspace)\n",
    "\n",
    "cql_query = \"SELECT * FROM tweets LIMIT 5\"\n",
    "rows = session.execute(cql_query)"
   ]
  },
  {
   "cell_type": "code",
   "execution_count": 168,
   "id": "f54c7e3f",
   "metadata": {},
   "outputs": [
    {
     "data": {
      "text/plain": [
       "Row(id=302602, date=datetime.datetime(2009, 6, 1, 19, 37, 16), tweet='Had problems with my eyes all day. This sux! ', tweet_id=1999088121, user='Bobina11')"
      ]
     },
     "execution_count": 168,
     "metadata": {},
     "output_type": "execute_result"
    }
   ],
   "source": [
    "df2 = spark.createDataFrame(rows)\n",
    "df2.head()"
   ]
  },
  {
   "cell_type": "code",
   "execution_count": 173,
   "id": "e4096d8a",
   "metadata": {},
   "outputs": [],
   "source": [
    "cql_query = \"CREATE TABLE IF NOT EXISTS tweeter_data.test (Date DATE PRIMARY KEY, ID INT, SentimentScore FLOAT)\"\n"
   ]
  },
  {
   "cell_type": "code",
   "execution_count": 183,
   "id": "181097c2",
   "metadata": {
    "scrolled": true
   },
   "outputs": [
    {
     "name": "stderr",
     "output_type": "stream",
     "text": [
      "                                                                                \r"
     ]
    },
    {
     "data": {
      "text/plain": [
       "Row(id=302602, date=datetime.datetime(2009, 6, 1, 19, 37, 16), tweet='Had problems with my eyes all day. This sux! ', tweet_id=1999088121, user='Bobina11')"
      ]
     },
     "execution_count": 183,
     "metadata": {},
     "output_type": "execute_result"
    }
   ],
   "source": [
    "# Define your CQL query\n",
    "cql_query = \"SELECT * FROM tweets LIMIT 10\"\n",
    "\n",
    "rows = session.execute(cql_query)\n",
    "\n",
    "df2 = spark.createDataFrame(rows)\n",
    "df2.head()"
   ]
  },
  {
   "cell_type": "code",
   "execution_count": 184,
   "id": "aa801d9b",
   "metadata": {},
   "outputs": [
    {
     "name": "stdout",
     "output_type": "stream",
     "text": [
      "+-------+-------------------+--------------------+----------+---------------+\n",
      "|     ID|               Date|               Tweet|  Tweet_ID|           User|\n",
      "+-------+-------------------+--------------------+----------+---------------+\n",
      "| 302602|2009-06-01 19:37:16|Had problems with...|1999088121|       Bobina11|\n",
      "| 531141|2009-06-16 12:10:07|don't fall unless...|2196209437|rosie_carter427|\n",
      "|1416569|2009-06-06 13:00:30|Nice afternoon fo...|2057439493|     zuluranger|\n",
      "| 693077|2009-06-20 06:42:25|miss you batang K...|2252644159| chocomallows19|\n",
      "|   4317|2009-04-07 03:45:16|Oh no  more babys...|1468791098|       tynie626|\n",
      "| 927961|2009-05-10 19:06:23|@sayitwithecards ...|1759389622|        Muse4u2|\n",
      "| 313395|2009-06-02 01:55:11|i'm pooping mysel...|2001742430|   _amberlovely|\n",
      "|1133667|2009-05-30 16:50:08|@Ladiejay I lik t...|1976213404|        iamword|\n",
      "|1347669|2009-06-05 09:37:16|jewwcrew reunion!...|2044631753|        SPBobo2|\n",
      "|1191314|2009-05-31 13:59:13|    At baccalareate |1983864195| ohimagummybear|\n",
      "+-------+-------------------+--------------------+----------+---------------+\n",
      "\n"
     ]
    }
   ],
   "source": [
    "# Select and alias the fields\n",
    "new_df2 = df2.select(\n",
    "    col(\"id\").alias(\"ID\"),\n",
    "    col(\"date\").alias(\"Date\"),\n",
    "    col(\"tweet\").alias(\"Tweet\"),\n",
    "    col(\"tweet_id\").alias(\"Tweet_ID\"),\n",
    "    col(\"user\").alias(\"User\")\n",
    ")\n",
    "\n",
    "# Show the new DataFrame\n",
    "new_df2.show()"
   ]
  },
  {
   "cell_type": "code",
   "execution_count": 196,
   "id": "52d84cae",
   "metadata": {},
   "outputs": [],
   "source": [
    "data = [(1, 'John', 30), (2, 'Alice', 28), (3, 'Bob', 35)]\n",
    "columns = ['id', 'name', 'age']\n",
    "\n",
    "df = spark.createDataFrame(data, columns)"
   ]
  },
  {
   "cell_type": "code",
   "execution_count": 197,
   "id": "955b3c80",
   "metadata": {},
   "outputs": [],
   "source": [
    "### creating table in cassandra\n",
    "from pyspark.sql import SparkSession\n",
    "\n",
    "spark = SparkSession.builder \\\n",
    "    .appName('CassandraToSpark') \\\n",
    "    .config('spark.cassandra.connection.host', 'localhost') \\\n",
    "    .config('spark.jars.packages', 'com.datastax.spark:spark-cassandra-connector_2.11:3.1.0') \\\n",
    "    .getOrCreate()\n",
    "\n",
    "# Define the Cassandra keyspace and table names\n",
    "keyspace = \"tweeter_data\"\n",
    "table = \"table\"\n",
    "\n"
   ]
  },
  {
   "cell_type": "code",
   "execution_count": 200,
   "id": "d74a63a3",
   "metadata": {},
   "outputs": [
    {
     "ename": "ParseException",
     "evalue": "\nmismatched input 'id' expecting INTEGER_VALUE(line 2, pos 89)\n\n== SQL ==\n\n    CREATE TABLE IF NOT EXISTS tweeter_data.table (id INT,name TEXT,age INT,PRIMARY KEY (id INT))\n-----------------------------------------------------------------------------------------^^^\n",
     "output_type": "error",
     "traceback": [
      "\u001b[0;31m---------------------------------------------------------------------------\u001b[0m",
      "\u001b[0;31mParseException\u001b[0m                            Traceback (most recent call last)",
      "\u001b[0;32m/tmp/ipykernel_11487/476446298.py\u001b[0m in \u001b[0;36m<module>\u001b[0;34m\u001b[0m\n\u001b[1;32m      6\u001b[0m \u001b[0;34m\u001b[0m\u001b[0m\n\u001b[1;32m      7\u001b[0m \u001b[0;31m# Execute the CREATE TABLE statement\u001b[0m\u001b[0;34m\u001b[0m\u001b[0;34m\u001b[0m\u001b[0m\n\u001b[0;32m----> 8\u001b[0;31m \u001b[0mspark\u001b[0m\u001b[0;34m.\u001b[0m\u001b[0msql\u001b[0m\u001b[0;34m(\u001b[0m\u001b[0mschema\u001b[0m\u001b[0;34m)\u001b[0m\u001b[0;34m\u001b[0m\u001b[0;34m\u001b[0m\u001b[0m\n\u001b[0m\u001b[1;32m      9\u001b[0m \u001b[0;34m\u001b[0m\u001b[0m\n\u001b[1;32m     10\u001b[0m \u001b[0;31m# Verify that the table has been created\u001b[0m\u001b[0;34m\u001b[0m\u001b[0;34m\u001b[0m\u001b[0m\n",
      "\u001b[0;32m/usr/local/spark/python/pyspark/sql/session.py\u001b[0m in \u001b[0;36msql\u001b[0;34m(self, sqlQuery)\u001b[0m\n\u001b[1;32m    721\u001b[0m         \u001b[0;34m[\u001b[0m\u001b[0mRow\u001b[0m\u001b[0;34m(\u001b[0m\u001b[0mf1\u001b[0m\u001b[0;34m=\u001b[0m\u001b[0;36m1\u001b[0m\u001b[0;34m,\u001b[0m \u001b[0mf2\u001b[0m\u001b[0;34m=\u001b[0m\u001b[0;34m'row1'\u001b[0m\u001b[0;34m)\u001b[0m\u001b[0;34m,\u001b[0m \u001b[0mRow\u001b[0m\u001b[0;34m(\u001b[0m\u001b[0mf1\u001b[0m\u001b[0;34m=\u001b[0m\u001b[0;36m2\u001b[0m\u001b[0;34m,\u001b[0m \u001b[0mf2\u001b[0m\u001b[0;34m=\u001b[0m\u001b[0;34m'row2'\u001b[0m\u001b[0;34m)\u001b[0m\u001b[0;34m,\u001b[0m \u001b[0mRow\u001b[0m\u001b[0;34m(\u001b[0m\u001b[0mf1\u001b[0m\u001b[0;34m=\u001b[0m\u001b[0;36m3\u001b[0m\u001b[0;34m,\u001b[0m \u001b[0mf2\u001b[0m\u001b[0;34m=\u001b[0m\u001b[0;34m'row3'\u001b[0m\u001b[0;34m)\u001b[0m\u001b[0;34m]\u001b[0m\u001b[0;34m\u001b[0m\u001b[0;34m\u001b[0m\u001b[0m\n\u001b[1;32m    722\u001b[0m         \"\"\"\n\u001b[0;32m--> 723\u001b[0;31m         \u001b[0;32mreturn\u001b[0m \u001b[0mDataFrame\u001b[0m\u001b[0;34m(\u001b[0m\u001b[0mself\u001b[0m\u001b[0;34m.\u001b[0m\u001b[0m_jsparkSession\u001b[0m\u001b[0;34m.\u001b[0m\u001b[0msql\u001b[0m\u001b[0;34m(\u001b[0m\u001b[0msqlQuery\u001b[0m\u001b[0;34m)\u001b[0m\u001b[0;34m,\u001b[0m \u001b[0mself\u001b[0m\u001b[0;34m.\u001b[0m\u001b[0m_wrapped\u001b[0m\u001b[0;34m)\u001b[0m\u001b[0;34m\u001b[0m\u001b[0;34m\u001b[0m\u001b[0m\n\u001b[0m\u001b[1;32m    724\u001b[0m \u001b[0;34m\u001b[0m\u001b[0m\n\u001b[1;32m    725\u001b[0m     \u001b[0;32mdef\u001b[0m \u001b[0mtable\u001b[0m\u001b[0;34m(\u001b[0m\u001b[0mself\u001b[0m\u001b[0;34m,\u001b[0m \u001b[0mtableName\u001b[0m\u001b[0;34m)\u001b[0m\u001b[0;34m:\u001b[0m\u001b[0;34m\u001b[0m\u001b[0;34m\u001b[0m\u001b[0m\n",
      "\u001b[0;32m/usr/local/spark/python/lib/py4j-0.10.9-src.zip/py4j/java_gateway.py\u001b[0m in \u001b[0;36m__call__\u001b[0;34m(self, *args)\u001b[0m\n\u001b[1;32m   1302\u001b[0m \u001b[0;34m\u001b[0m\u001b[0m\n\u001b[1;32m   1303\u001b[0m         \u001b[0manswer\u001b[0m \u001b[0;34m=\u001b[0m \u001b[0mself\u001b[0m\u001b[0;34m.\u001b[0m\u001b[0mgateway_client\u001b[0m\u001b[0;34m.\u001b[0m\u001b[0msend_command\u001b[0m\u001b[0;34m(\u001b[0m\u001b[0mcommand\u001b[0m\u001b[0;34m)\u001b[0m\u001b[0;34m\u001b[0m\u001b[0;34m\u001b[0m\u001b[0m\n\u001b[0;32m-> 1304\u001b[0;31m         return_value = get_return_value(\n\u001b[0m\u001b[1;32m   1305\u001b[0m             answer, self.gateway_client, self.target_id, self.name)\n\u001b[1;32m   1306\u001b[0m \u001b[0;34m\u001b[0m\u001b[0m\n",
      "\u001b[0;32m/usr/local/spark/python/pyspark/sql/utils.py\u001b[0m in \u001b[0;36mdeco\u001b[0;34m(*a, **kw)\u001b[0m\n\u001b[1;32m    115\u001b[0m                 \u001b[0;31m# Hide where the exception came from that shows a non-Pythonic\u001b[0m\u001b[0;34m\u001b[0m\u001b[0;34m\u001b[0m\u001b[0m\n\u001b[1;32m    116\u001b[0m                 \u001b[0;31m# JVM exception message.\u001b[0m\u001b[0;34m\u001b[0m\u001b[0;34m\u001b[0m\u001b[0m\n\u001b[0;32m--> 117\u001b[0;31m                 \u001b[0;32mraise\u001b[0m \u001b[0mconverted\u001b[0m \u001b[0;32mfrom\u001b[0m \u001b[0;32mNone\u001b[0m\u001b[0;34m\u001b[0m\u001b[0;34m\u001b[0m\u001b[0m\n\u001b[0m\u001b[1;32m    118\u001b[0m             \u001b[0;32melse\u001b[0m\u001b[0;34m:\u001b[0m\u001b[0;34m\u001b[0m\u001b[0;34m\u001b[0m\u001b[0m\n\u001b[1;32m    119\u001b[0m                 \u001b[0;32mraise\u001b[0m\u001b[0;34m\u001b[0m\u001b[0;34m\u001b[0m\u001b[0m\n",
      "\u001b[0;31mParseException\u001b[0m: \nmismatched input 'id' expecting INTEGER_VALUE(line 2, pos 89)\n\n== SQL ==\n\n    CREATE TABLE IF NOT EXISTS tweeter_data.table (id INT,name TEXT,age INT,PRIMARY KEY (id INT))\n-----------------------------------------------------------------------------------------^^^\n"
     ]
    }
   ],
   "source": [
    "\n",
    "# Define the schema for your Cassandra table\n",
    "# Replace the column names and data types with your own\n",
    "schema = f\"\"\"\n",
    "    CREATE TABLE IF NOT EXISTS {keyspace}.{table} (id INT,name TEXT,age INT,PRIMARY KEY (id INT))\n",
    "\"\"\"\n",
    "\n",
    "# Execute the CREATE TABLE statement\n",
    "spark.sql(schema)\n",
    "\n",
    "# Verify that the table has been created\n",
    "spark.sql(f\"DESCRIBE TABLE {keyspace}.{table}\").show()"
   ]
  },
  {
   "cell_type": "code",
   "execution_count": null,
   "id": "0babda1d",
   "metadata": {},
   "outputs": [],
   "source": []
  }
 ],
 "metadata": {
  "kernelspec": {
   "display_name": "Python 3 (ipykernel)",
   "language": "python",
   "name": "python3"
  },
  "language_info": {
   "codemirror_mode": {
    "name": "ipython",
    "version": 3
   },
   "file_extension": ".py",
   "mimetype": "text/x-python",
   "name": "python",
   "nbconvert_exporter": "python",
   "pygments_lexer": "ipython3",
   "version": "3.10.4"
  }
 },
 "nbformat": 4,
 "nbformat_minor": 5
}
